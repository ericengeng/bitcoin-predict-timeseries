{
  "cells": [
    {
      "cell_type": "markdown",
      "metadata": {
        "id": "MWSa6hVH1TZ6"
      },
      "source": [
        "# Bitpredict"
      ]
    },
    {
      "cell_type": "markdown",
      "metadata": {
        "id": "zZW8wSBX1WFe"
      },
      "source": [
        "We want to create a time series model to predict the price of Bitcoin.  This project is not something I have used to deploy anything in the world, it was a hands-on work with a time series project.  This code is a project adapted from the Udemy course TensorFlow Developer Certificate in 2023: Zero to Mastery."
      ]
    },
    {
      "cell_type": "markdown",
      "metadata": {
        "id": "1ad-uTgf1oJK"
      },
      "source": [
        "## Access our Data"
      ]
    },
    {
      "cell_type": "code",
      "execution_count": null,
      "metadata": {
        "colab": {
          "base_uri": "https://localhost:8080/"
        },
        "id": "2Qqb593h4l1q",
        "outputId": "d47f6cbe-7366-4f56-9ed6-f8cdc912c395"
      },
      "outputs": [
        {
          "output_type": "stream",
          "name": "stdout",
          "text": [
            "Looking in indexes: https://pypi.org/simple, https://us-python.pkg.dev/colab-wheels/public/simple/\n",
            "Collecting cryptocmd\n",
            "  Downloading cryptocmd-0.6.1-py3-none-any.whl (8.5 kB)\n",
            "Requirement already satisfied: requests in /usr/local/lib/python3.10/dist-packages (from cryptocmd) (2.27.1)\n",
            "Collecting tablib (from cryptocmd)\n",
            "  Downloading tablib-3.4.0-py3-none-any.whl (45 kB)\n",
            "\u001b[2K     \u001b[90m━━━━━━━━━━━━━━━━━━━━━━━━━━━━━━━━━━━━━━━━\u001b[0m \u001b[32m45.5/45.5 kB\u001b[0m \u001b[31m4.5 MB/s\u001b[0m eta \u001b[36m0:00:00\u001b[0m\n",
            "\u001b[?25hRequirement already satisfied: urllib3<1.27,>=1.21.1 in /usr/local/lib/python3.10/dist-packages (from requests->cryptocmd) (1.26.15)\n",
            "Requirement already satisfied: certifi>=2017.4.17 in /usr/local/lib/python3.10/dist-packages (from requests->cryptocmd) (2022.12.7)\n",
            "Requirement already satisfied: charset-normalizer~=2.0.0 in /usr/local/lib/python3.10/dist-packages (from requests->cryptocmd) (2.0.12)\n",
            "Requirement already satisfied: idna<4,>=2.5 in /usr/local/lib/python3.10/dist-packages (from requests->cryptocmd) (3.4)\n",
            "Installing collected packages: tablib, cryptocmd\n",
            "Successfully installed cryptocmd-0.6.1 tablib-3.4.0\n"
          ]
        }
      ],
      "source": [
        "!pip install cryptocmd\n",
        "from cryptocmd import CmcScraper\n",
        "import pandas as pd"
      ]
    },
    {
      "cell_type": "code",
      "execution_count": null,
      "metadata": {
        "id": "ABr7_vQ04skN"
      },
      "outputs": [],
      "source": [
        "scraper = CmcScraper(\"BTC\")"
      ]
    },
    {
      "cell_type": "code",
      "execution_count": null,
      "metadata": {
        "id": "PulDFspJ4xd4"
      },
      "outputs": [],
      "source": [
        "df = scraper.get_dataframe(date_as_index=True)"
      ]
    },
    {
      "cell_type": "code",
      "execution_count": null,
      "metadata": {
        "colab": {
          "base_uri": "https://localhost:8080/",
          "height": 235
        },
        "id": "XgsUYy7N41J2",
        "outputId": "a48d2916-d4c0-42da-d9e9-fb79b9910c52"
      },
      "outputs": [
        {
          "output_type": "execute_result",
          "data": {
            "text/plain": [
              "                    Open          High           Low         Close  \\\n",
              "Date                                                                 \n",
              "2023-06-04  27075.122073  27407.018570  26968.224141  27119.067193   \n",
              "2023-06-03  27252.323333  27317.051854  26958.003740  27075.129398   \n",
              "2023-06-02  26824.556981  27303.861687  26574.644421  27249.588949   \n",
              "2023-06-01  27218.412376  27346.105483  26671.721156  26819.973220   \n",
              "2023-05-31  27700.530089  27831.677804  26866.453944  27219.658608   \n",
              "\n",
              "                  Volume    Market Cap  \n",
              "Date                                    \n",
              "2023-06-04  9.360912e+09  5.259202e+11  \n",
              "2023-06-03  8.385597e+09  5.250436e+11  \n",
              "2023-06-02  1.483741e+10  5.284044e+11  \n",
              "2023-06-01  1.467897e+10  5.200450e+11  \n",
              "2023-05-31  1.565637e+10  5.277732e+11  "
            ],
            "text/html": [
              "\n",
              "  <div id=\"df-d6d7cae1-677d-489f-a1b7-666018df5129\">\n",
              "    <div class=\"colab-df-container\">\n",
              "      <div>\n",
              "<style scoped>\n",
              "    .dataframe tbody tr th:only-of-type {\n",
              "        vertical-align: middle;\n",
              "    }\n",
              "\n",
              "    .dataframe tbody tr th {\n",
              "        vertical-align: top;\n",
              "    }\n",
              "\n",
              "    .dataframe thead th {\n",
              "        text-align: right;\n",
              "    }\n",
              "</style>\n",
              "<table border=\"1\" class=\"dataframe\">\n",
              "  <thead>\n",
              "    <tr style=\"text-align: right;\">\n",
              "      <th></th>\n",
              "      <th>Open</th>\n",
              "      <th>High</th>\n",
              "      <th>Low</th>\n",
              "      <th>Close</th>\n",
              "      <th>Volume</th>\n",
              "      <th>Market Cap</th>\n",
              "    </tr>\n",
              "    <tr>\n",
              "      <th>Date</th>\n",
              "      <th></th>\n",
              "      <th></th>\n",
              "      <th></th>\n",
              "      <th></th>\n",
              "      <th></th>\n",
              "      <th></th>\n",
              "    </tr>\n",
              "  </thead>\n",
              "  <tbody>\n",
              "    <tr>\n",
              "      <th>2023-06-04</th>\n",
              "      <td>27075.122073</td>\n",
              "      <td>27407.018570</td>\n",
              "      <td>26968.224141</td>\n",
              "      <td>27119.067193</td>\n",
              "      <td>9.360912e+09</td>\n",
              "      <td>5.259202e+11</td>\n",
              "    </tr>\n",
              "    <tr>\n",
              "      <th>2023-06-03</th>\n",
              "      <td>27252.323333</td>\n",
              "      <td>27317.051854</td>\n",
              "      <td>26958.003740</td>\n",
              "      <td>27075.129398</td>\n",
              "      <td>8.385597e+09</td>\n",
              "      <td>5.250436e+11</td>\n",
              "    </tr>\n",
              "    <tr>\n",
              "      <th>2023-06-02</th>\n",
              "      <td>26824.556981</td>\n",
              "      <td>27303.861687</td>\n",
              "      <td>26574.644421</td>\n",
              "      <td>27249.588949</td>\n",
              "      <td>1.483741e+10</td>\n",
              "      <td>5.284044e+11</td>\n",
              "    </tr>\n",
              "    <tr>\n",
              "      <th>2023-06-01</th>\n",
              "      <td>27218.412376</td>\n",
              "      <td>27346.105483</td>\n",
              "      <td>26671.721156</td>\n",
              "      <td>26819.973220</td>\n",
              "      <td>1.467897e+10</td>\n",
              "      <td>5.200450e+11</td>\n",
              "    </tr>\n",
              "    <tr>\n",
              "      <th>2023-05-31</th>\n",
              "      <td>27700.530089</td>\n",
              "      <td>27831.677804</td>\n",
              "      <td>26866.453944</td>\n",
              "      <td>27219.658608</td>\n",
              "      <td>1.565637e+10</td>\n",
              "      <td>5.277732e+11</td>\n",
              "    </tr>\n",
              "  </tbody>\n",
              "</table>\n",
              "</div>\n",
              "      <button class=\"colab-df-convert\" onclick=\"convertToInteractive('df-d6d7cae1-677d-489f-a1b7-666018df5129')\"\n",
              "              title=\"Convert this dataframe to an interactive table.\"\n",
              "              style=\"display:none;\">\n",
              "        \n",
              "  <svg xmlns=\"http://www.w3.org/2000/svg\" height=\"24px\"viewBox=\"0 0 24 24\"\n",
              "       width=\"24px\">\n",
              "    <path d=\"M0 0h24v24H0V0z\" fill=\"none\"/>\n",
              "    <path d=\"M18.56 5.44l.94 2.06.94-2.06 2.06-.94-2.06-.94-.94-2.06-.94 2.06-2.06.94zm-11 1L8.5 8.5l.94-2.06 2.06-.94-2.06-.94L8.5 2.5l-.94 2.06-2.06.94zm10 10l.94 2.06.94-2.06 2.06-.94-2.06-.94-.94-2.06-.94 2.06-2.06.94z\"/><path d=\"M17.41 7.96l-1.37-1.37c-.4-.4-.92-.59-1.43-.59-.52 0-1.04.2-1.43.59L10.3 9.45l-7.72 7.72c-.78.78-.78 2.05 0 2.83L4 21.41c.39.39.9.59 1.41.59.51 0 1.02-.2 1.41-.59l7.78-7.78 2.81-2.81c.8-.78.8-2.07 0-2.86zM5.41 20L4 18.59l7.72-7.72 1.47 1.35L5.41 20z\"/>\n",
              "  </svg>\n",
              "      </button>\n",
              "      \n",
              "  <style>\n",
              "    .colab-df-container {\n",
              "      display:flex;\n",
              "      flex-wrap:wrap;\n",
              "      gap: 12px;\n",
              "    }\n",
              "\n",
              "    .colab-df-convert {\n",
              "      background-color: #E8F0FE;\n",
              "      border: none;\n",
              "      border-radius: 50%;\n",
              "      cursor: pointer;\n",
              "      display: none;\n",
              "      fill: #1967D2;\n",
              "      height: 32px;\n",
              "      padding: 0 0 0 0;\n",
              "      width: 32px;\n",
              "    }\n",
              "\n",
              "    .colab-df-convert:hover {\n",
              "      background-color: #E2EBFA;\n",
              "      box-shadow: 0px 1px 2px rgba(60, 64, 67, 0.3), 0px 1px 3px 1px rgba(60, 64, 67, 0.15);\n",
              "      fill: #174EA6;\n",
              "    }\n",
              "\n",
              "    [theme=dark] .colab-df-convert {\n",
              "      background-color: #3B4455;\n",
              "      fill: #D2E3FC;\n",
              "    }\n",
              "\n",
              "    [theme=dark] .colab-df-convert:hover {\n",
              "      background-color: #434B5C;\n",
              "      box-shadow: 0px 1px 3px 1px rgba(0, 0, 0, 0.15);\n",
              "      filter: drop-shadow(0px 1px 2px rgba(0, 0, 0, 0.3));\n",
              "      fill: #FFFFFF;\n",
              "    }\n",
              "  </style>\n",
              "\n",
              "      <script>\n",
              "        const buttonEl =\n",
              "          document.querySelector('#df-d6d7cae1-677d-489f-a1b7-666018df5129 button.colab-df-convert');\n",
              "        buttonEl.style.display =\n",
              "          google.colab.kernel.accessAllowed ? 'block' : 'none';\n",
              "\n",
              "        async function convertToInteractive(key) {\n",
              "          const element = document.querySelector('#df-d6d7cae1-677d-489f-a1b7-666018df5129');\n",
              "          const dataTable =\n",
              "            await google.colab.kernel.invokeFunction('convertToInteractive',\n",
              "                                                     [key], {});\n",
              "          if (!dataTable) return;\n",
              "\n",
              "          const docLinkHtml = 'Like what you see? Visit the ' +\n",
              "            '<a target=\"_blank\" href=https://colab.research.google.com/notebooks/data_table.ipynb>data table notebook</a>'\n",
              "            + ' to learn more about interactive tables.';\n",
              "          element.innerHTML = '';\n",
              "          dataTable['output_type'] = 'display_data';\n",
              "          await google.colab.output.renderOutput(dataTable, element);\n",
              "          const docLink = document.createElement('div');\n",
              "          docLink.innerHTML = docLinkHtml;\n",
              "          element.appendChild(docLink);\n",
              "        }\n",
              "      </script>\n",
              "    </div>\n",
              "  </div>\n",
              "  "
            ]
          },
          "metadata": {},
          "execution_count": 4
        }
      ],
      "source": [
        "df.head()"
      ]
    },
    {
      "cell_type": "code",
      "execution_count": null,
      "metadata": {
        "colab": {
          "base_uri": "https://localhost:8080/"
        },
        "id": "kPSNsa-G42wK",
        "outputId": "dbc5a2e2-0415-4cb5-9a6b-e3b3599ed999"
      },
      "outputs": [
        {
          "output_type": "execute_result",
          "data": {
            "text/plain": [
              "3690"
            ]
          },
          "metadata": {},
          "execution_count": 5
        }
      ],
      "source": [
        "len(df)"
      ]
    },
    {
      "cell_type": "code",
      "execution_count": null,
      "metadata": {
        "id": "fwov16Qq5dbE"
      },
      "outputs": [],
      "source": [
        "df_btc = df[::-1]"
      ]
    },
    {
      "cell_type": "code",
      "execution_count": null,
      "metadata": {
        "colab": {
          "base_uri": "https://localhost:8080/",
          "height": 235
        },
        "id": "b1RsFQP0jplt",
        "outputId": "fdfdfe35-429f-463f-c359-f93b76932722"
      },
      "outputs": [
        {
          "output_type": "execute_result",
          "data": {
            "text/plain": [
              "                  Open        High         Low       Close  Volume  \\\n",
              "Date                                                                 \n",
              "2013-04-28  135.300003  135.979996  132.100006  134.210007     0.0   \n",
              "2013-04-29  134.444000  147.488007  134.000000  144.539993     0.0   \n",
              "2013-04-30  144.000000  146.929993  134.050003  139.000000     0.0   \n",
              "2013-05-01  139.000000  139.889999  107.720001  116.989998     0.0   \n",
              "2013-05-02  116.379997  125.599998   92.281898  105.209999     0.0   \n",
              "\n",
              "              Market Cap  \n",
              "Date                      \n",
              "2013-04-28  1.488567e+09  \n",
              "2013-04-29  1.603769e+09  \n",
              "2013-04-30  1.542813e+09  \n",
              "2013-05-01  1.298955e+09  \n",
              "2013-05-02  1.168517e+09  "
            ],
            "text/html": [
              "\n",
              "  <div id=\"df-fef9325c-a2f9-458d-87c9-6584723fc04f\">\n",
              "    <div class=\"colab-df-container\">\n",
              "      <div>\n",
              "<style scoped>\n",
              "    .dataframe tbody tr th:only-of-type {\n",
              "        vertical-align: middle;\n",
              "    }\n",
              "\n",
              "    .dataframe tbody tr th {\n",
              "        vertical-align: top;\n",
              "    }\n",
              "\n",
              "    .dataframe thead th {\n",
              "        text-align: right;\n",
              "    }\n",
              "</style>\n",
              "<table border=\"1\" class=\"dataframe\">\n",
              "  <thead>\n",
              "    <tr style=\"text-align: right;\">\n",
              "      <th></th>\n",
              "      <th>Open</th>\n",
              "      <th>High</th>\n",
              "      <th>Low</th>\n",
              "      <th>Close</th>\n",
              "      <th>Volume</th>\n",
              "      <th>Market Cap</th>\n",
              "    </tr>\n",
              "    <tr>\n",
              "      <th>Date</th>\n",
              "      <th></th>\n",
              "      <th></th>\n",
              "      <th></th>\n",
              "      <th></th>\n",
              "      <th></th>\n",
              "      <th></th>\n",
              "    </tr>\n",
              "  </thead>\n",
              "  <tbody>\n",
              "    <tr>\n",
              "      <th>2013-04-28</th>\n",
              "      <td>135.300003</td>\n",
              "      <td>135.979996</td>\n",
              "      <td>132.100006</td>\n",
              "      <td>134.210007</td>\n",
              "      <td>0.0</td>\n",
              "      <td>1.488567e+09</td>\n",
              "    </tr>\n",
              "    <tr>\n",
              "      <th>2013-04-29</th>\n",
              "      <td>134.444000</td>\n",
              "      <td>147.488007</td>\n",
              "      <td>134.000000</td>\n",
              "      <td>144.539993</td>\n",
              "      <td>0.0</td>\n",
              "      <td>1.603769e+09</td>\n",
              "    </tr>\n",
              "    <tr>\n",
              "      <th>2013-04-30</th>\n",
              "      <td>144.000000</td>\n",
              "      <td>146.929993</td>\n",
              "      <td>134.050003</td>\n",
              "      <td>139.000000</td>\n",
              "      <td>0.0</td>\n",
              "      <td>1.542813e+09</td>\n",
              "    </tr>\n",
              "    <tr>\n",
              "      <th>2013-05-01</th>\n",
              "      <td>139.000000</td>\n",
              "      <td>139.889999</td>\n",
              "      <td>107.720001</td>\n",
              "      <td>116.989998</td>\n",
              "      <td>0.0</td>\n",
              "      <td>1.298955e+09</td>\n",
              "    </tr>\n",
              "    <tr>\n",
              "      <th>2013-05-02</th>\n",
              "      <td>116.379997</td>\n",
              "      <td>125.599998</td>\n",
              "      <td>92.281898</td>\n",
              "      <td>105.209999</td>\n",
              "      <td>0.0</td>\n",
              "      <td>1.168517e+09</td>\n",
              "    </tr>\n",
              "  </tbody>\n",
              "</table>\n",
              "</div>\n",
              "      <button class=\"colab-df-convert\" onclick=\"convertToInteractive('df-fef9325c-a2f9-458d-87c9-6584723fc04f')\"\n",
              "              title=\"Convert this dataframe to an interactive table.\"\n",
              "              style=\"display:none;\">\n",
              "        \n",
              "  <svg xmlns=\"http://www.w3.org/2000/svg\" height=\"24px\"viewBox=\"0 0 24 24\"\n",
              "       width=\"24px\">\n",
              "    <path d=\"M0 0h24v24H0V0z\" fill=\"none\"/>\n",
              "    <path d=\"M18.56 5.44l.94 2.06.94-2.06 2.06-.94-2.06-.94-.94-2.06-.94 2.06-2.06.94zm-11 1L8.5 8.5l.94-2.06 2.06-.94-2.06-.94L8.5 2.5l-.94 2.06-2.06.94zm10 10l.94 2.06.94-2.06 2.06-.94-2.06-.94-.94-2.06-.94 2.06-2.06.94z\"/><path d=\"M17.41 7.96l-1.37-1.37c-.4-.4-.92-.59-1.43-.59-.52 0-1.04.2-1.43.59L10.3 9.45l-7.72 7.72c-.78.78-.78 2.05 0 2.83L4 21.41c.39.39.9.59 1.41.59.51 0 1.02-.2 1.41-.59l7.78-7.78 2.81-2.81c.8-.78.8-2.07 0-2.86zM5.41 20L4 18.59l7.72-7.72 1.47 1.35L5.41 20z\"/>\n",
              "  </svg>\n",
              "      </button>\n",
              "      \n",
              "  <style>\n",
              "    .colab-df-container {\n",
              "      display:flex;\n",
              "      flex-wrap:wrap;\n",
              "      gap: 12px;\n",
              "    }\n",
              "\n",
              "    .colab-df-convert {\n",
              "      background-color: #E8F0FE;\n",
              "      border: none;\n",
              "      border-radius: 50%;\n",
              "      cursor: pointer;\n",
              "      display: none;\n",
              "      fill: #1967D2;\n",
              "      height: 32px;\n",
              "      padding: 0 0 0 0;\n",
              "      width: 32px;\n",
              "    }\n",
              "\n",
              "    .colab-df-convert:hover {\n",
              "      background-color: #E2EBFA;\n",
              "      box-shadow: 0px 1px 2px rgba(60, 64, 67, 0.3), 0px 1px 3px 1px rgba(60, 64, 67, 0.15);\n",
              "      fill: #174EA6;\n",
              "    }\n",
              "\n",
              "    [theme=dark] .colab-df-convert {\n",
              "      background-color: #3B4455;\n",
              "      fill: #D2E3FC;\n",
              "    }\n",
              "\n",
              "    [theme=dark] .colab-df-convert:hover {\n",
              "      background-color: #434B5C;\n",
              "      box-shadow: 0px 1px 3px 1px rgba(0, 0, 0, 0.15);\n",
              "      filter: drop-shadow(0px 1px 2px rgba(0, 0, 0, 0.3));\n",
              "      fill: #FFFFFF;\n",
              "    }\n",
              "  </style>\n",
              "\n",
              "      <script>\n",
              "        const buttonEl =\n",
              "          document.querySelector('#df-fef9325c-a2f9-458d-87c9-6584723fc04f button.colab-df-convert');\n",
              "        buttonEl.style.display =\n",
              "          google.colab.kernel.accessAllowed ? 'block' : 'none';\n",
              "\n",
              "        async function convertToInteractive(key) {\n",
              "          const element = document.querySelector('#df-fef9325c-a2f9-458d-87c9-6584723fc04f');\n",
              "          const dataTable =\n",
              "            await google.colab.kernel.invokeFunction('convertToInteractive',\n",
              "                                                     [key], {});\n",
              "          if (!dataTable) return;\n",
              "\n",
              "          const docLinkHtml = 'Like what you see? Visit the ' +\n",
              "            '<a target=\"_blank\" href=https://colab.research.google.com/notebooks/data_table.ipynb>data table notebook</a>'\n",
              "            + ' to learn more about interactive tables.';\n",
              "          element.innerHTML = '';\n",
              "          dataTable['output_type'] = 'display_data';\n",
              "          await google.colab.output.renderOutput(dataTable, element);\n",
              "          const docLink = document.createElement('div');\n",
              "          docLink.innerHTML = docLinkHtml;\n",
              "          element.appendChild(docLink);\n",
              "        }\n",
              "      </script>\n",
              "    </div>\n",
              "  </div>\n",
              "  "
            ]
          },
          "metadata": {},
          "execution_count": 7
        }
      ],
      "source": [
        "df_btc.head()"
      ]
    },
    {
      "cell_type": "code",
      "execution_count": null,
      "metadata": {
        "colab": {
          "base_uri": "https://localhost:8080/",
          "height": 235
        },
        "id": "SN_TDL3Wjr5M",
        "outputId": "0dea900d-723d-4338-bca8-9912a60ffce3"
      },
      "outputs": [
        {
          "output_type": "execute_result",
          "data": {
            "text/plain": [
              "                 Price\n",
              "Date                  \n",
              "2013-04-28  134.210007\n",
              "2013-04-29  144.539993\n",
              "2013-04-30  139.000000\n",
              "2013-05-01  116.989998\n",
              "2013-05-02  105.209999"
            ],
            "text/html": [
              "\n",
              "  <div id=\"df-bb56e64f-91ca-49ba-a52f-173ea5504fb9\">\n",
              "    <div class=\"colab-df-container\">\n",
              "      <div>\n",
              "<style scoped>\n",
              "    .dataframe tbody tr th:only-of-type {\n",
              "        vertical-align: middle;\n",
              "    }\n",
              "\n",
              "    .dataframe tbody tr th {\n",
              "        vertical-align: top;\n",
              "    }\n",
              "\n",
              "    .dataframe thead th {\n",
              "        text-align: right;\n",
              "    }\n",
              "</style>\n",
              "<table border=\"1\" class=\"dataframe\">\n",
              "  <thead>\n",
              "    <tr style=\"text-align: right;\">\n",
              "      <th></th>\n",
              "      <th>Price</th>\n",
              "    </tr>\n",
              "    <tr>\n",
              "      <th>Date</th>\n",
              "      <th></th>\n",
              "    </tr>\n",
              "  </thead>\n",
              "  <tbody>\n",
              "    <tr>\n",
              "      <th>2013-04-28</th>\n",
              "      <td>134.210007</td>\n",
              "    </tr>\n",
              "    <tr>\n",
              "      <th>2013-04-29</th>\n",
              "      <td>144.539993</td>\n",
              "    </tr>\n",
              "    <tr>\n",
              "      <th>2013-04-30</th>\n",
              "      <td>139.000000</td>\n",
              "    </tr>\n",
              "    <tr>\n",
              "      <th>2013-05-01</th>\n",
              "      <td>116.989998</td>\n",
              "    </tr>\n",
              "    <tr>\n",
              "      <th>2013-05-02</th>\n",
              "      <td>105.209999</td>\n",
              "    </tr>\n",
              "  </tbody>\n",
              "</table>\n",
              "</div>\n",
              "      <button class=\"colab-df-convert\" onclick=\"convertToInteractive('df-bb56e64f-91ca-49ba-a52f-173ea5504fb9')\"\n",
              "              title=\"Convert this dataframe to an interactive table.\"\n",
              "              style=\"display:none;\">\n",
              "        \n",
              "  <svg xmlns=\"http://www.w3.org/2000/svg\" height=\"24px\"viewBox=\"0 0 24 24\"\n",
              "       width=\"24px\">\n",
              "    <path d=\"M0 0h24v24H0V0z\" fill=\"none\"/>\n",
              "    <path d=\"M18.56 5.44l.94 2.06.94-2.06 2.06-.94-2.06-.94-.94-2.06-.94 2.06-2.06.94zm-11 1L8.5 8.5l.94-2.06 2.06-.94-2.06-.94L8.5 2.5l-.94 2.06-2.06.94zm10 10l.94 2.06.94-2.06 2.06-.94-2.06-.94-.94-2.06-.94 2.06-2.06.94z\"/><path d=\"M17.41 7.96l-1.37-1.37c-.4-.4-.92-.59-1.43-.59-.52 0-1.04.2-1.43.59L10.3 9.45l-7.72 7.72c-.78.78-.78 2.05 0 2.83L4 21.41c.39.39.9.59 1.41.59.51 0 1.02-.2 1.41-.59l7.78-7.78 2.81-2.81c.8-.78.8-2.07 0-2.86zM5.41 20L4 18.59l7.72-7.72 1.47 1.35L5.41 20z\"/>\n",
              "  </svg>\n",
              "      </button>\n",
              "      \n",
              "  <style>\n",
              "    .colab-df-container {\n",
              "      display:flex;\n",
              "      flex-wrap:wrap;\n",
              "      gap: 12px;\n",
              "    }\n",
              "\n",
              "    .colab-df-convert {\n",
              "      background-color: #E8F0FE;\n",
              "      border: none;\n",
              "      border-radius: 50%;\n",
              "      cursor: pointer;\n",
              "      display: none;\n",
              "      fill: #1967D2;\n",
              "      height: 32px;\n",
              "      padding: 0 0 0 0;\n",
              "      width: 32px;\n",
              "    }\n",
              "\n",
              "    .colab-df-convert:hover {\n",
              "      background-color: #E2EBFA;\n",
              "      box-shadow: 0px 1px 2px rgba(60, 64, 67, 0.3), 0px 1px 3px 1px rgba(60, 64, 67, 0.15);\n",
              "      fill: #174EA6;\n",
              "    }\n",
              "\n",
              "    [theme=dark] .colab-df-convert {\n",
              "      background-color: #3B4455;\n",
              "      fill: #D2E3FC;\n",
              "    }\n",
              "\n",
              "    [theme=dark] .colab-df-convert:hover {\n",
              "      background-color: #434B5C;\n",
              "      box-shadow: 0px 1px 3px 1px rgba(0, 0, 0, 0.15);\n",
              "      filter: drop-shadow(0px 1px 2px rgba(0, 0, 0, 0.3));\n",
              "      fill: #FFFFFF;\n",
              "    }\n",
              "  </style>\n",
              "\n",
              "      <script>\n",
              "        const buttonEl =\n",
              "          document.querySelector('#df-bb56e64f-91ca-49ba-a52f-173ea5504fb9 button.colab-df-convert');\n",
              "        buttonEl.style.display =\n",
              "          google.colab.kernel.accessAllowed ? 'block' : 'none';\n",
              "\n",
              "        async function convertToInteractive(key) {\n",
              "          const element = document.querySelector('#df-bb56e64f-91ca-49ba-a52f-173ea5504fb9');\n",
              "          const dataTable =\n",
              "            await google.colab.kernel.invokeFunction('convertToInteractive',\n",
              "                                                     [key], {});\n",
              "          if (!dataTable) return;\n",
              "\n",
              "          const docLinkHtml = 'Like what you see? Visit the ' +\n",
              "            '<a target=\"_blank\" href=https://colab.research.google.com/notebooks/data_table.ipynb>data table notebook</a>'\n",
              "            + ' to learn more about interactive tables.';\n",
              "          element.innerHTML = '';\n",
              "          dataTable['output_type'] = 'display_data';\n",
              "          await google.colab.output.renderOutput(dataTable, element);\n",
              "          const docLink = document.createElement('div');\n",
              "          docLink.innerHTML = docLinkHtml;\n",
              "          element.appendChild(docLink);\n",
              "        }\n",
              "      </script>\n",
              "    </div>\n",
              "  </div>\n",
              "  "
            ]
          },
          "metadata": {},
          "execution_count": 8
        }
      ],
      "source": [
        "btc_price = pd.DataFrame(df_btc['Close']).rename(columns={'Close': \"Price\"})\n",
        "btc_price.head()"
      ]
    },
    {
      "cell_type": "code",
      "execution_count": null,
      "metadata": {
        "colab": {
          "base_uri": "https://localhost:8080/",
          "height": 660
        },
        "id": "XoXbUqoQkCiu",
        "outputId": "0f441ac1-137c-4df8-e5eb-69f628bb015f"
      },
      "outputs": [
        {
          "output_type": "execute_result",
          "data": {
            "text/plain": [
              "<matplotlib.legend.Legend at 0x7fed4e432d70>"
            ]
          },
          "metadata": {},
          "execution_count": 9
        },
        {
          "output_type": "display_data",
          "data": {
            "text/plain": [
              "<Figure size 1000x700 with 1 Axes>"
            ],
            "image/png": "[encoded data removed]"
          },
          "metadata": {}
        }
      ],
      "source": [
        "import matplotlib.pyplot as plt\n",
        "btc_price.plot(figsize=(10,7))\n",
        "plt.ylabel(\"btc price\")\n",
        "plt.title(\"Price of BTC from 2013-2023\", fontsize=16)\n",
        "plt.legend(fontsize=14)\n"
      ]
    },
    {
      "cell_type": "markdown",
      "metadata": {
        "id": "DBcimltHdwZ2"
      },
      "source": [
        "## Train and Test Split"
      ]
    },
    {
      "cell_type": "code",
      "execution_count": null,
      "metadata": {
        "id": "HgADaAFtlZPX"
      },
      "outputs": [],
      "source": [
        "split_size = int(0.8*len(btc_price))"
      ]
    },
    {
      "cell_type": "code",
      "execution_count": null,
      "metadata": {
        "id": "I-6M4J1qeZIa"
      },
      "outputs": [],
      "source": [
        "timesteps = btc_price.index.to_numpy()"
      ]
    },
    {
      "cell_type": "code",
      "execution_count": null,
      "metadata": {
        "id": "cdn9KLAeey3a"
      },
      "outputs": [],
      "source": [
        "prices = btc_price[\"Price\"].to_numpy()"
      ]
    },
    {
      "cell_type": "code",
      "execution_count": null,
      "metadata": {
        "id": "TLEHHUske3XU"
      },
      "outputs": [],
      "source": [
        "from sklearn.model_selection import train_test_split"
      ]
    },
    {
      "cell_type": "code",
      "execution_count": null,
      "metadata": {
        "id": "v-XabE5xe809"
      },
      "outputs": [],
      "source": [
        "X_train, y_train = timesteps[:split_size], prices[:split_size]\n",
        "\n",
        "X_test, y_test = timesteps[split_size:], prices[split_size:]"
      ]
    },
    {
      "cell_type": "code",
      "execution_count": null,
      "metadata": {
        "colab": {
          "base_uri": "https://localhost:8080/",
          "height": 619
        },
        "id": "m2cqkkljfJXj",
        "outputId": "cdd645cc-b5e1-4681-80c7-f4ebeffbffba"
      },
      "outputs": [
        {
          "output_type": "display_data",
          "data": {
            "text/plain": [
              "<Figure size 1000x700 with 1 Axes>"
            ],
            "image/png": "[encoded data removed]"
          },
          "metadata": {}
        }
      ],
      "source": [
        "plt.figure(figsize=(10,7))\n",
        "plt.scatter(X_train, y_train, s = 5, label=\"Train data\")\n",
        "plt.scatter(X_test, y_test, s = 5, label=\"Test data\")\n",
        "plt.xlabel(\"Date\")\n",
        "plt.ylabel(\"BTC Price\")\n",
        "plt.legend(fontsize=14)\n",
        "plt.show();"
      ]
    },
    {
      "cell_type": "code",
      "execution_count": null,
      "metadata": {
        "id": "so1EF62Yfi5U"
      },
      "outputs": [],
      "source": [
        "def plot_ts_data(timesteps, values, format=\".\", start = 0, end=None, label=None):\n",
        "\n",
        "  plt.plot(timesteps[start:end], values[start:end], format, label=label)\n",
        "  plt.xlabel(\"Time\")\n",
        "  plt.ylabel(\"BTC Price\")\n",
        "  if label:\n",
        "    plt.legend(fontsize=14)\n",
        "  plt.grid(True)\n",
        "\n",
        "\n"
      ]
    },
    {
      "cell_type": "code",
      "execution_count": null,
      "metadata": {
        "colab": {
          "base_uri": "https://localhost:8080/",
          "height": 619
        },
        "id": "xB_yz0hIgdYm",
        "outputId": "6c6ec7cc-e3c5-4252-cb45-b7119953acad"
      },
      "outputs": [
        {
          "output_type": "display_data",
          "data": {
            "text/plain": [
              "<Figure size 1000x700 with 1 Axes>"
            ],
            "image/png": "[encoded data removed]"
          },
          "metadata": {}
        }
      ],
      "source": [
        "plt.figure(figsize=(10,7))\n",
        "plot_ts_data(timesteps=X_train, values=y_train, label=\"Train data\")\n",
        "plot_ts_data(timesteps=X_test, values=y_test, label=\"Test data\")"
      ]
    },
    {
      "cell_type": "markdown",
      "metadata": {
        "id": "3NJ1F50rhRh_"
      },
      "source": [
        "## Model 0: Creating a baseline"
      ]
    },
    {
      "cell_type": "code",
      "execution_count": null,
      "metadata": {
        "id": "Pfc_KEOQgpCo"
      },
      "outputs": [],
      "source": [
        "naive_forecast = y_test[:-1]"
      ]
    },
    {
      "cell_type": "code",
      "execution_count": null,
      "metadata": {
        "colab": {
          "base_uri": "https://localhost:8080/",
          "height": 619
        },
        "id": "BnKYU4tMipcF",
        "outputId": "fd598759-25f4-4212-c35f-67a3db4c890a"
      },
      "outputs": [
        {
          "output_type": "display_data",
          "data": {
            "text/plain": [
              "<Figure size 1000x700 with 1 Axes>"
            ],
            "image/png": "[encoded data removed]"
          },
          "metadata": {}
        }
      ],
      "source": [
        "plt.figure(figsize=(10,7))\n",
        "plot_ts_data(timesteps=X_train, values=y_train, label=\"Train data\")\n",
        "plot_ts_data(timesteps=X_test, values=y_test, label=\"Test data\")\n",
        "plot_ts_data(timesteps=X_test[1:], values=naive_forecast, format=\"-\",label=\"Naive Forecast\")"
      ]
    },
    {
      "cell_type": "code",
      "execution_count": null,
      "metadata": {
        "id": "I8VppkJcjf_D"
      },
      "outputs": [],
      "source": [
        "import tensorflow as tf"
      ]
    },
    {
      "cell_type": "code",
      "execution_count": null,
      "metadata": {
        "id": "FWPdXwgXkUo_"
      },
      "outputs": [],
      "source": [
        "def mean_abs_scaled_err(y_true, y_pred):\n",
        "  \"\"\"\n",
        "  Implement MASE (assuming no seasonality of data)\n",
        "  \"\"\"\n",
        "  mae = tf.reduce_mean(tf.abs(y_true-y_pred))\n",
        "\n",
        "  mae_naive_no_season = tf.reduce_mean(tf.abs(y_true[1:]-y_true[:-1]))\n",
        "\n",
        "  return mae / mae_naive_no_season"
      ]
    },
    {
      "cell_type": "code",
      "execution_count": null,
      "metadata": {
        "colab": {
          "base_uri": "https://localhost:8080/"
        },
        "id": "cegGK-hDlYzK",
        "outputId": "14b1b3fb-cfee-48e4-f089-5ad7fd138156"
      },
      "outputs": [
        {
          "output_type": "execute_result",
          "data": {
            "text/plain": [
              "1.0004920363435956"
            ]
          },
          "metadata": {},
          "execution_count": 22
        }
      ],
      "source": [
        "mean_abs_scaled_err(y_test[1:], naive_forecast).numpy()"
      ]
    },
    {
      "cell_type": "code",
      "execution_count": null,
      "metadata": {
        "id": "J1femsZHld2L"
      },
      "outputs": [],
      "source": [
        "def evaluate_preds(y_true, y_pred):\n",
        "  y_true = tf.cast(y_true, dtype=tf.float32)\n",
        "  y_pred = tf.cast(y_pred, dtype=tf.float32)\n",
        "  mae = tf.keras.metrics.mean_absolute_error(y_true, y_pred)\n",
        "  mse = tf.keras.metrics.mean_squared_error(y_true, y_pred)\n",
        "  rmse = tf.sqrt(mse)\n",
        "  mape = tf.keras.metrics.mean_absolute_percentage_error(y_true, y_pred)\n",
        "  mase = mean_abs_scaled_err(y_true, y_pred)\n",
        "\n",
        "  if mae.ndim > 0:\n",
        "    mae = tf.reduce_mean(mae)\n",
        "    mse = tf.reduce_mean(mse)\n",
        "    rmse = tf.reduce_mean(rmse)\n",
        "    mape = tf.reduce_mean(mape)\n",
        "    mase = tf.reduce_mean(mase)\n",
        "\n",
        "\n",
        "  return {\"mae\": mae.numpy(),\n",
        "          \"mse\": mse.numpy(),\n",
        "          \"rmse\": rmse.numpy(),\n",
        "          \"mape\": mape.numpy(),\n",
        "          \"mase\": mase.numpy()}"
      ]
    },
    {
      "cell_type": "code",
      "execution_count": null,
      "metadata": {
        "colab": {
          "base_uri": "https://localhost:8080/"
        },
        "id": "AeZCdJ92_53t",
        "outputId": "806d0985-ccaa-41c5-e75f-29c379098962"
      },
      "outputs": [
        {
          "output_type": "execute_result",
          "data": {
            "text/plain": [
              "{'mae': 794.1041,\n",
              " 'mse': 1419816.6,\n",
              " 'rmse': 1191.5605,\n",
              " 'mape': 2.3178527,\n",
              " 'mase': 1.0004921}"
            ]
          },
          "metadata": {},
          "execution_count": 24
        }
      ],
      "source": [
        "naive_results = evaluate_preds(y_true = y_test[1:],\n",
        "                               y_pred=naive_forecast)\n",
        "naive_results"
      ]
    },
    {
      "cell_type": "code",
      "execution_count": null,
      "metadata": {
        "colab": {
          "base_uri": "https://localhost:8080/"
        },
        "id": "XszegcJPADWa",
        "outputId": "a496df05-e15a-4f8c-b114-6b54344b57d9"
      },
      "outputs": [
        {
          "output_type": "execute_result",
          "data": {
            "text/plain": [
              "array([  134.21000671,   144.53999329,   139.        , ...,\n",
              "       38402.22385137, 39294.19738214, 38436.96853505])"
            ]
          },
          "metadata": {},
          "execution_count": 25
        }
      ],
      "source": [
        "y_train"
      ]
    },
    {
      "cell_type": "code",
      "execution_count": null,
      "metadata": {
        "colab": {
          "base_uri": "https://localhost:8080/"
        },
        "id": "T902DgdUCeYv",
        "outputId": "5235790b-1ec9-43d8-9629-a53a4c06a4cc"
      },
      "outputs": [
        {
          "output_type": "execute_result",
          "data": {
            "text/plain": [
              "array([134.21000671, 144.53999329, 139.        , 116.98999786,\n",
              "       105.20999908,  97.75      , 112.5       , 115.91000366,\n",
              "       112.30000305, 111.5       ])"
            ]
          },
          "metadata": {},
          "execution_count": 26
        }
      ],
      "source": [
        "prices[:10]"
      ]
    },
    {
      "cell_type": "code",
      "execution_count": null,
      "metadata": {
        "id": "Pzz-nbbvDkvA"
      },
      "outputs": [],
      "source": [
        "HORIZON = 1\n",
        "WINDOW_SIZE=7"
      ]
    },
    {
      "cell_type": "code",
      "execution_count": null,
      "metadata": {
        "id": "U96T7G2GCkHv"
      },
      "outputs": [],
      "source": [
        "def get_labeled_windows(x, horizon=HORIZON):\n",
        "  \"\"\"\n",
        "  Creates labels for windowed dataset.\n",
        "\n",
        "  E.g. if horizon = 1\n",
        "  Input: [0,1,2,3,4,5,6,7] -> Output: ([0,1,2,3,4,5,6],[7])\n",
        "  \"\"\"\n",
        "  return x[:,:-horizon], x[:,-horizon]"
      ]
    },
    {
      "cell_type": "code",
      "execution_count": null,
      "metadata": {
        "colab": {
          "base_uri": "https://localhost:8080/"
        },
        "id": "k5XZUlf-EKBN",
        "outputId": "f5cc3678-f95a-423d-cada-f0d7cced1bad"
      },
      "outputs": [
        {
          "output_type": "stream",
          "name": "stdout",
          "text": [
            "Window: [0 1 2 3 4 5 6] -> Label: 7\n"
          ]
        }
      ],
      "source": [
        "test_window, test_label = get_labeled_windows(tf.expand_dims(tf.range(8), axis = 0))\n",
        "print(f\"Window: {tf.squeeze(test_window).numpy()} -> Label: {tf.squeeze(test_label).numpy()}\")"
      ]
    },
    {
      "cell_type": "code",
      "execution_count": null,
      "metadata": {
        "id": "7UrYRBvvEWnY"
      },
      "outputs": [],
      "source": [
        "import numpy as np\n",
        "def make_windows(x, window_size = WINDOW_SIZE, horizon=HORIZON):\n",
        "  \"\"\"\n",
        "  Turns a 1D array into a 2D array of sequential labeled windows of window_size with horizon size labels.\n",
        "  \"\"\"\n",
        "  window_step = np.expand_dims(np.arange(window_size+horizon), axis = 0)\n",
        "  window_indexes = window_step + np.expand_dims(np.arange(len(x)-(window_size+horizon-1)),axis=0).T\n",
        "  windowed_array = x[window_indexes]\n",
        "  windows, labels = get_labeled_windows(windowed_array, horizon=horizon)\n",
        "  return windows, labels"
      ]
    },
    {
      "cell_type": "code",
      "execution_count": null,
      "metadata": {
        "colab": {
          "base_uri": "https://localhost:8080/"
        },
        "id": "kZByHi4AImF4",
        "outputId": "b08318bf-8a7f-47dc-8f96-00098a47c84b"
      },
      "outputs": [
        {
          "output_type": "execute_result",
          "data": {
            "text/plain": [
              "(3683, 3683)"
            ]
          },
          "metadata": {},
          "execution_count": 31
        }
      ],
      "source": [
        "full_windows, full_labels = make_windows(prices, window_size=WINDOW_SIZE, horizon=HORIZON)\n",
        "len(full_windows), len(full_labels)"
      ]
    },
    {
      "cell_type": "code",
      "execution_count": null,
      "metadata": {
        "colab": {
          "base_uri": "https://localhost:8080/"
        },
        "id": "WFsnIZUAI9Fw",
        "outputId": "06c6ae96-9bbf-46b5-9e87-65b6896878b4"
      },
      "outputs": [
        {
          "output_type": "stream",
          "name": "stdout",
          "text": [
            "Window: [26719.29098462 26868.35381843 28085.64736075 27745.88444355\n",
            " 27702.34877478 27219.65860811 26819.97321971]-> Label: 27249.588949088356\n",
            "Window: [26868.35381843 28085.64736075 27745.88444355 27702.34877478\n",
            " 27219.65860811 26819.97321971 27249.58894909]-> Label: 27075.129398442477\n",
            "Window: [28085.64736075 27745.88444355 27702.34877478 27219.65860811\n",
            " 26819.97321971 27249.58894909 27075.12939844]-> Label: 27119.067193126313\n"
          ]
        }
      ],
      "source": [
        "for i in range(3):\n",
        "  print(f\"Window: {full_windows[i-3]}-> Label: {full_labels[i-3]}\")"
      ]
    },
    {
      "cell_type": "code",
      "execution_count": null,
      "metadata": {
        "id": "aD3cZOw2JfwX"
      },
      "outputs": [],
      "source": [
        "def make_train_test_splits(windows, labels, test_split=0.2):\n",
        "  \"\"\"\n",
        "  Splits matching pairs of windows and labels into train and test split\n",
        "  \"\"\"\n",
        "  splits_size = int(len(windows)*(1-test_split))\n",
        "  train_windows = windows[:split_size]\n",
        "  train_labels = labels[:split_size]\n",
        "  test_windows = windows[split_size:]\n",
        "  test_labels = labels[split_size:]\n",
        "  return train_windows, test_windows, train_labels, test_labels"
      ]
    },
    {
      "cell_type": "code",
      "execution_count": null,
      "metadata": {
        "colab": {
          "base_uri": "https://localhost:8080/"
        },
        "id": "izFlEKkwM45G",
        "outputId": "7b7d492d-9ac5-4cd7-9d31-9d6b875da975"
      },
      "outputs": [
        {
          "output_type": "execute_result",
          "data": {
            "text/plain": [
              "(2952, 731, 2952, 731)"
            ]
          },
          "metadata": {},
          "execution_count": 34
        }
      ],
      "source": [
        "train_windows, test_windows, train_labels, test_labels = make_train_test_splits(full_windows, full_labels)\n",
        "len(train_windows), len(test_windows), len(train_labels), len(test_labels)"
      ]
    },
    {
      "cell_type": "code",
      "execution_count": null,
      "metadata": {
        "colab": {
          "base_uri": "https://localhost:8080/"
        },
        "id": "dZrSFJSjNHDI",
        "outputId": "1ecbe4d2-2f07-476f-a05d-455b756c4657"
      },
      "outputs": [
        {
          "output_type": "execute_result",
          "data": {
            "text/plain": [
              "(array([[134.21000671, 144.53999329, 139.        , 116.98999786,\n",
              "         105.20999908,  97.75      , 112.5       ],\n",
              "        [144.53999329, 139.        , 116.98999786, 105.20999908,\n",
              "          97.75      , 112.5       , 115.91000366],\n",
              "        [139.        , 116.98999786, 105.20999908,  97.75      ,\n",
              "         112.5       , 115.91000366, 112.30000305],\n",
              "        [116.98999786, 105.20999908,  97.75      , 112.5       ,\n",
              "         115.91000366, 112.30000305, 111.5       ],\n",
              "        [105.20999908,  97.75      , 112.5       , 115.91000366,\n",
              "         112.30000305, 111.5       , 113.56600189]]),\n",
              " array([115.91000366, 112.30000305, 111.5       , 113.56600189,\n",
              "        112.66999817]))"
            ]
          },
          "metadata": {},
          "execution_count": 35
        }
      ],
      "source": [
        "train_windows[:5], train_labels[:5]"
      ]
    },
    {
      "cell_type": "markdown",
      "metadata": {
        "id": "7qtXUCkGbO31"
      },
      "source": [
        "## Model 1: First Dense Model"
      ]
    },
    {
      "cell_type": "code",
      "execution_count": null,
      "metadata": {
        "id": "NMz5HLRBNeib"
      },
      "outputs": [],
      "source": [
        "import tensorflow as tf\n",
        "from tensorflow.keras import layers\n",
        "\n",
        "model_1 = tf.keras.Sequential([\n",
        "    layers.Dense(128, activation=\"relu\"),\n",
        "    layers.Dense(HORIZON,activation=\"linear\")\n",
        "], name=\"model_1_dense\")\n",
        "\n",
        "model_1.compile(loss=\"mae\",\n",
        "                optimizer = tf.keras.optimizers.Adam(),\n",
        "                metrics=[\"mae\", \"mse\"])"
      ]
    },
    {
      "cell_type": "code",
      "execution_count": null,
      "metadata": {
        "colab": {
          "base_uri": "https://localhost:8080/"
        },
        "id": "e0sCr4blIwz4",
        "outputId": "5bbb7a52-8a1d-4f38-b2de-c6cdebcb7fd6"
      },
      "outputs": [
        {
          "output_type": "stream",
          "name": "stdout",
          "text": [
            "Epoch 1/100\n",
            "24/24 [==============================] - 11s 19ms/step - loss: 2665.1541 - mae: 2665.1541 - mse: 43235328.0000 - val_loss: 4823.9863 - val_mae: 4823.9863 - val_mse: 29497838.0000\n",
            "Epoch 2/100\n",
            "24/24 [==============================] - 0s 11ms/step - loss: 441.1978 - mae: 441.1978 - mse: 1314668.8750 - val_loss: 1171.1381 - val_mae: 1171.1381 - val_mse: 2713923.5000\n",
            "Epoch 3/100\n",
            "24/24 [==============================] - 0s 9ms/step - loss: 303.4418 - mae: 303.4418 - mse: 639489.2500 - val_loss: 1260.1185 - val_mae: 1260.1185 - val_mse: 3028607.7500\n",
            "Epoch 4/100\n",
            "24/24 [==============================] - 0s 10ms/step - loss: 294.0215 - mae: 294.0215 - mse: 609866.1250 - val_loss: 1064.5697 - val_mae: 1064.5697 - val_mse: 2289061.0000\n",
            "Epoch 5/100\n",
            "24/24 [==============================] - 0s 9ms/step - loss: 261.2969 - mae: 261.2969 - mse: 506234.5000 - val_loss: 1022.6049 - val_mae: 1022.6049 - val_mse: 2133597.7500\n",
            "Epoch 6/100\n",
            "24/24 [==============================] - 0s 8ms/step - loss: 250.0007 - mae: 250.0007 - mse: 471678.4688 - val_loss: 1150.5660 - val_mae: 1150.5660 - val_mse: 2581233.0000\n",
            "Epoch 7/100\n",
            "24/24 [==============================] - 0s 11ms/step - loss: 249.9274 - mae: 249.9274 - mse: 468724.1562 - val_loss: 986.2248 - val_mae: 986.2248 - val_mse: 2028027.2500\n",
            "Epoch 8/100\n",
            "24/24 [==============================] - 0s 9ms/step - loss: 242.9603 - mae: 242.9603 - mse: 454226.5938 - val_loss: 1005.3168 - val_mae: 1005.3168 - val_mse: 2085747.2500\n",
            "Epoch 9/100\n",
            "24/24 [==============================] - 0s 7ms/step - loss: 242.2914 - mae: 242.2914 - mse: 442645.5938 - val_loss: 1014.2626 - val_mae: 1014.2626 - val_mse: 2101991.5000\n",
            "Epoch 10/100\n",
            "24/24 [==============================] - 0s 6ms/step - loss: 235.8155 - mae: 235.8155 - mse: 414055.7188 - val_loss: 979.9030 - val_mae: 979.9030 - val_mse: 1989800.6250\n",
            "Epoch 11/100\n",
            "24/24 [==============================] - 0s 5ms/step - loss: 245.8481 - mae: 245.8481 - mse: 446099.5938 - val_loss: 929.4445 - val_mae: 929.4445 - val_mse: 1813407.5000\n",
            "Epoch 12/100\n",
            "24/24 [==============================] - 0s 4ms/step - loss: 239.8125 - mae: 239.8125 - mse: 426047.0312 - val_loss: 925.0782 - val_mae: 925.0782 - val_mse: 1800819.8750\n",
            "Epoch 13/100\n",
            "24/24 [==============================] - 0s 5ms/step - loss: 241.2245 - mae: 241.2245 - mse: 406100.5000 - val_loss: 1059.2388 - val_mae: 1059.2388 - val_mse: 2152927.5000\n",
            "Epoch 14/100\n",
            "24/24 [==============================] - 0s 5ms/step - loss: 245.3911 - mae: 245.3911 - mse: 417403.6562 - val_loss: 932.9102 - val_mae: 932.9102 - val_mse: 1800785.3750\n",
            "Epoch 15/100\n",
            "24/24 [==============================] - 0s 5ms/step - loss: 243.0103 - mae: 243.0103 - mse: 431745.1250 - val_loss: 1631.0974 - val_mae: 1631.0974 - val_mse: 4360025.5000\n",
            "Epoch 16/100\n",
            "24/24 [==============================] - 0s 4ms/step - loss: 246.1375 - mae: 246.1375 - mse: 435338.5312 - val_loss: 961.1532 - val_mae: 961.1532 - val_mse: 1860312.1250\n",
            "Epoch 17/100\n",
            "24/24 [==============================] - 0s 5ms/step - loss: 224.6707 - mae: 224.6707 - mse: 389574.1250 - val_loss: 1011.4974 - val_mae: 1011.4974 - val_mse: 1995096.6250\n",
            "Epoch 18/100\n",
            "24/24 [==============================] - 0s 5ms/step - loss: 230.1575 - mae: 230.1575 - mse: 401304.5312 - val_loss: 909.0621 - val_mae: 909.0621 - val_mse: 1751326.6250\n",
            "Epoch 19/100\n",
            "24/24 [==============================] - 0s 5ms/step - loss: 232.9738 - mae: 232.9738 - mse: 412088.9688 - val_loss: 1509.6379 - val_mae: 1509.6379 - val_mse: 3830901.7500\n",
            "Epoch 20/100\n",
            "24/24 [==============================] - 0s 5ms/step - loss: 316.1353 - mae: 316.1353 - mse: 668171.3750 - val_loss: 1026.7233 - val_mae: 1026.7233 - val_mse: 2099424.2500\n",
            "Epoch 21/100\n",
            "24/24 [==============================] - 0s 4ms/step - loss: 234.2703 - mae: 234.2703 - mse: 416781.3125 - val_loss: 941.5977 - val_mae: 941.5977 - val_mse: 1794953.2500\n",
            "Epoch 22/100\n",
            "24/24 [==============================] - 0s 5ms/step - loss: 223.2963 - mae: 223.2963 - mse: 373726.9062 - val_loss: 889.4518 - val_mae: 889.4518 - val_mse: 1681392.3750\n",
            "Epoch 23/100\n",
            "24/24 [==============================] - 0s 5ms/step - loss: 229.8784 - mae: 229.8784 - mse: 396750.7500 - val_loss: 988.7970 - val_mae: 988.7970 - val_mse: 1917290.6250\n",
            "Epoch 24/100\n",
            "24/24 [==============================] - 0s 5ms/step - loss: 227.0899 - mae: 227.0899 - mse: 388233.0625 - val_loss: 1053.6300 - val_mae: 1053.6300 - val_mse: 2170433.7500\n",
            "Epoch 25/100\n",
            "24/24 [==============================] - 0s 4ms/step - loss: 226.7675 - mae: 226.7675 - mse: 392102.5625 - val_loss: 882.6985 - val_mae: 882.6985 - val_mse: 1665363.0000\n",
            "Epoch 26/100\n",
            "24/24 [==============================] - 0s 5ms/step - loss: 217.4631 - mae: 217.4631 - mse: 372868.9062 - val_loss: 912.4230 - val_mae: 912.4230 - val_mse: 1752497.3750\n",
            "Epoch 27/100\n",
            "24/24 [==============================] - 0s 5ms/step - loss: 219.2347 - mae: 219.2347 - mse: 356149.5625 - val_loss: 1609.4769 - val_mae: 1609.4769 - val_mse: 4208321.5000\n",
            "Epoch 28/100\n",
            "24/24 [==============================] - 0s 5ms/step - loss: 258.4056 - mae: 258.4056 - mse: 464193.7812 - val_loss: 1218.7090 - val_mae: 1218.7090 - val_mse: 2711320.2500\n",
            "Epoch 29/100\n",
            "24/24 [==============================] - 0s 5ms/step - loss: 227.1301 - mae: 227.1301 - mse: 389432.9688 - val_loss: 920.6724 - val_mae: 920.6724 - val_mse: 1730522.7500\n",
            "Epoch 30/100\n",
            "24/24 [==============================] - 0s 4ms/step - loss: 216.2823 - mae: 216.2823 - mse: 368781.4062 - val_loss: 930.5397 - val_mae: 930.5397 - val_mse: 1752969.1250\n",
            "Epoch 31/100\n",
            "24/24 [==============================] - 0s 5ms/step - loss: 240.3574 - mae: 240.3574 - mse: 426831.8750 - val_loss: 870.2797 - val_mae: 870.2797 - val_mse: 1617132.8750\n",
            "Epoch 32/100\n",
            "24/24 [==============================] - 0s 5ms/step - loss: 214.3063 - mae: 214.3063 - mse: 354941.9062 - val_loss: 1104.2640 - val_mae: 1104.2640 - val_mse: 2312321.7500\n",
            "Epoch 33/100\n",
            "24/24 [==============================] - 0s 4ms/step - loss: 218.7963 - mae: 218.7963 - mse: 371167.5312 - val_loss: 1026.6461 - val_mae: 1026.6461 - val_mse: 2018978.6250\n",
            "Epoch 34/100\n",
            "24/24 [==============================] - 0s 5ms/step - loss: 216.8926 - mae: 216.8926 - mse: 359873.8438 - val_loss: 871.7750 - val_mae: 871.7750 - val_mse: 1634567.8750\n",
            "Epoch 35/100\n",
            "24/24 [==============================] - 0s 5ms/step - loss: 215.1065 - mae: 215.1065 - mse: 357226.7812 - val_loss: 1249.7744 - val_mae: 1249.7744 - val_mse: 2802902.0000\n",
            "Epoch 36/100\n",
            "24/24 [==============================] - 0s 5ms/step - loss: 231.0969 - mae: 231.0969 - mse: 399646.7500 - val_loss: 1186.2695 - val_mae: 1186.2695 - val_mse: 2494851.7500\n",
            "Epoch 37/100\n",
            "24/24 [==============================] - 0s 4ms/step - loss: 259.1254 - mae: 259.1254 - mse: 448572.0625 - val_loss: 1365.8868 - val_mae: 1365.8868 - val_mse: 3220745.0000\n",
            "Epoch 38/100\n",
            "24/24 [==============================] - 0s 5ms/step - loss: 316.2132 - mae: 316.2132 - mse: 652081.8750 - val_loss: 875.3697 - val_mae: 875.3697 - val_mse: 1645929.8750\n",
            "Epoch 39/100\n",
            "24/24 [==============================] - 0s 5ms/step - loss: 231.2802 - mae: 231.2802 - mse: 380816.7500 - val_loss: 859.1809 - val_mae: 859.1809 - val_mse: 1605501.0000\n",
            "Epoch 40/100\n",
            "24/24 [==============================] - 0s 4ms/step - loss: 210.6807 - mae: 210.6807 - mse: 345426.7812 - val_loss: 947.7067 - val_mae: 947.7067 - val_mse: 1833942.0000\n",
            "Epoch 41/100\n",
            "24/24 [==============================] - 0s 5ms/step - loss: 207.8393 - mae: 207.8393 - mse: 341832.0938 - val_loss: 908.7035 - val_mae: 908.7035 - val_mse: 1728115.7500\n",
            "Epoch 42/100\n",
            "24/24 [==============================] - 0s 5ms/step - loss: 210.7557 - mae: 210.7557 - mse: 340448.4375 - val_loss: 883.2771 - val_mae: 883.2771 - val_mse: 1661598.2500\n",
            "Epoch 43/100\n",
            "24/24 [==============================] - 0s 5ms/step - loss: 217.7439 - mae: 217.7439 - mse: 366968.8750 - val_loss: 843.1506 - val_mae: 843.1506 - val_mse: 1552938.3750\n",
            "Epoch 44/100\n",
            "24/24 [==============================] - 0s 4ms/step - loss: 210.9205 - mae: 210.9205 - mse: 348136.0938 - val_loss: 886.6411 - val_mae: 886.6411 - val_mse: 1637487.5000\n",
            "Epoch 45/100\n",
            "24/24 [==============================] - 0s 5ms/step - loss: 205.8529 - mae: 205.8529 - mse: 341340.9688 - val_loss: 991.5583 - val_mae: 991.5583 - val_mse: 1950887.0000\n",
            "Epoch 46/100\n",
            "24/24 [==============================] - 0s 5ms/step - loss: 224.0210 - mae: 224.0210 - mse: 382920.5938 - val_loss: 950.0430 - val_mae: 950.0430 - val_mse: 1832626.3750\n",
            "Epoch 47/100\n",
            "24/24 [==============================] - 0s 5ms/step - loss: 215.2852 - mae: 215.2852 - mse: 365117.2188 - val_loss: 1033.2079 - val_mae: 1033.2079 - val_mse: 2071586.3750\n",
            "Epoch 48/100\n",
            "24/24 [==============================] - 0s 4ms/step - loss: 211.6420 - mae: 211.6420 - mse: 346235.2500 - val_loss: 964.7502 - val_mae: 964.7502 - val_mse: 1871044.5000\n",
            "Epoch 49/100\n",
            "24/24 [==============================] - 0s 4ms/step - loss: 206.6148 - mae: 206.6148 - mse: 333041.3125 - val_loss: 915.5506 - val_mae: 915.5506 - val_mse: 1737192.0000\n",
            "Epoch 50/100\n",
            "24/24 [==============================] - 0s 5ms/step - loss: 208.8443 - mae: 208.8443 - mse: 331609.3750 - val_loss: 839.4037 - val_mae: 839.4037 - val_mse: 1543031.2500\n",
            "Epoch 51/100\n",
            "24/24 [==============================] - 0s 5ms/step - loss: 203.1398 - mae: 203.1398 - mse: 334694.0938 - val_loss: 1043.9521 - val_mae: 1043.9521 - val_mse: 2089505.6250\n",
            "Epoch 52/100\n",
            "24/24 [==============================] - 0s 5ms/step - loss: 205.3530 - mae: 205.3530 - mse: 333512.2500 - val_loss: 871.3065 - val_mae: 871.3063 - val_mse: 1591396.8750\n",
            "Epoch 53/100\n",
            "24/24 [==============================] - 0s 5ms/step - loss: 210.9359 - mae: 210.9359 - mse: 343558.1875 - val_loss: 944.6098 - val_mae: 944.6098 - val_mse: 1807126.1250\n",
            "Epoch 54/100\n",
            "24/24 [==============================] - 0s 5ms/step - loss: 205.8147 - mae: 205.8147 - mse: 339964.5000 - val_loss: 816.7171 - val_mae: 816.7171 - val_mse: 1483843.6250\n",
            "Epoch 55/100\n",
            "24/24 [==============================] - 0s 6ms/step - loss: 202.2238 - mae: 202.2238 - mse: 328671.2500 - val_loss: 849.8763 - val_mae: 849.8763 - val_mse: 1544379.0000\n",
            "Epoch 56/100\n",
            "24/24 [==============================] - 0s 6ms/step - loss: 205.4779 - mae: 205.4779 - mse: 336755.0938 - val_loss: 828.3480 - val_mae: 828.3480 - val_mse: 1518267.5000\n",
            "Epoch 57/100\n",
            "24/24 [==============================] - 0s 7ms/step - loss: 229.7676 - mae: 229.7676 - mse: 379136.2188 - val_loss: 819.6329 - val_mae: 819.6329 - val_mse: 1485873.2500\n",
            "Epoch 58/100\n",
            "24/24 [==============================] - 0s 7ms/step - loss: 198.3352 - mae: 198.3352 - mse: 320262.3750 - val_loss: 878.5913 - val_mae: 878.5913 - val_mse: 1606006.5000\n",
            "Epoch 59/100\n",
            "24/24 [==============================] - 0s 8ms/step - loss: 204.4304 - mae: 204.4304 - mse: 337409.5312 - val_loss: 909.6529 - val_mae: 909.6529 - val_mse: 1711191.3750\n",
            "Epoch 60/100\n",
            "24/24 [==============================] - 0s 6ms/step - loss: 209.0433 - mae: 209.0433 - mse: 347174.0625 - val_loss: 994.9108 - val_mae: 994.9108 - val_mse: 1944298.8750\n",
            "Epoch 61/100\n",
            "24/24 [==============================] - 0s 7ms/step - loss: 206.2148 - mae: 206.2148 - mse: 348885.0000 - val_loss: 871.8303 - val_mae: 871.8303 - val_mse: 1616715.1250\n",
            "Epoch 62/100\n",
            "24/24 [==============================] - 0s 7ms/step - loss: 204.3526 - mae: 204.3526 - mse: 336418.8438 - val_loss: 812.3622 - val_mae: 812.3622 - val_mse: 1472788.8750\n",
            "Epoch 63/100\n",
            "24/24 [==============================] - 0s 9ms/step - loss: 201.2678 - mae: 201.2678 - mse: 326372.5000 - val_loss: 825.7339 - val_mae: 825.7339 - val_mse: 1509492.7500\n",
            "Epoch 64/100\n",
            "24/24 [==============================] - 0s 8ms/step - loss: 199.4310 - mae: 199.4310 - mse: 326973.3750 - val_loss: 826.5702 - val_mae: 826.5702 - val_mse: 1497095.8750\n",
            "Epoch 65/100\n",
            "24/24 [==============================] - 0s 7ms/step - loss: 209.9994 - mae: 209.9994 - mse: 340787.4688 - val_loss: 1122.2819 - val_mae: 1122.2819 - val_mse: 2319985.2500\n",
            "Epoch 66/100\n",
            "24/24 [==============================] - 0s 9ms/step - loss: 218.6195 - mae: 218.6195 - mse: 354884.6562 - val_loss: 933.5740 - val_mae: 933.5740 - val_mse: 1734487.0000\n",
            "Epoch 67/100\n",
            "24/24 [==============================] - 0s 6ms/step - loss: 198.6521 - mae: 198.6521 - mse: 321579.1875 - val_loss: 851.3918 - val_mae: 851.3918 - val_mse: 1546346.6250\n",
            "Epoch 68/100\n",
            "24/24 [==============================] - 0s 7ms/step - loss: 202.1515 - mae: 202.1515 - mse: 320982.8438 - val_loss: 807.2507 - val_mae: 807.2507 - val_mse: 1465183.1250\n",
            "Epoch 69/100\n",
            "24/24 [==============================] - 0s 6ms/step - loss: 209.5146 - mae: 209.5146 - mse: 321579.0312 - val_loss: 857.5516 - val_mae: 857.5516 - val_mse: 1583906.3750\n",
            "Epoch 70/100\n",
            "24/24 [==============================] - 0s 5ms/step - loss: 203.5450 - mae: 203.5450 - mse: 318089.5312 - val_loss: 964.3373 - val_mae: 964.3373 - val_mse: 1810717.6250\n",
            "Epoch 71/100\n",
            "24/24 [==============================] - 0s 5ms/step - loss: 214.1771 - mae: 214.1771 - mse: 352420.2188 - val_loss: 1396.6017 - val_mae: 1396.6017 - val_mse: 3149728.5000\n",
            "Epoch 72/100\n",
            "24/24 [==============================] - 0s 5ms/step - loss: 256.8354 - mae: 256.8354 - mse: 465357.1250 - val_loss: 854.0361 - val_mae: 854.0361 - val_mse: 1577773.0000\n",
            "Epoch 73/100\n",
            "24/24 [==============================] - 0s 5ms/step - loss: 197.5648 - mae: 197.5648 - mse: 321749.2188 - val_loss: 820.9872 - val_mae: 820.9872 - val_mse: 1501800.7500\n",
            "Epoch 74/100\n",
            "24/24 [==============================] - 0s 5ms/step - loss: 212.9809 - mae: 212.9809 - mse: 346176.6875 - val_loss: 896.4300 - val_mae: 896.4300 - val_mse: 1679307.6250\n",
            "Epoch 75/100\n",
            "24/24 [==============================] - 0s 4ms/step - loss: 214.5876 - mae: 214.5876 - mse: 346949.6875 - val_loss: 993.7554 - val_mae: 993.7554 - val_mse: 1940526.3750\n",
            "Epoch 76/100\n",
            "24/24 [==============================] - 0s 5ms/step - loss: 210.5748 - mae: 210.5748 - mse: 343048.5938 - val_loss: 807.9524 - val_mae: 807.9524 - val_mse: 1465623.7500\n",
            "Epoch 77/100\n",
            "24/24 [==============================] - 0s 4ms/step - loss: 198.9610 - mae: 198.9610 - mse: 323112.9062 - val_loss: 1381.4131 - val_mae: 1381.4131 - val_mse: 3093690.2500\n",
            "Epoch 78/100\n",
            "24/24 [==============================] - 0s 5ms/step - loss: 360.9150 - mae: 360.9150 - mse: 748178.1250 - val_loss: 830.5918 - val_mae: 830.5918 - val_mse: 1525952.1250\n",
            "Epoch 79/100\n",
            "24/24 [==============================] - 0s 5ms/step - loss: 269.2868 - mae: 269.2868 - mse: 493615.4062 - val_loss: 863.3507 - val_mae: 863.3507 - val_mse: 1577362.3750\n",
            "Epoch 80/100\n",
            "24/24 [==============================] - 0s 5ms/step - loss: 204.8260 - mae: 204.8260 - mse: 338085.6875 - val_loss: 803.1969 - val_mae: 803.1969 - val_mse: 1460568.7500\n",
            "Epoch 81/100\n",
            "24/24 [==============================] - 0s 5ms/step - loss: 204.6579 - mae: 204.6579 - mse: 317297.2812 - val_loss: 1333.6703 - val_mae: 1333.6703 - val_mse: 3024086.7500\n",
            "Epoch 82/100\n",
            "24/24 [==============================] - 0s 4ms/step - loss: 237.7211 - mae: 237.7211 - mse: 416662.9062 - val_loss: 812.6375 - val_mae: 812.6375 - val_mse: 1482581.1250\n",
            "Epoch 83/100\n",
            "24/24 [==============================] - 0s 4ms/step - loss: 212.2729 - mae: 212.2729 - mse: 339861.4062 - val_loss: 804.7926 - val_mae: 804.7926 - val_mse: 1462906.6250\n",
            "Epoch 84/100\n",
            "24/24 [==============================] - 0s 4ms/step - loss: 212.7903 - mae: 212.7903 - mse: 343232.9688 - val_loss: 840.1361 - val_mae: 840.1361 - val_mse: 1543788.3750\n",
            "Epoch 85/100\n",
            "24/24 [==============================] - 0s 4ms/step - loss: 214.0479 - mae: 214.0479 - mse: 334955.7812 - val_loss: 811.2161 - val_mae: 811.2161 - val_mse: 1477206.6250\n",
            "Epoch 86/100\n",
            "24/24 [==============================] - 0s 5ms/step - loss: 204.2610 - mae: 204.2610 - mse: 329425.0312 - val_loss: 817.5465 - val_mae: 817.5465 - val_mse: 1479621.5000\n",
            "Epoch 87/100\n",
            "24/24 [==============================] - 0s 5ms/step - loss: 198.2695 - mae: 198.2695 - mse: 321731.0625 - val_loss: 915.2502 - val_mae: 915.2502 - val_mse: 1688307.7500\n",
            "Epoch 88/100\n",
            "24/24 [==============================] - 0s 5ms/step - loss: 213.3327 - mae: 213.3327 - mse: 334224.5000 - val_loss: 801.6129 - val_mae: 801.6129 - val_mse: 1453160.8750\n",
            "Epoch 89/100\n",
            "24/24 [==============================] - 0s 5ms/step - loss: 209.9650 - mae: 209.9650 - mse: 341381.9688 - val_loss: 800.6274 - val_mae: 800.6274 - val_mse: 1454351.5000\n",
            "Epoch 90/100\n",
            "24/24 [==============================] - 0s 5ms/step - loss: 202.6634 - mae: 202.6634 - mse: 328599.0000 - val_loss: 1593.2150 - val_mae: 1593.2150 - val_mse: 4021368.5000\n",
            "Epoch 91/100\n",
            "24/24 [==============================] - 0s 5ms/step - loss: 229.2380 - mae: 229.2380 - mse: 370360.5312 - val_loss: 885.6804 - val_mae: 885.6804 - val_mse: 1618471.8750\n",
            "Epoch 92/100\n",
            "24/24 [==============================] - 0s 5ms/step - loss: 246.8867 - mae: 246.8867 - mse: 408918.5000 - val_loss: 815.4192 - val_mae: 815.4192 - val_mse: 1474527.7500\n",
            "Epoch 93/100\n",
            "24/24 [==============================] - 0s 5ms/step - loss: 234.3177 - mae: 234.3177 - mse: 406151.1250 - val_loss: 975.0968 - val_mae: 975.0968 - val_mse: 1887179.2500\n",
            "Epoch 94/100\n",
            "24/24 [==============================] - 0s 4ms/step - loss: 220.1091 - mae: 220.1091 - mse: 343972.4375 - val_loss: 866.4022 - val_mae: 866.4023 - val_mse: 1575727.5000\n",
            "Epoch 95/100\n",
            "24/24 [==============================] - 0s 4ms/step - loss: 202.7332 - mae: 202.7332 - mse: 329043.0625 - val_loss: 832.2631 - val_mae: 832.2631 - val_mse: 1522185.7500\n",
            "Epoch 96/100\n",
            "24/24 [==============================] - 0s 5ms/step - loss: 198.4930 - mae: 198.4930 - mse: 312693.0312 - val_loss: 802.0837 - val_mae: 802.0837 - val_mse: 1452434.2500\n",
            "Epoch 97/100\n",
            "24/24 [==============================] - 0s 5ms/step - loss: 195.8144 - mae: 195.8144 - mse: 313469.2500 - val_loss: 1074.4139 - val_mae: 1074.4139 - val_mse: 2168190.0000\n",
            "Epoch 98/100\n",
            "24/24 [==============================] - 0s 5ms/step - loss: 240.0616 - mae: 240.0616 - mse: 402552.6875 - val_loss: 1105.5344 - val_mae: 1105.5344 - val_mse: 2262402.7500\n",
            "Epoch 99/100\n",
            "24/24 [==============================] - 0s 4ms/step - loss: 211.5744 - mae: 211.5744 - mse: 342502.1250 - val_loss: 811.7261 - val_mae: 811.7261 - val_mse: 1478798.1250\n",
            "Epoch 100/100\n",
            "24/24 [==============================] - 0s 5ms/step - loss: 206.8885 - mae: 206.8885 - mse: 333099.3750 - val_loss: 881.9917 - val_mae: 881.9917 - val_mse: 1645609.1250\n"
          ]
        },
        {
          "output_type": "execute_result",
          "data": {
            "text/plain": [
              "<keras.callbacks.History at 0x7fecb02a9270>"
            ]
          },
          "metadata": {},
          "execution_count": 37
        }
      ],
      "source": [
        "model_1.fit(x=train_windows,\n",
        "            y=train_labels,\n",
        "            epochs=100,\n",
        "            verbose=1,\n",
        "            batch_size=128,\n",
        "            validation_data=(test_windows, test_labels))"
      ]
    },
    {
      "cell_type": "code",
      "execution_count": null,
      "metadata": {
        "colab": {
          "base_uri": "https://localhost:8080/"
        },
        "id": "SIeoT7KBJkla",
        "outputId": "693fa7b4-d9e5-4cf6-83fe-4bccf695f9c9"
      },
      "outputs": [
        {
          "output_type": "stream",
          "name": "stdout",
          "text": [
            "23/23 [==============================] - 0s 2ms/step - loss: 881.9916 - mae: 881.9916 - mse: 1645609.0000\n"
          ]
        },
        {
          "output_type": "execute_result",
          "data": {
            "text/plain": [
              "[881.9916381835938, 881.9916381835938, 1645609.0]"
            ]
          },
          "metadata": {},
          "execution_count": 38
        }
      ],
      "source": [
        "model_1.evaluate(test_windows, test_labels)"
      ]
    },
    {
      "cell_type": "code",
      "execution_count": null,
      "metadata": {
        "id": "bWSltUamJr7r"
      },
      "outputs": [],
      "source": [
        "def make_preds(model, input_data):\n",
        "  \"\"\"\n",
        "  Uses model to make predications on input_data\n",
        "  \"\"\"\n",
        "  forecast = model.predict(input_data)\n",
        "  return tf.squeeze(forecast)"
      ]
    },
    {
      "cell_type": "code",
      "execution_count": null,
      "metadata": {
        "colab": {
          "base_uri": "https://localhost:8080/"
        },
        "id": "8yDTMIIcKgEg",
        "outputId": "64e9cd02-a9df-40df-abbe-a4e467aa0ec3"
      },
      "outputs": [
        {
          "output_type": "stream",
          "name": "stdout",
          "text": [
            "23/23 [==============================] - 0s 1ms/step\n"
          ]
        },
        {
          "output_type": "execute_result",
          "data": {
            "text/plain": [
              "(731,\n",
              " <tf.Tensor: shape=(10,), dtype=float32, numpy=\n",
              " array([39464.652, 37621.867, 36310.37 , 36167.008, 34058.008, 33905.293,\n",
              "        37159.535, 37052.746, 37865.26 , 36246.227], dtype=float32)>)"
            ]
          },
          "metadata": {},
          "execution_count": 40
        }
      ],
      "source": [
        "model_1_preds = make_preds(model_1, test_windows)\n",
        "len(model_1_preds), model_1_preds[:10]"
      ]
    },
    {
      "cell_type": "code",
      "execution_count": null,
      "metadata": {
        "colab": {
          "base_uri": "https://localhost:8080/"
        },
        "id": "pJ3ukjdwK20K",
        "outputId": "35cab40f-bb63-4c6a-f5ce-a0101f7ea8b7"
      },
      "outputs": [
        {
          "output_type": "execute_result",
          "data": {
            "text/plain": [
              "array([36894.40532994, 35551.95872588, 35862.37772747, 33560.70783776,\n",
              "       33472.63174808, 37345.12148619, 36702.59937466, 37334.39952553,\n",
              "       35552.51714847, 39097.86089667])"
            ]
          },
          "metadata": {},
          "execution_count": 41
        }
      ],
      "source": [
        "test_labels[:10]"
      ]
    },
    {
      "cell_type": "code",
      "execution_count": null,
      "metadata": {
        "colab": {
          "base_uri": "https://localhost:8080/"
        },
        "id": "GYfbRKvSLI1M",
        "outputId": "cc4e107f-49f8-4825-b8f6-f3fbeaf22a09"
      },
      "outputs": [
        {
          "output_type": "execute_result",
          "data": {
            "text/plain": [
              "((731,), TensorShape([731]))"
            ]
          },
          "metadata": {},
          "execution_count": 42
        }
      ],
      "source": [
        "test_labels.shape, model_1_preds.shape"
      ]
    },
    {
      "cell_type": "code",
      "execution_count": null,
      "metadata": {
        "colab": {
          "base_uri": "https://localhost:8080/"
        },
        "id": "1KWoBnsSK6nS",
        "outputId": "03b528b9-c1bd-47e4-8223-f46d8f082c01"
      },
      "outputs": [
        {
          "output_type": "execute_result",
          "data": {
            "text/plain": [
              "{'mae': 881.99164,\n",
              " 'mse': 1645608.8,\n",
              " 'rmse': 1282.8129,\n",
              " 'mape': 2.6195707,\n",
              " 'mase': 1.1178596}"
            ]
          },
          "metadata": {},
          "execution_count": 43
        }
      ],
      "source": [
        "model_1_results = evaluate_preds(test_labels, model_1_preds)\n",
        "model_1_results"
      ]
    },
    {
      "cell_type": "code",
      "execution_count": null,
      "metadata": {
        "colab": {
          "base_uri": "https://localhost:8080/",
          "height": 619
        },
        "id": "4TkEKzzaLDaV",
        "outputId": "9640c0df-f467-40c7-e1b8-c0660a2f25fb"
      },
      "outputs": [
        {
          "output_type": "display_data",
          "data": {
            "text/plain": [
              "<Figure size 1000x700 with 1 Axes>"
            ],
            "image/png": "[encoded data removed]"
          },
          "metadata": {}
        }
      ],
      "source": [
        "offset = 300\n",
        "plt.figure(figsize=(10,7))\n",
        "plot_ts_data(timesteps=X_test[-len(test_windows):], values=test_labels, start=offset, label=\"Test_data\")"
      ]
    },
    {
      "cell_type": "markdown",
      "metadata": {
        "id": "wpxbVgqcMfsp"
      },
      "source": [
        "## Model 2: Dense With a Different Window"
      ]
    },
    {
      "cell_type": "code",
      "execution_count": null,
      "metadata": {
        "id": "Rip4o1qZMD9w"
      },
      "outputs": [],
      "source": [
        "HORIZON = 1\n",
        "WINDOW_SIZE = 30"
      ]
    },
    {
      "cell_type": "code",
      "execution_count": null,
      "metadata": {
        "id": "EcnwCqOrNDxd"
      },
      "outputs": [],
      "source": [
        "full_windows, full_labels = make_windows(prices, window_size=WINDOW_SIZE, horizon= HORIZON)"
      ]
    },
    {
      "cell_type": "code",
      "execution_count": null,
      "metadata": {
        "id": "KizBs-fbNQMb"
      },
      "outputs": [],
      "source": [
        "train_windows, test_windows, train_labels, test_labels = make_train_test_splits(full_windows, full_labels)"
      ]
    },
    {
      "cell_type": "code",
      "execution_count": null,
      "metadata": {
        "colab": {
          "base_uri": "https://localhost:8080/"
        },
        "id": "xWeatII1Nquo",
        "outputId": "ebd301e3-7941-4894-d216-514b93347928"
      },
      "outputs": [
        {
          "output_type": "execute_result",
          "data": {
            "text/plain": [
              "array([144.53999329, 139.        , 116.98999786, 105.20999908,\n",
              "        97.75      , 112.5       , 115.91000366, 112.30000305,\n",
              "       111.5       , 113.56600189, 112.66999817, 117.19999695,\n",
              "       115.24299622, 115.        , 117.98000336, 111.5       ,\n",
              "       114.22000122, 118.76000214, 123.01499939, 123.4980011 ,\n",
              "       121.98999786, 122.        , 122.87999725, 123.88899994,\n",
              "       126.69999695, 133.19999695, 131.97999573, 133.47999573,\n",
              "       129.74499512, 129.        ])"
            ]
          },
          "metadata": {},
          "execution_count": 48
        }
      ],
      "source": [
        "train_windows[1]"
      ]
    },
    {
      "cell_type": "code",
      "execution_count": null,
      "metadata": {
        "colab": {
          "base_uri": "https://localhost:8080/"
        },
        "id": "R3yNXEAGNsWI",
        "outputId": "63c3648f-045e-4c21-815e-5b4f42c4421c"
      },
      "outputs": [
        {
          "output_type": "stream",
          "name": "stdout",
          "text": [
            "Epoch 1/100\n",
            "24/24 [==============================] - 1s 11ms/step - loss: 1765.9187 - mae: 1765.9187 - mse: 18916490.0000 - val_loss: 4905.1270 - val_mae: 4905.1270 - val_mse: 37986976.0000\n",
            "Epoch 2/100\n",
            "24/24 [==============================] - 0s 5ms/step - loss: 642.6586 - mae: 642.6586 - mse: 2749835.0000 - val_loss: 2188.0579 - val_mae: 2188.0579 - val_mse: 8067127.0000\n",
            "Epoch 3/100\n",
            "24/24 [==============================] - 0s 4ms/step - loss: 398.1117 - mae: 398.1117 - mse: 1153901.1250 - val_loss: 1407.9978 - val_mae: 1407.9978 - val_mse: 3868029.5000\n",
            "Epoch 4/100\n",
            "24/24 [==============================] - 0s 4ms/step - loss: 384.5648 - mae: 384.5648 - mse: 1052673.2500 - val_loss: 1363.1924 - val_mae: 1363.1924 - val_mse: 3625353.0000\n",
            "Epoch 5/100\n",
            "24/24 [==============================] - 0s 5ms/step - loss: 405.2143 - mae: 405.2143 - mse: 1182289.8750 - val_loss: 2258.5986 - val_mae: 2258.5986 - val_mse: 8083375.5000\n",
            "Epoch 6/100\n",
            "24/24 [==============================] - 0s 4ms/step - loss: 544.7004 - mae: 544.7004 - mse: 1815228.8750 - val_loss: 1687.0009 - val_mae: 1687.0009 - val_mse: 5098166.0000\n",
            "Epoch 7/100\n",
            "24/24 [==============================] - 0s 5ms/step - loss: 403.7795 - mae: 403.7795 - mse: 1101290.8750 - val_loss: 1261.1338 - val_mae: 1261.1338 - val_mse: 3123712.0000\n",
            "Epoch 8/100\n",
            "24/24 [==============================] - 0s 4ms/step - loss: 346.6530 - mae: 346.6530 - mse: 855869.0625 - val_loss: 1351.6447 - val_mae: 1351.6447 - val_mse: 3463478.5000\n",
            "Epoch 9/100\n",
            "24/24 [==============================] - 0s 5ms/step - loss: 343.6331 - mae: 343.6331 - mse: 827052.5625 - val_loss: 1514.9976 - val_mae: 1514.9976 - val_mse: 4251054.5000\n",
            "Epoch 10/100\n",
            "24/24 [==============================] - 0s 7ms/step - loss: 348.3855 - mae: 348.3855 - mse: 851323.7500 - val_loss: 1176.5243 - val_mae: 1176.5243 - val_mse: 2784686.0000\n",
            "Epoch 11/100\n",
            "24/24 [==============================] - 0s 4ms/step - loss: 342.8052 - mae: 342.8052 - mse: 823503.0625 - val_loss: 1612.3596 - val_mae: 1612.3596 - val_mse: 4479029.5000\n",
            "Epoch 12/100\n",
            "24/24 [==============================] - 0s 4ms/step - loss: 326.8323 - mae: 326.8323 - mse: 713495.6875 - val_loss: 2870.3660 - val_mae: 2870.3660 - val_mse: 11558878.0000\n",
            "Epoch 13/100\n",
            "24/24 [==============================] - 0s 5ms/step - loss: 394.6660 - mae: 394.6660 - mse: 1037171.2500 - val_loss: 1131.5957 - val_mae: 1131.5957 - val_mse: 2616750.2500\n",
            "Epoch 14/100\n",
            "24/24 [==============================] - 0s 4ms/step - loss: 314.7537 - mae: 314.7537 - mse: 725812.3125 - val_loss: 1116.2375 - val_mae: 1116.2375 - val_mse: 2527618.7500\n",
            "Epoch 15/100\n",
            "24/24 [==============================] - 0s 5ms/step - loss: 307.6191 - mae: 307.6191 - mse: 679791.2500 - val_loss: 2931.1628 - val_mae: 2931.1628 - val_mse: 11826546.0000\n",
            "Epoch 16/100\n",
            "24/24 [==============================] - 0s 5ms/step - loss: 408.4788 - mae: 408.4788 - mse: 1025597.0625 - val_loss: 2391.3770 - val_mae: 2391.3770 - val_mse: 8352257.5000\n",
            "Epoch 17/100\n",
            "24/24 [==============================] - 0s 4ms/step - loss: 341.9220 - mae: 341.9220 - mse: 780926.8750 - val_loss: 2029.5470 - val_mae: 2029.5470 - val_mse: 6626310.0000\n",
            "Epoch 18/100\n",
            "24/24 [==============================] - 0s 4ms/step - loss: 301.8417 - mae: 301.8417 - mse: 635810.4375 - val_loss: 1613.8132 - val_mae: 1613.8132 - val_mse: 4336190.0000\n",
            "Epoch 19/100\n",
            "24/24 [==============================] - 0s 5ms/step - loss: 392.5765 - mae: 392.5765 - mse: 937882.6875 - val_loss: 1088.0563 - val_mae: 1088.0563 - val_mse: 2445134.7500\n",
            "Epoch 20/100\n",
            "24/24 [==============================] - 0s 4ms/step - loss: 304.7169 - mae: 304.7169 - mse: 632096.6250 - val_loss: 1739.4221 - val_mae: 1739.4221 - val_mse: 5139437.0000\n",
            "Epoch 21/100\n",
            "24/24 [==============================] - 0s 5ms/step - loss: 300.6586 - mae: 300.6586 - mse: 625083.4375 - val_loss: 1096.5387 - val_mae: 1096.5387 - val_mse: 2419501.5000\n",
            "Epoch 22/100\n",
            "24/24 [==============================] - 0s 5ms/step - loss: 296.6584 - mae: 296.6584 - mse: 606503.4375 - val_loss: 1802.6487 - val_mae: 1802.6487 - val_mse: 5134265.5000\n",
            "Epoch 23/100\n",
            "24/24 [==============================] - 0s 4ms/step - loss: 337.5148 - mae: 337.5148 - mse: 735793.9375 - val_loss: 1863.0613 - val_mae: 1863.0613 - val_mse: 5711901.5000\n",
            "Epoch 24/100\n",
            "24/24 [==============================] - 0s 5ms/step - loss: 302.5179 - mae: 302.5179 - mse: 614885.3750 - val_loss: 1090.8904 - val_mae: 1090.8904 - val_mse: 2379583.0000\n",
            "Epoch 25/100\n",
            "24/24 [==============================] - 0s 5ms/step - loss: 301.4272 - mae: 301.4272 - mse: 637280.7500 - val_loss: 1142.4515 - val_mae: 1142.4515 - val_mse: 2532853.2500\n",
            "Epoch 26/100\n",
            "24/24 [==============================] - 0s 4ms/step - loss: 329.8383 - mae: 329.8383 - mse: 703311.6250 - val_loss: 1035.8120 - val_mae: 1035.8120 - val_mse: 2251839.2500\n",
            "Epoch 27/100\n",
            "24/24 [==============================] - 0s 5ms/step - loss: 288.4389 - mae: 288.4389 - mse: 603831.1875 - val_loss: 1082.9918 - val_mae: 1082.9918 - val_mse: 2404678.0000\n",
            "Epoch 28/100\n",
            "24/24 [==============================] - 0s 4ms/step - loss: 275.5318 - mae: 275.5318 - mse: 550298.8125 - val_loss: 2275.2830 - val_mae: 2275.2830 - val_mse: 7792479.5000\n",
            "Epoch 29/100\n",
            "24/24 [==============================] - 0s 4ms/step - loss: 438.4252 - mae: 438.4252 - mse: 1111596.0000 - val_loss: 1992.0856 - val_mae: 1992.0856 - val_mse: 6284902.0000\n",
            "Epoch 30/100\n",
            "24/24 [==============================] - 0s 5ms/step - loss: 309.1971 - mae: 309.1971 - mse: 665060.0625 - val_loss: 1013.5977 - val_mae: 1013.5977 - val_mse: 2166067.7500\n",
            "Epoch 31/100\n",
            "24/24 [==============================] - 0s 5ms/step - loss: 281.9301 - mae: 281.9301 - mse: 580081.4375 - val_loss: 1235.4722 - val_mae: 1235.4722 - val_mse: 2924936.2500\n",
            "Epoch 32/100\n",
            "24/24 [==============================] - 0s 5ms/step - loss: 297.7747 - mae: 297.7747 - mse: 628294.1250 - val_loss: 1001.5823 - val_mae: 1001.5823 - val_mse: 2126451.2500\n",
            "Epoch 33/100\n",
            "24/24 [==============================] - 0s 4ms/step - loss: 283.9545 - mae: 283.9545 - mse: 574951.8750 - val_loss: 1196.5145 - val_mae: 1196.5145 - val_mse: 2767091.5000\n",
            "Epoch 34/100\n",
            "24/24 [==============================] - 0s 5ms/step - loss: 285.3973 - mae: 285.3973 - mse: 549438.3750 - val_loss: 2193.3750 - val_mae: 2193.3750 - val_mse: 7265337.0000\n",
            "Epoch 35/100\n",
            "24/24 [==============================] - 0s 5ms/step - loss: 384.7762 - mae: 384.7762 - mse: 883068.1875 - val_loss: 1093.9281 - val_mae: 1093.9281 - val_mse: 2336801.7500\n",
            "Epoch 36/100\n",
            "24/24 [==============================] - 0s 5ms/step - loss: 318.1011 - mae: 318.1011 - mse: 654739.8750 - val_loss: 1754.9664 - val_mae: 1754.9664 - val_mse: 5076646.5000\n",
            "Epoch 37/100\n",
            "24/24 [==============================] - 0s 5ms/step - loss: 275.2410 - mae: 275.2410 - mse: 507118.3438 - val_loss: 1953.9797 - val_mae: 1953.9797 - val_mse: 6017305.5000\n",
            "Epoch 38/100\n",
            "24/24 [==============================] - 0s 5ms/step - loss: 377.5135 - mae: 377.5135 - mse: 871862.4375 - val_loss: 2504.6592 - val_mae: 2504.6592 - val_mse: 9010527.0000\n",
            "Epoch 39/100\n",
            "24/24 [==============================] - 0s 5ms/step - loss: 309.1485 - mae: 309.1485 - mse: 662392.3750 - val_loss: 993.4716 - val_mae: 993.4716 - val_mse: 2095099.2500\n",
            "Epoch 40/100\n",
            "24/24 [==============================] - 0s 5ms/step - loss: 263.7101 - mae: 263.7101 - mse: 497610.0938 - val_loss: 2385.5811 - val_mae: 2385.5811 - val_mse: 8302603.0000\n",
            "Epoch 41/100\n",
            "24/24 [==============================] - 0s 5ms/step - loss: 396.9237 - mae: 396.9237 - mse: 1012192.9375 - val_loss: 972.3483 - val_mae: 972.3483 - val_mse: 2012126.3750\n",
            "Epoch 42/100\n",
            "24/24 [==============================] - 0s 5ms/step - loss: 263.5466 - mae: 263.5466 - mse: 498335.3438 - val_loss: 1319.8682 - val_mae: 1319.8682 - val_mse: 3055323.5000\n",
            "Epoch 43/100\n",
            "24/24 [==============================] - 0s 5ms/step - loss: 270.8875 - mae: 270.8875 - mse: 523670.7500 - val_loss: 1625.0831 - val_mae: 1625.0831 - val_mse: 4468153.0000\n",
            "Epoch 44/100\n",
            "24/24 [==============================] - 0s 5ms/step - loss: 273.5277 - mae: 273.5277 - mse: 528280.8125 - val_loss: 1098.4098 - val_mae: 1098.4098 - val_mse: 2415868.5000\n",
            "Epoch 45/100\n",
            "24/24 [==============================] - 0s 4ms/step - loss: 249.3474 - mae: 249.3474 - mse: 456458.2188 - val_loss: 1233.0219 - val_mae: 1233.0219 - val_mse: 2749390.2500\n",
            "Epoch 46/100\n",
            "24/24 [==============================] - 0s 5ms/step - loss: 279.4919 - mae: 279.4919 - mse: 522089.1875 - val_loss: 1373.1818 - val_mae: 1373.1818 - val_mse: 3243433.5000\n",
            "Epoch 47/100\n",
            "24/24 [==============================] - 0s 4ms/step - loss: 277.7728 - mae: 277.7728 - mse: 531107.8125 - val_loss: 1578.0474 - val_mae: 1578.0474 - val_mse: 4241849.5000\n",
            "Epoch 48/100\n",
            "24/24 [==============================] - 0s 4ms/step - loss: 304.1705 - mae: 304.1705 - mse: 607706.6875 - val_loss: 3961.5649 - val_mae: 3961.5649 - val_mse: 19615460.0000\n",
            "Epoch 49/100\n",
            "24/24 [==============================] - 0s 5ms/step - loss: 550.9816 - mae: 550.9816 - mse: 1826638.7500 - val_loss: 1092.4105 - val_mae: 1092.4105 - val_mse: 2387552.7500\n",
            "Epoch 50/100\n",
            "24/24 [==============================] - 0s 5ms/step - loss: 257.2865 - mae: 257.2865 - mse: 482056.0312 - val_loss: 1607.5015 - val_mae: 1607.5015 - val_mse: 4354225.0000\n",
            "Epoch 51/100\n",
            "24/24 [==============================] - 0s 4ms/step - loss: 319.6034 - mae: 319.6034 - mse: 659050.8750 - val_loss: 1195.6500 - val_mae: 1195.6500 - val_mse: 2612069.0000\n",
            "Epoch 52/100\n",
            "24/24 [==============================] - 0s 5ms/step - loss: 306.0029 - mae: 306.0029 - mse: 611750.1875 - val_loss: 2781.1680 - val_mae: 2781.1680 - val_mse: 10690655.0000\n",
            "Epoch 53/100\n",
            "24/24 [==============================] - 0s 5ms/step - loss: 364.0621 - mae: 364.0621 - mse: 766955.5625 - val_loss: 1230.6198 - val_mae: 1230.6198 - val_mse: 2725704.5000\n",
            "Epoch 54/100\n",
            "24/24 [==============================] - 0s 5ms/step - loss: 280.6436 - mae: 280.6436 - mse: 536114.1250 - val_loss: 928.3552 - val_mae: 928.3552 - val_mse: 1854918.0000\n",
            "Epoch 55/100\n",
            "24/24 [==============================] - 0s 4ms/step - loss: 272.6295 - mae: 272.6295 - mse: 494713.5000 - val_loss: 1288.1068 - val_mae: 1288.1068 - val_mse: 3062924.0000\n",
            "Epoch 56/100\n",
            "24/24 [==============================] - 0s 5ms/step - loss: 259.5583 - mae: 259.5583 - mse: 467789.5312 - val_loss: 975.4536 - val_mae: 975.4536 - val_mse: 2006944.8750\n",
            "Epoch 57/100\n",
            "24/24 [==============================] - 0s 5ms/step - loss: 245.1393 - mae: 245.1393 - mse: 442134.1562 - val_loss: 1368.6036 - val_mae: 1368.6036 - val_mse: 3199494.5000\n",
            "Epoch 58/100\n",
            "24/24 [==============================] - 0s 4ms/step - loss: 307.8194 - mae: 307.8194 - mse: 569088.2500 - val_loss: 993.1071 - val_mae: 993.1071 - val_mse: 2053331.0000\n",
            "Epoch 59/100\n",
            "24/24 [==============================] - 0s 5ms/step - loss: 240.0033 - mae: 240.0033 - mse: 425045.9688 - val_loss: 1035.7754 - val_mae: 1035.7754 - val_mse: 2110400.2500\n",
            "Epoch 60/100\n",
            "24/24 [==============================] - 0s 4ms/step - loss: 242.7751 - mae: 242.7751 - mse: 429399.5938 - val_loss: 939.2075 - val_mae: 939.2075 - val_mse: 1872995.3750\n",
            "Epoch 61/100\n",
            "24/24 [==============================] - 0s 5ms/step - loss: 249.3870 - mae: 249.3870 - mse: 438567.1875 - val_loss: 1031.7249 - val_mae: 1031.7249 - val_mse: 2172848.0000\n",
            "Epoch 62/100\n",
            "24/24 [==============================] - 0s 6ms/step - loss: 265.0907 - mae: 265.0907 - mse: 504000.2500 - val_loss: 1265.0544 - val_mae: 1265.0544 - val_mse: 2971663.5000\n",
            "Epoch 63/100\n",
            "24/24 [==============================] - 0s 7ms/step - loss: 255.8503 - mae: 255.8503 - mse: 443437.9688 - val_loss: 921.1406 - val_mae: 921.1406 - val_mse: 1804121.1250\n",
            "Epoch 64/100\n",
            "24/24 [==============================] - 0s 6ms/step - loss: 256.4359 - mae: 256.4359 - mse: 471310.8438 - val_loss: 1037.3075 - val_mae: 1037.3075 - val_mse: 2187956.5000\n",
            "Epoch 65/100\n",
            "24/24 [==============================] - 0s 7ms/step - loss: 273.7781 - mae: 273.7781 - mse: 505694.4688 - val_loss: 914.4328 - val_mae: 914.4328 - val_mse: 1770921.6250\n",
            "Epoch 66/100\n",
            "24/24 [==============================] - 0s 6ms/step - loss: 259.9365 - mae: 259.9365 - mse: 484679.9688 - val_loss: 1050.1921 - val_mae: 1050.1921 - val_mse: 2228569.0000\n",
            "Epoch 67/100\n",
            "24/24 [==============================] - 0s 6ms/step - loss: 271.6748 - mae: 271.6748 - mse: 515245.9688 - val_loss: 1227.6428 - val_mae: 1227.6428 - val_mse: 2687365.0000\n",
            "Epoch 68/100\n",
            "24/24 [==============================] - 0s 7ms/step - loss: 257.9734 - mae: 257.9734 - mse: 492136.6875 - val_loss: 949.1840 - val_mae: 949.1840 - val_mse: 1904704.3750\n",
            "Epoch 69/100\n",
            "24/24 [==============================] - 0s 7ms/step - loss: 243.2396 - mae: 243.2396 - mse: 448133.5938 - val_loss: 1582.3782 - val_mae: 1582.3782 - val_mse: 3984599.5000\n",
            "Epoch 70/100\n",
            "24/24 [==============================] - 0s 6ms/step - loss: 274.1876 - mae: 274.1876 - mse: 524525.5000 - val_loss: 907.8805 - val_mae: 907.8805 - val_mse: 1760860.2500\n",
            "Epoch 71/100\n",
            "24/24 [==============================] - 0s 6ms/step - loss: 271.1038 - mae: 271.1038 - mse: 511344.0938 - val_loss: 909.3522 - val_mae: 909.3522 - val_mse: 1768175.8750\n",
            "Epoch 72/100\n",
            "24/24 [==============================] - 0s 6ms/step - loss: 265.6288 - mae: 265.6288 - mse: 500669.0938 - val_loss: 1256.7612 - val_mae: 1256.7612 - val_mse: 2934764.0000\n",
            "Epoch 73/100\n",
            "24/24 [==============================] - 0s 7ms/step - loss: 262.9892 - mae: 262.9892 - mse: 486979.2812 - val_loss: 1326.1011 - val_mae: 1326.1011 - val_mse: 3175952.2500\n",
            "Epoch 74/100\n",
            "24/24 [==============================] - 0s 7ms/step - loss: 272.7405 - mae: 272.7405 - mse: 501752.5312 - val_loss: 1854.6105 - val_mae: 1854.6105 - val_mse: 5349672.0000\n",
            "Epoch 75/100\n",
            "24/24 [==============================] - 0s 6ms/step - loss: 278.4072 - mae: 278.4072 - mse: 543282.5625 - val_loss: 902.9925 - val_mae: 902.9925 - val_mse: 1732558.6250\n",
            "Epoch 76/100\n",
            "24/24 [==============================] - 0s 6ms/step - loss: 245.3048 - mae: 245.3048 - mse: 436639.7812 - val_loss: 896.6066 - val_mae: 896.6066 - val_mse: 1712835.7500\n",
            "Epoch 77/100\n",
            "24/24 [==============================] - 0s 6ms/step - loss: 238.6278 - mae: 238.6278 - mse: 407147.7500 - val_loss: 947.1691 - val_mae: 947.1693 - val_mse: 1889940.6250\n",
            "Epoch 78/100\n",
            "24/24 [==============================] - 0s 4ms/step - loss: 245.6578 - mae: 245.6578 - mse: 444251.4062 - val_loss: 917.7221 - val_mae: 917.7221 - val_mse: 1796862.7500\n",
            "Epoch 79/100\n",
            "24/24 [==============================] - 0s 5ms/step - loss: 261.7878 - mae: 261.7878 - mse: 463668.6250 - val_loss: 905.8103 - val_mae: 905.8103 - val_mse: 1761794.8750\n",
            "Epoch 80/100\n",
            "24/24 [==============================] - 0s 5ms/step - loss: 258.0458 - mae: 258.0458 - mse: 454056.7500 - val_loss: 1104.6583 - val_mae: 1104.6583 - val_mse: 2294557.0000\n",
            "Epoch 81/100\n",
            "24/24 [==============================] - 0s 4ms/step - loss: 273.0752 - mae: 273.0752 - mse: 503453.6875 - val_loss: 1069.4309 - val_mae: 1069.4309 - val_mse: 2189829.5000\n",
            "Epoch 82/100\n",
            "24/24 [==============================] - 0s 5ms/step - loss: 274.4360 - mae: 274.4360 - mse: 488911.3125 - val_loss: 1228.3987 - val_mae: 1228.3987 - val_mse: 2678785.5000\n",
            "Epoch 83/100\n",
            "24/24 [==============================] - 0s 5ms/step - loss: 242.3832 - mae: 242.3832 - mse: 426699.5000 - val_loss: 905.5999 - val_mae: 905.5999 - val_mse: 1729464.6250\n",
            "Epoch 84/100\n",
            "24/24 [==============================] - 0s 5ms/step - loss: 232.4312 - mae: 232.4312 - mse: 404136.5938 - val_loss: 1108.4697 - val_mae: 1108.4697 - val_mse: 2390400.2500\n",
            "Epoch 85/100\n",
            "24/24 [==============================] - 0s 4ms/step - loss: 250.5125 - mae: 250.5125 - mse: 423911.5000 - val_loss: 991.0243 - val_mae: 991.0243 - val_mse: 2012488.6250\n",
            "Epoch 86/100\n",
            "24/24 [==============================] - 0s 4ms/step - loss: 313.7440 - mae: 313.7440 - mse: 614543.8125 - val_loss: 3004.0940 - val_mae: 3004.0940 - val_mse: 12063293.0000\n",
            "Epoch 87/100\n",
            "24/24 [==============================] - 0s 5ms/step - loss: 446.3224 - mae: 446.3224 - mse: 1202331.3750 - val_loss: 1051.1010 - val_mae: 1051.1010 - val_mse: 2197973.2500\n",
            "Epoch 88/100\n",
            "24/24 [==============================] - 0s 4ms/step - loss: 264.7142 - mae: 264.7142 - mse: 462044.4062 - val_loss: 2761.9468 - val_mae: 2761.9468 - val_mse: 10402073.0000\n",
            "Epoch 89/100\n",
            "24/24 [==============================] - 0s 4ms/step - loss: 412.5251 - mae: 412.5251 - mse: 912592.3125 - val_loss: 2353.6482 - val_mae: 2353.6482 - val_mse: 7901605.5000\n",
            "Epoch 90/100\n",
            "24/24 [==============================] - 0s 5ms/step - loss: 328.2691 - mae: 328.2691 - mse: 654123.8125 - val_loss: 1806.2875 - val_mae: 1806.2875 - val_mse: 4919168.0000\n",
            "Epoch 91/100\n",
            "24/24 [==============================] - 0s 5ms/step - loss: 242.7931 - mae: 242.7931 - mse: 413897.3750 - val_loss: 1432.2196 - val_mae: 1432.2196 - val_mse: 3391538.2500\n",
            "Epoch 92/100\n",
            "24/24 [==============================] - 0s 4ms/step - loss: 243.2361 - mae: 243.2361 - mse: 441884.7188 - val_loss: 1713.8489 - val_mae: 1713.8489 - val_mse: 4525160.0000\n",
            "Epoch 93/100\n",
            "24/24 [==============================] - 0s 5ms/step - loss: 301.2169 - mae: 301.2169 - mse: 554192.9375 - val_loss: 931.0779 - val_mae: 931.0779 - val_mse: 1836647.2500\n",
            "Epoch 94/100\n",
            "24/24 [==============================] - 0s 4ms/step - loss: 236.1943 - mae: 236.1943 - mse: 411074.5938 - val_loss: 877.4866 - val_mae: 877.4866 - val_mse: 1672155.5000\n",
            "Epoch 95/100\n",
            "24/24 [==============================] - 0s 5ms/step - loss: 236.0599 - mae: 236.0599 - mse: 406168.3125 - val_loss: 3079.9968 - val_mae: 3079.9968 - val_mse: 12269797.0000\n",
            "Epoch 96/100\n",
            "24/24 [==============================] - 0s 5ms/step - loss: 339.3076 - mae: 339.3076 - mse: 737893.1250 - val_loss: 883.1068 - val_mae: 883.1068 - val_mse: 1676717.3750\n",
            "Epoch 97/100\n",
            "24/24 [==============================] - 0s 5ms/step - loss: 243.7569 - mae: 243.7569 - mse: 433208.8750 - val_loss: 1159.1340 - val_mae: 1159.1340 - val_mse: 2451013.2500\n",
            "Epoch 98/100\n",
            "24/24 [==============================] - 0s 5ms/step - loss: 250.4725 - mae: 250.4725 - mse: 427352.9375 - val_loss: 2246.2163 - val_mae: 2246.2163 - val_mse: 7255244.0000\n",
            "Epoch 99/100\n",
            "24/24 [==============================] - 0s 5ms/step - loss: 310.6624 - mae: 310.6624 - mse: 598568.0625 - val_loss: 2057.7244 - val_mae: 2057.7244 - val_mse: 6090067.0000\n",
            "Epoch 100/100\n",
            "24/24 [==============================] - 0s 5ms/step - loss: 321.1121 - mae: 321.1121 - mse: 636948.3125 - val_loss: 1693.2845 - val_mae: 1693.2845 - val_mse: 4410686.0000\n"
          ]
        },
        {
          "output_type": "execute_result",
          "data": {
            "text/plain": [
              "<keras.callbacks.History at 0x7fec742f9270>"
            ]
          },
          "metadata": {},
          "execution_count": 49
        }
      ],
      "source": [
        "model_2 = tf.keras.Sequential([\n",
        "    layers.Dense(128, activation=\"relu\"),\n",
        "    layers.Dense(HORIZON,activation=\"linear\")\n",
        "], name=\"model_2_dense\")\n",
        "\n",
        "model_2.compile(loss=\"mae\",\n",
        "                optimizer = tf.keras.optimizers.Adam(),\n",
        "                metrics=[\"mae\", \"mse\"])\n",
        "\n",
        "model_2.fit(x=train_windows,\n",
        "            y=train_labels,\n",
        "            epochs=100,\n",
        "            verbose=1,\n",
        "            batch_size=128,\n",
        "            validation_data=(test_windows, test_labels))"
      ]
    },
    {
      "cell_type": "code",
      "execution_count": null,
      "metadata": {
        "colab": {
          "base_uri": "https://localhost:8080/"
        },
        "id": "Z9VrRoMIOMdF",
        "outputId": "935d3b6b-422f-42bd-fef1-6f24a5dc3707"
      },
      "outputs": [
        {
          "output_type": "stream",
          "name": "stdout",
          "text": [
            "23/23 [==============================] - 0s 3ms/step - loss: 1693.2844 - mae: 1693.2844 - mse: 4410685.5000\n"
          ]
        },
        {
          "output_type": "execute_result",
          "data": {
            "text/plain": [
              "[1693.284423828125, 1693.284423828125, 4410685.5]"
            ]
          },
          "metadata": {},
          "execution_count": 50
        }
      ],
      "source": [
        "model_2.evaluate(test_windows, test_labels)"
      ]
    },
    {
      "cell_type": "code",
      "execution_count": null,
      "metadata": {
        "colab": {
          "base_uri": "https://localhost:8080/"
        },
        "id": "GrqszwptOlbo",
        "outputId": "0a336558-b15d-4bf1-d1f2-50db8c20687c"
      },
      "outputs": [
        {
          "output_type": "stream",
          "name": "stdout",
          "text": [
            "23/23 [==============================] - 0s 1ms/step\n"
          ]
        }
      ],
      "source": [
        "model_2_preds = make_preds(model_2, test_windows)"
      ]
    },
    {
      "cell_type": "code",
      "execution_count": null,
      "metadata": {
        "colab": {
          "base_uri": "https://localhost:8080/"
        },
        "id": "7nue-dorOtl1",
        "outputId": "2054896b-6064-4d07-9d55-035397dfc7dd"
      },
      "outputs": [
        {
          "output_type": "execute_result",
          "data": {
            "text/plain": [
              "{'mae': 1693.2845,\n",
              " 'mse': 4410684.5,\n",
              " 'rmse': 2100.1628,\n",
              " 'mape': 5.131954,\n",
              " 'mase': 2.2078373}"
            ]
          },
          "metadata": {},
          "execution_count": 52
        }
      ],
      "source": [
        "model_2_results = evaluate_preds(test_labels, model_2_preds)\n",
        "model_2_results"
      ]
    },
    {
      "cell_type": "code",
      "execution_count": null,
      "metadata": {
        "colab": {
          "base_uri": "https://localhost:8080/",
          "height": 619
        },
        "id": "1O109z2LOzK2",
        "outputId": "6b397dfb-2983-4062-bb73-1c91da4a7f3a"
      },
      "outputs": [
        {
          "output_type": "display_data",
          "data": {
            "text/plain": [
              "<Figure size 1000x700 with 1 Axes>"
            ],
            "image/png": "[encoded data removed]"
          },
          "metadata": {}
        }
      ],
      "source": [
        "offset = 300\n",
        "plt.figure(figsize=(10,7))\n",
        "plot_ts_data(timesteps=X_test[-len(test_windows):], values=test_labels, start=offset, label=\"Test_data\")\n",
        "plot_ts_data(timesteps=X_test[-len(test_windows):], values=model_2_preds, start=offset, format=\"-\",label=\"Prediction\")"
      ]
    },
    {
      "cell_type": "markdown",
      "metadata": {
        "id": "T8wFyiMCrCL2"
      },
      "source": [
        "##Model 3: Using Convolution"
      ]
    },
    {
      "cell_type": "code",
      "execution_count": null,
      "metadata": {
        "id": "GEKY_lxcqvf6"
      },
      "outputs": [],
      "source": [
        "HORIZON = 1\n",
        "WINDOW_SIZE =7\n"
      ]
    },
    {
      "cell_type": "code",
      "execution_count": null,
      "metadata": {
        "id": "N1fS0e8UrSI4"
      },
      "outputs": [],
      "source": [
        "full_windows, full_labels = make_windows(prices, window_size = WINDOW_SIZE, horizon=HORIZON)"
      ]
    },
    {
      "cell_type": "code",
      "execution_count": null,
      "metadata": {
        "id": "pbFmqjM2rYVz"
      },
      "outputs": [],
      "source": [
        "train_windows, test_windows, train_labels, test_labels = make_train_test_splits(full_windows, full_labels)"
      ]
    },
    {
      "cell_type": "code",
      "execution_count": null,
      "metadata": {
        "colab": {
          "base_uri": "https://localhost:8080/"
        },
        "id": "Y9-lfpXxrehQ",
        "outputId": "ae1e470b-dd86-4999-b2b0-8f6429a8d577"
      },
      "outputs": [
        {
          "output_type": "execute_result",
          "data": {
            "text/plain": [
              "(7,)"
            ]
          },
          "metadata": {},
          "execution_count": 63
        }
      ],
      "source": [
        "train_windows[0].shape"
      ]
    },
    {
      "cell_type": "code",
      "execution_count": null,
      "metadata": {
        "colab": {
          "base_uri": "https://localhost:8080/"
        },
        "id": "Ha3m2sm-r2gF",
        "outputId": "3dc8f218-ca06-40c0-9ec8-48cf449e50ed"
      },
      "outputs": [
        {
          "output_type": "stream",
          "name": "stdout",
          "text": [
            "tf.Tensor(\n",
            "[134.21000671 144.53999329 139.         116.98999786 105.20999908\n",
            "  97.75       112.5       ], shape=(7,), dtype=float64)\n"
          ]
        }
      ],
      "source": [
        "x = tf.constant(train_windows[0])\n",
        "print(x)"
      ]
    },
    {
      "cell_type": "code",
      "execution_count": null,
      "metadata": {
        "id": "vreRyONAsNxc"
      },
      "outputs": [],
      "source": [
        "expand_dims_layer = layers.Lambda(lambda x: tf.expand_dims(x, axis=1))"
      ]
    },
    {
      "cell_type": "code",
      "execution_count": null,
      "metadata": {
        "colab": {
          "base_uri": "https://localhost:8080/"
        },
        "id": "RgVmk59DsXmR",
        "outputId": "bb29ce93-c1e7-4939-fdd5-020cebaf540b"
      },
      "outputs": [
        {
          "output_type": "stream",
          "name": "stdout",
          "text": [
            "Original shape: (7,)\n",
            "Expanded shape: (7, 1)\n",
            "Original value with expanded shape: \n",
            " [[134.21]\n",
            " [144.54]\n",
            " [139.  ]\n",
            " [116.99]\n",
            " [105.21]\n",
            " [ 97.75]\n",
            " [112.5 ]]\n"
          ]
        }
      ],
      "source": [
        "print(f\"Original shape: {x.shape}\")\n",
        "print(f\"Expanded shape: {expand_dims_layer(x).shape}\")\n",
        "print(f\"Original value with expanded shape: \\n {expand_dims_layer(x)}\")"
      ]
    },
    {
      "cell_type": "code",
      "execution_count": null,
      "metadata": {
        "id": "5dW7eG9vs1Bj"
      },
      "outputs": [],
      "source": [
        "model_4 = tf.keras.Sequential([\n",
        "    layers.Lambda(lambda x: tf.expand_dims(x,axis=1)),\n",
        "    layers.Conv1D(filters=128, kernel_size=5, strides =1, padding=\"causal\", activation=\"relu\"),\n",
        "    layers.Dense(HORIZON)\n",
        "\n",
        "], name=\"model_4_conv1D\")\n",
        "\n",
        "model_4.compile(loss=\"mae\",\n",
        "                optimizer = tf.keras.optimizers.Adam())\n",
        "\n",
        "hist_4 = model_4.fit(train_windows,\n",
        "            train_labels,\n",
        "            batch_size = 128,\n",
        "            epochs = 100,\n",
        "            verbose=0,\n",
        "            validation_data=(test_windows,test_labels))"
      ]
    },
    {
      "cell_type": "code",
      "execution_count": null,
      "metadata": {
        "colab": {
          "base_uri": "https://localhost:8080/"
        },
        "id": "izUAlyWQ95-K",
        "outputId": "93ac53f4-97e5-4daf-ee01-e2e8ff0788e2"
      },
      "outputs": [
        {
          "output_type": "stream",
          "name": "stdout",
          "text": [
            "23/23 [==============================] - 0s 4ms/step - loss: 28147.5703\n"
          ]
        },
        {
          "output_type": "execute_result",
          "data": {
            "text/plain": [
              "28147.5703125"
            ]
          },
          "metadata": {},
          "execution_count": 68
        }
      ],
      "source": [
        "model_4.evaluate(test_windows, test_labels)"
      ]
    },
    {
      "cell_type": "code",
      "execution_count": null,
      "metadata": {
        "colab": {
          "base_uri": "https://localhost:8080/"
        },
        "id": "W9ynss8w-pi9",
        "outputId": "cf2763a0-014a-43e7-e6f6-ea33bb1fd0db"
      },
      "outputs": [
        {
          "output_type": "stream",
          "name": "stdout",
          "text": [
            "23/23 [==============================] - 0s 3ms/step\n"
          ]
        }
      ],
      "source": [
        "model_4_preds = make_preds(model_4, test_windows)"
      ]
    },
    {
      "cell_type": "code",
      "execution_count": null,
      "metadata": {
        "id": "T3jLLYtK-5ze"
      },
      "outputs": [],
      "source": [
        "model_4_results = evaluate_preds(tf.squeeze(test_labels),\n",
        "                                 model_4_preds)"
      ]
    },
    {
      "cell_type": "markdown",
      "metadata": {
        "id": "EQ92potd_M-f"
      },
      "source": [
        "## Model 4: LSTM"
      ]
    },
    {
      "cell_type": "code",
      "execution_count": null,
      "metadata": {
        "id": "U_izOPgg_D3-",
        "colab": {
          "base_uri": "https://localhost:8080/"
        },
        "outputId": "814608a0-d3f6-4740-dc5b-11b49ee310e6"
      },
      "outputs": [
        {
          "output_type": "stream",
          "name": "stderr",
          "text": [
            "WARNING:tensorflow:Layer lstm will not use cuDNN kernels since it doesn't meet the criteria. It will use a generic GPU kernel as fallback when running on GPU.\n"
          ]
        },
        {
          "output_type": "stream",
          "name": "stdout",
          "text": [
            "Epoch 1/100\n",
            "24/24 [==============================] - 3s 15ms/step - loss: 4644.2739 - val_loss: 8522.1973\n",
            "Epoch 2/100\n",
            "24/24 [==============================] - 0s 7ms/step - loss: 675.5593 - val_loss: 1917.3719\n",
            "Epoch 3/100\n",
            "24/24 [==============================] - 0s 6ms/step - loss: 407.3839 - val_loss: 1416.8289\n",
            "Epoch 4/100\n",
            "24/24 [==============================] - 0s 7ms/step - loss: 358.6953 - val_loss: 1377.9402\n",
            "Epoch 5/100\n",
            "24/24 [==============================] - 0s 6ms/step - loss: 341.1184 - val_loss: 1422.3541\n",
            "Epoch 6/100\n",
            "24/24 [==============================] - 0s 7ms/step - loss: 341.8515 - val_loss: 1282.5750\n",
            "Epoch 7/100\n",
            "24/24 [==============================] - 0s 7ms/step - loss: 338.6310 - val_loss: 1282.2783\n",
            "Epoch 8/100\n",
            "24/24 [==============================] - 0s 7ms/step - loss: 336.2578 - val_loss: 1288.0070\n",
            "Epoch 9/100\n",
            "24/24 [==============================] - 0s 7ms/step - loss: 332.2968 - val_loss: 1509.2450\n",
            "Epoch 10/100\n",
            "24/24 [==============================] - 0s 6ms/step - loss: 328.8295 - val_loss: 1577.4615\n",
            "Epoch 11/100\n",
            "24/24 [==============================] - 0s 7ms/step - loss: 326.2668 - val_loss: 1226.1720\n",
            "Epoch 12/100\n",
            "24/24 [==============================] - 0s 7ms/step - loss: 318.9869 - val_loss: 1220.6570\n",
            "Epoch 13/100\n",
            "24/24 [==============================] - 0s 6ms/step - loss: 314.0948 - val_loss: 1198.1509\n",
            "Epoch 14/100\n",
            "24/24 [==============================] - 0s 8ms/step - loss: 312.3015 - val_loss: 1229.5918\n",
            "Epoch 15/100\n",
            "24/24 [==============================] - 0s 7ms/step - loss: 314.0324 - val_loss: 1188.5679\n",
            "Epoch 16/100\n",
            "24/24 [==============================] - 0s 7ms/step - loss: 303.8873 - val_loss: 1195.3578\n",
            "Epoch 17/100\n",
            "24/24 [==============================] - 0s 7ms/step - loss: 314.3487 - val_loss: 1173.6781\n",
            "Epoch 18/100\n",
            "24/24 [==============================] - 0s 6ms/step - loss: 304.0686 - val_loss: 1218.0859\n",
            "Epoch 19/100\n",
            "24/24 [==============================] - 0s 7ms/step - loss: 297.8394 - val_loss: 1152.3032\n",
            "Epoch 20/100\n",
            "24/24 [==============================] - 0s 8ms/step - loss: 293.3721 - val_loss: 1152.6636\n",
            "Epoch 21/100\n",
            "24/24 [==============================] - 0s 7ms/step - loss: 288.0746 - val_loss: 1159.2302\n",
            "Epoch 22/100\n",
            "24/24 [==============================] - 0s 6ms/step - loss: 279.6494 - val_loss: 1090.1763\n",
            "Epoch 23/100\n",
            "24/24 [==============================] - 0s 6ms/step - loss: 271.4474 - val_loss: 1151.6648\n",
            "Epoch 24/100\n",
            "24/24 [==============================] - 0s 7ms/step - loss: 277.6473 - val_loss: 1072.1360\n",
            "Epoch 25/100\n",
            "24/24 [==============================] - 0s 7ms/step - loss: 285.0445 - val_loss: 1374.5637\n",
            "Epoch 26/100\n",
            "24/24 [==============================] - 0s 7ms/step - loss: 280.6505 - val_loss: 1051.4139\n",
            "Epoch 27/100\n",
            "24/24 [==============================] - 0s 7ms/step - loss: 267.0270 - val_loss: 1051.4865\n",
            "Epoch 28/100\n",
            "24/24 [==============================] - 0s 6ms/step - loss: 303.5132 - val_loss: 1047.9830\n",
            "Epoch 29/100\n",
            "24/24 [==============================] - 0s 7ms/step - loss: 260.2533 - val_loss: 1010.7259\n",
            "Epoch 30/100\n",
            "24/24 [==============================] - 0s 7ms/step - loss: 255.8317 - val_loss: 1058.6599\n",
            "Epoch 31/100\n",
            "24/24 [==============================] - 0s 6ms/step - loss: 266.6229 - val_loss: 995.3919\n",
            "Epoch 32/100\n",
            "24/24 [==============================] - 0s 8ms/step - loss: 252.3358 - val_loss: 1040.2590\n",
            "Epoch 33/100\n",
            "24/24 [==============================] - 0s 7ms/step - loss: 257.6577 - val_loss: 1073.2104\n",
            "Epoch 34/100\n",
            "24/24 [==============================] - 0s 8ms/step - loss: 259.9665 - val_loss: 1025.4702\n",
            "Epoch 35/100\n",
            "24/24 [==============================] - 0s 7ms/step - loss: 248.0887 - val_loss: 966.4832\n",
            "Epoch 36/100\n",
            "24/24 [==============================] - 0s 8ms/step - loss: 244.6338 - val_loss: 956.0844\n",
            "Epoch 37/100\n",
            "24/24 [==============================] - 0s 7ms/step - loss: 244.9475 - val_loss: 1056.9602\n",
            "Epoch 38/100\n",
            "24/24 [==============================] - 0s 8ms/step - loss: 243.1922 - val_loss: 987.2969\n",
            "Epoch 39/100\n",
            "24/24 [==============================] - 0s 7ms/step - loss: 244.7263 - val_loss: 944.5947\n",
            "Epoch 40/100\n",
            "24/24 [==============================] - 0s 7ms/step - loss: 238.5856 - val_loss: 931.2679\n",
            "Epoch 41/100\n",
            "24/24 [==============================] - 0s 6ms/step - loss: 235.6552 - val_loss: 956.0992\n",
            "Epoch 42/100\n",
            "24/24 [==============================] - 0s 6ms/step - loss: 244.4986 - val_loss: 956.6251\n",
            "Epoch 43/100\n",
            "24/24 [==============================] - 0s 7ms/step - loss: 241.5360 - val_loss: 957.0328\n",
            "Epoch 44/100\n",
            "24/24 [==============================] - 0s 7ms/step - loss: 239.8297 - val_loss: 1038.7286\n",
            "Epoch 45/100\n",
            "24/24 [==============================] - 0s 7ms/step - loss: 227.1986 - val_loss: 914.7325\n",
            "Epoch 46/100\n",
            "24/24 [==============================] - 0s 7ms/step - loss: 225.4338 - val_loss: 907.8987\n",
            "Epoch 47/100\n",
            "24/24 [==============================] - 0s 7ms/step - loss: 230.6018 - val_loss: 913.2156\n",
            "Epoch 48/100\n",
            "24/24 [==============================] - 0s 7ms/step - loss: 232.5766 - val_loss: 904.6466\n",
            "Epoch 49/100\n",
            "24/24 [==============================] - 0s 8ms/step - loss: 225.4739 - val_loss: 985.2716\n",
            "Epoch 50/100\n",
            "24/24 [==============================] - 0s 7ms/step - loss: 231.8528 - val_loss: 896.8519\n",
            "Epoch 51/100\n",
            "24/24 [==============================] - 0s 7ms/step - loss: 219.3430 - val_loss: 954.5673\n",
            "Epoch 52/100\n",
            "24/24 [==============================] - 0s 7ms/step - loss: 226.1891 - val_loss: 1076.2634\n",
            "Epoch 53/100\n",
            "24/24 [==============================] - 0s 12ms/step - loss: 222.8169 - val_loss: 910.6017\n",
            "Epoch 54/100\n",
            "24/24 [==============================] - 0s 11ms/step - loss: 221.4967 - val_loss: 996.0730\n",
            "Epoch 55/100\n",
            "24/24 [==============================] - 0s 14ms/step - loss: 230.1651 - val_loss: 964.7604\n",
            "Epoch 56/100\n",
            "24/24 [==============================] - 0s 11ms/step - loss: 227.2240 - val_loss: 921.1562\n",
            "Epoch 57/100\n",
            "24/24 [==============================] - 0s 11ms/step - loss: 224.8467 - val_loss: 921.8619\n",
            "Epoch 58/100\n",
            "24/24 [==============================] - 0s 12ms/step - loss: 223.1830 - val_loss: 891.3773\n",
            "Epoch 59/100\n",
            "24/24 [==============================] - 0s 11ms/step - loss: 220.9894 - val_loss: 941.4117\n",
            "Epoch 60/100\n",
            "24/24 [==============================] - 0s 11ms/step - loss: 213.1272 - val_loss: 921.9388\n",
            "Epoch 61/100\n",
            "24/24 [==============================] - 0s 10ms/step - loss: 224.0025 - val_loss: 1048.0692\n",
            "Epoch 62/100\n",
            "24/24 [==============================] - 0s 7ms/step - loss: 225.1129 - val_loss: 1076.0623\n",
            "Epoch 63/100\n",
            "24/24 [==============================] - 0s 7ms/step - loss: 221.3612 - val_loss: 909.1981\n",
            "Epoch 64/100\n",
            "24/24 [==============================] - 0s 7ms/step - loss: 218.1934 - val_loss: 900.0804\n",
            "Epoch 65/100\n",
            "24/24 [==============================] - 0s 7ms/step - loss: 216.6135 - val_loss: 879.8856\n",
            "Epoch 66/100\n",
            "24/24 [==============================] - 0s 6ms/step - loss: 227.0016 - val_loss: 878.5096\n",
            "Epoch 67/100\n",
            "24/24 [==============================] - 0s 7ms/step - loss: 219.9465 - val_loss: 1149.0072\n",
            "Epoch 68/100\n",
            "24/24 [==============================] - 0s 7ms/step - loss: 244.3239 - val_loss: 908.0375\n",
            "Epoch 69/100\n",
            "24/24 [==============================] - 0s 7ms/step - loss: 213.0556 - val_loss: 897.6047\n",
            "Epoch 70/100\n",
            "24/24 [==============================] - 0s 7ms/step - loss: 214.9120 - val_loss: 871.0865\n",
            "Epoch 71/100\n",
            "24/24 [==============================] - 0s 6ms/step - loss: 215.7314 - val_loss: 896.3720\n",
            "Epoch 72/100\n",
            "24/24 [==============================] - 0s 7ms/step - loss: 225.5167 - val_loss: 895.2261\n",
            "Epoch 73/100\n",
            "24/24 [==============================] - 0s 7ms/step - loss: 213.9787 - val_loss: 868.8549\n",
            "Epoch 74/100\n",
            "24/24 [==============================] - 0s 7ms/step - loss: 210.0988 - val_loss: 988.6517\n",
            "Epoch 75/100\n",
            "24/24 [==============================] - 0s 7ms/step - loss: 220.9025 - val_loss: 1218.3309\n",
            "Epoch 76/100\n",
            "24/24 [==============================] - 0s 8ms/step - loss: 255.1611 - val_loss: 933.0497\n",
            "Epoch 77/100\n",
            "24/24 [==============================] - 0s 7ms/step - loss: 218.3183 - val_loss: 876.2575\n",
            "Epoch 78/100\n",
            "24/24 [==============================] - 0s 6ms/step - loss: 212.7185 - val_loss: 1228.3378\n",
            "Epoch 79/100\n",
            "24/24 [==============================] - 0s 8ms/step - loss: 245.5994 - val_loss: 884.0063\n",
            "Epoch 80/100\n",
            "24/24 [==============================] - 0s 7ms/step - loss: 213.2728 - val_loss: 864.3539\n",
            "Epoch 81/100\n",
            "24/24 [==============================] - 0s 7ms/step - loss: 207.7797 - val_loss: 906.6517\n",
            "Epoch 82/100\n",
            "24/24 [==============================] - 0s 7ms/step - loss: 212.7118 - val_loss: 877.2953\n",
            "Epoch 83/100\n",
            "24/24 [==============================] - 0s 7ms/step - loss: 210.5274 - val_loss: 902.4280\n",
            "Epoch 84/100\n",
            "24/24 [==============================] - 0s 7ms/step - loss: 209.1423 - val_loss: 859.5908\n",
            "Epoch 85/100\n",
            "24/24 [==============================] - 0s 7ms/step - loss: 207.7381 - val_loss: 876.0541\n",
            "Epoch 86/100\n",
            "24/24 [==============================] - 0s 7ms/step - loss: 207.3521 - val_loss: 898.8055\n",
            "Epoch 87/100\n",
            "24/24 [==============================] - 0s 6ms/step - loss: 210.9271 - val_loss: 879.0353\n",
            "Epoch 88/100\n",
            "24/24 [==============================] - 0s 7ms/step - loss: 212.6229 - val_loss: 855.8031\n",
            "Epoch 89/100\n",
            "24/24 [==============================] - 0s 7ms/step - loss: 208.9521 - val_loss: 854.2219\n",
            "Epoch 90/100\n",
            "24/24 [==============================] - 0s 7ms/step - loss: 208.0789 - val_loss: 886.3508\n",
            "Epoch 91/100\n",
            "24/24 [==============================] - 0s 8ms/step - loss: 205.7371 - val_loss: 878.2502\n",
            "Epoch 92/100\n",
            "24/24 [==============================] - 0s 7ms/step - loss: 215.9195 - val_loss: 928.1647\n",
            "Epoch 93/100\n",
            "24/24 [==============================] - 0s 7ms/step - loss: 216.5580 - val_loss: 898.7327\n",
            "Epoch 94/100\n",
            "24/24 [==============================] - 0s 7ms/step - loss: 207.8688 - val_loss: 851.5781\n",
            "Epoch 95/100\n",
            "24/24 [==============================] - 0s 7ms/step - loss: 208.7264 - val_loss: 927.3123\n",
            "Epoch 96/100\n",
            "24/24 [==============================] - 0s 7ms/step - loss: 225.3873 - val_loss: 971.8161\n",
            "Epoch 97/100\n",
            "24/24 [==============================] - 0s 8ms/step - loss: 211.4375 - val_loss: 896.8882\n",
            "Epoch 98/100\n",
            "24/24 [==============================] - 0s 7ms/step - loss: 207.8417 - val_loss: 880.0100\n",
            "Epoch 99/100\n",
            "24/24 [==============================] - 0s 7ms/step - loss: 204.9857 - val_loss: 857.4091\n",
            "Epoch 100/100\n",
            "24/24 [==============================] - 0s 7ms/step - loss: 204.7955 - val_loss: 1039.1719\n"
          ]
        },
        {
          "output_type": "execute_result",
          "data": {
            "text/plain": [
              "<keras.callbacks.History at 0x7fec34348eb0>"
            ]
          },
          "metadata": {},
          "execution_count": 71
        }
      ],
      "source": [
        "inputs = layers.Input(shape=(WINDOW_SIZE))\n",
        "x = layers.Lambda(lambda x: tf.expand_dims(x,axis=1))(inputs)\n",
        "#x = layers.LSTM(128, return_sequences=True)(x)\n",
        "x = layers.LSTM(128, activation=\"relu\")(x)\n",
        "#x = layers.Dense(32, activation=\"relu\")(x)\n",
        "output = layers.Dense(HORIZON)(x)\n",
        "model_5 = tf.keras.Model(inputs=inputs, outputs=output, name=\"model_5_LSTM\")\n",
        "\n",
        "model_5.compile(loss=\"mae\",\n",
        "                optimizer = tf.keras.optimizers.Adam())\n",
        "\n",
        "model_5.fit(train_windows,\n",
        "            train_labels,\n",
        "            epochs=100,\n",
        "            batch_size=128,\n",
        "            validation_data=(test_windows, test_labels))"
      ]
    },
    {
      "cell_type": "code",
      "source": [
        "model_5_preds = make_preds(model_5, test_windows)"
      ],
      "metadata": {
        "colab": {
          "base_uri": "https://localhost:8080/"
        },
        "id": "zAq7sQuUsBD0",
        "outputId": "aaacb832-cf0c-4eb1-bd26-fa10fb84e782"
      },
      "execution_count": null,
      "outputs": [
        {
          "output_type": "stream",
          "name": "stdout",
          "text": [
            "23/23 [==============================] - 0s 2ms/step\n"
          ]
        }
      ]
    },
    {
      "cell_type": "code",
      "source": [
        "model_5_results = evaluate_preds(y_true=tf.squeeze(test_labels),\n",
        "                                 y_pred = model_5_preds)\n",
        "model_5_results"
      ],
      "metadata": {
        "colab": {
          "base_uri": "https://localhost:8080/"
        },
        "id": "8YXb393OsLOU",
        "outputId": "1b433e99-2bce-4599-bb65-e3d1dcfd2b25"
      },
      "execution_count": null,
      "outputs": [
        {
          "output_type": "execute_result",
          "data": {
            "text/plain": [
              "{'mae': 1039.1719,\n",
              " 'mse': 2100166.8,\n",
              " 'rmse': 1449.1952,\n",
              " 'mape': 3.1141634,\n",
              " 'mase': 1.3170741}"
            ]
          },
          "metadata": {},
          "execution_count": 73
        }
      ]
    },
    {
      "cell_type": "code",
      "source": [
        "model_1_results"
      ],
      "metadata": {
        "colab": {
          "base_uri": "https://localhost:8080/"
        },
        "id": "U-H64svJsXAN",
        "outputId": "33ca64bf-0662-4766-c0c6-b0cc85b14b3e"
      },
      "execution_count": null,
      "outputs": [
        {
          "output_type": "execute_result",
          "data": {
            "text/plain": [
              "{'mae': 881.99164,\n",
              " 'mse': 1645608.8,\n",
              " 'rmse': 1282.8129,\n",
              " 'mape': 2.6195707,\n",
              " 'mase': 1.1178596}"
            ]
          },
          "metadata": {},
          "execution_count": 74
        }
      ]
    },
    {
      "cell_type": "markdown",
      "source": [
        "## Making a Multivariate Time Series Dataset"
      ],
      "metadata": {
        "id": "HAjTOyIRtGg5"
      }
    },
    {
      "cell_type": "code",
      "source": [
        "btc_price.head()"
      ],
      "metadata": {
        "colab": {
          "base_uri": "https://localhost:8080/",
          "height": 235
        },
        "id": "QqZgqsdnsa7F",
        "outputId": "33344f61-bda7-4e43-affa-07b88f20afcc"
      },
      "execution_count": null,
      "outputs": [
        {
          "output_type": "execute_result",
          "data": {
            "text/plain": [
              "                 Price\n",
              "Date                  \n",
              "2013-04-28  134.210007\n",
              "2013-04-29  144.539993\n",
              "2013-04-30  139.000000\n",
              "2013-05-01  116.989998\n",
              "2013-05-02  105.209999"
            ],
            "text/html": [
              "\n",
              "  <div id=\"df-1cd09899-4bb1-4ce3-b6e0-2f0a802320e4\">\n",
              "    <div class=\"colab-df-container\">\n",
              "      <div>\n",
              "<style scoped>\n",
              "    .dataframe tbody tr th:only-of-type {\n",
              "        vertical-align: middle;\n",
              "    }\n",
              "\n",
              "    .dataframe tbody tr th {\n",
              "        vertical-align: top;\n",
              "    }\n",
              "\n",
              "    .dataframe thead th {\n",
              "        text-align: right;\n",
              "    }\n",
              "</style>\n",
              "<table border=\"1\" class=\"dataframe\">\n",
              "  <thead>\n",
              "    <tr style=\"text-align: right;\">\n",
              "      <th></th>\n",
              "      <th>Price</th>\n",
              "    </tr>\n",
              "    <tr>\n",
              "      <th>Date</th>\n",
              "      <th></th>\n",
              "    </tr>\n",
              "  </thead>\n",
              "  <tbody>\n",
              "    <tr>\n",
              "      <th>2013-04-28</th>\n",
              "      <td>134.210007</td>\n",
              "    </tr>\n",
              "    <tr>\n",
              "      <th>2013-04-29</th>\n",
              "      <td>144.539993</td>\n",
              "    </tr>\n",
              "    <tr>\n",
              "      <th>2013-04-30</th>\n",
              "      <td>139.000000</td>\n",
              "    </tr>\n",
              "    <tr>\n",
              "      <th>2013-05-01</th>\n",
              "      <td>116.989998</td>\n",
              "    </tr>\n",
              "    <tr>\n",
              "      <th>2013-05-02</th>\n",
              "      <td>105.209999</td>\n",
              "    </tr>\n",
              "  </tbody>\n",
              "</table>\n",
              "</div>\n",
              "      <button class=\"colab-df-convert\" onclick=\"convertToInteractive('df-1cd09899-4bb1-4ce3-b6e0-2f0a802320e4')\"\n",
              "              title=\"Convert this dataframe to an interactive table.\"\n",
              "              style=\"display:none;\">\n",
              "        \n",
              "  <svg xmlns=\"http://www.w3.org/2000/svg\" height=\"24px\"viewBox=\"0 0 24 24\"\n",
              "       width=\"24px\">\n",
              "    <path d=\"M0 0h24v24H0V0z\" fill=\"none\"/>\n",
              "    <path d=\"M18.56 5.44l.94 2.06.94-2.06 2.06-.94-2.06-.94-.94-2.06-.94 2.06-2.06.94zm-11 1L8.5 8.5l.94-2.06 2.06-.94-2.06-.94L8.5 2.5l-.94 2.06-2.06.94zm10 10l.94 2.06.94-2.06 2.06-.94-2.06-.94-.94-2.06-.94 2.06-2.06.94z\"/><path d=\"M17.41 7.96l-1.37-1.37c-.4-.4-.92-.59-1.43-.59-.52 0-1.04.2-1.43.59L10.3 9.45l-7.72 7.72c-.78.78-.78 2.05 0 2.83L4 21.41c.39.39.9.59 1.41.59.51 0 1.02-.2 1.41-.59l7.78-7.78 2.81-2.81c.8-.78.8-2.07 0-2.86zM5.41 20L4 18.59l7.72-7.72 1.47 1.35L5.41 20z\"/>\n",
              "  </svg>\n",
              "      </button>\n",
              "      \n",
              "  <style>\n",
              "    .colab-df-container {\n",
              "      display:flex;\n",
              "      flex-wrap:wrap;\n",
              "      gap: 12px;\n",
              "    }\n",
              "\n",
              "    .colab-df-convert {\n",
              "      background-color: #E8F0FE;\n",
              "      border: none;\n",
              "      border-radius: 50%;\n",
              "      cursor: pointer;\n",
              "      display: none;\n",
              "      fill: #1967D2;\n",
              "      height: 32px;\n",
              "      padding: 0 0 0 0;\n",
              "      width: 32px;\n",
              "    }\n",
              "\n",
              "    .colab-df-convert:hover {\n",
              "      background-color: #E2EBFA;\n",
              "      box-shadow: 0px 1px 2px rgba(60, 64, 67, 0.3), 0px 1px 3px 1px rgba(60, 64, 67, 0.15);\n",
              "      fill: #174EA6;\n",
              "    }\n",
              "\n",
              "    [theme=dark] .colab-df-convert {\n",
              "      background-color: #3B4455;\n",
              "      fill: #D2E3FC;\n",
              "    }\n",
              "\n",
              "    [theme=dark] .colab-df-convert:hover {\n",
              "      background-color: #434B5C;\n",
              "      box-shadow: 0px 1px 3px 1px rgba(0, 0, 0, 0.15);\n",
              "      filter: drop-shadow(0px 1px 2px rgba(0, 0, 0, 0.3));\n",
              "      fill: #FFFFFF;\n",
              "    }\n",
              "  </style>\n",
              "\n",
              "      <script>\n",
              "        const buttonEl =\n",
              "          document.querySelector('#df-1cd09899-4bb1-4ce3-b6e0-2f0a802320e4 button.colab-df-convert');\n",
              "        buttonEl.style.display =\n",
              "          google.colab.kernel.accessAllowed ? 'block' : 'none';\n",
              "\n",
              "        async function convertToInteractive(key) {\n",
              "          const element = document.querySelector('#df-1cd09899-4bb1-4ce3-b6e0-2f0a802320e4');\n",
              "          const dataTable =\n",
              "            await google.colab.kernel.invokeFunction('convertToInteractive',\n",
              "                                                     [key], {});\n",
              "          if (!dataTable) return;\n",
              "\n",
              "          const docLinkHtml = 'Like what you see? Visit the ' +\n",
              "            '<a target=\"_blank\" href=https://colab.research.google.com/notebooks/data_table.ipynb>data table notebook</a>'\n",
              "            + ' to learn more about interactive tables.';\n",
              "          element.innerHTML = '';\n",
              "          dataTable['output_type'] = 'display_data';\n",
              "          await google.colab.output.renderOutput(dataTable, element);\n",
              "          const docLink = document.createElement('div');\n",
              "          docLink.innerHTML = docLinkHtml;\n",
              "          element.appendChild(docLink);\n",
              "        }\n",
              "      </script>\n",
              "    </div>\n",
              "  </div>\n",
              "  "
            ]
          },
          "metadata": {},
          "execution_count": 75
        }
      ]
    },
    {
      "cell_type": "code",
      "source": [
        "#My goal is to add data on the halving dates of bitcoin as a feature\n",
        "block_reward_1 = 50 # 3 January 2009, but this is before our data so we ignore\n",
        "block_reward_2 = 25 # 8 November 2012\n",
        "block_reward_3 = 12.5 # 9 July 2016\n",
        "block_reward_4 = 6.25 # 18 May 2020\n",
        "\n",
        "block_reward_2_datetime = np.datetime64(\"2012-11-28\")\n",
        "block_reward_3_datetime = np.datetime64(\"2016-07-09\")\n",
        "block_reward_4_datetime = np.datetime64(\"2020-05-18\")\n"
      ],
      "metadata": {
        "id": "B6vSDP_euHdl"
      },
      "execution_count": null,
      "outputs": []
    },
    {
      "cell_type": "code",
      "source": [
        "block_reward_2_days = (block_reward_3_datetime-btc_price.index[0]).days\n",
        "block_reward_3_days = (block_reward_4_datetime-btc_price.index[0]).days\n",
        "block_reward_2_days, block_reward_3_days"
      ],
      "metadata": {
        "colab": {
          "base_uri": "https://localhost:8080/"
        },
        "id": "EdyGACkfuQfX",
        "outputId": "f0d73889-a0e7-4504-82c6-4a70005f2b30"
      },
      "execution_count": null,
      "outputs": [
        {
          "output_type": "execute_result",
          "data": {
            "text/plain": [
              "(1168, 2577)"
            ]
          },
          "metadata": {},
          "execution_count": 77
        }
      ]
    },
    {
      "cell_type": "code",
      "source": [
        "btc_price_block = btc_price.copy()\n",
        "btc_price_block[\"block_reward\"] = None\n",
        "btc_price_block.iloc[:block_reward_2_days,-1]= block_reward_2\n",
        "btc_price_block.iloc[block_reward_2_days: block_reward_3_days,-1]= block_reward_3\n",
        "btc_price_block.iloc[block_reward_3_days:,-1]= block_reward_4\n",
        "btc_price_block.tail()"
      ],
      "metadata": {
        "colab": {
          "base_uri": "https://localhost:8080/",
          "height": 235
        },
        "id": "QMZxuzWNw-a8",
        "outputId": "2e5fb68a-c947-4df8-a615-6002b7842d14"
      },
      "execution_count": null,
      "outputs": [
        {
          "output_type": "execute_result",
          "data": {
            "text/plain": [
              "                   Price block_reward\n",
              "Date                                 \n",
              "2023-05-31  27219.658608         6.25\n",
              "2023-06-01  26819.973220         6.25\n",
              "2023-06-02  27249.588949         6.25\n",
              "2023-06-03  27075.129398         6.25\n",
              "2023-06-04  27119.067193         6.25"
            ],
            "text/html": [
              "\n",
              "  <div id=\"df-729eb45f-67e9-41ad-b80a-661bb1968696\">\n",
              "    <div class=\"colab-df-container\">\n",
              "      <div>\n",
              "<style scoped>\n",
              "    .dataframe tbody tr th:only-of-type {\n",
              "        vertical-align: middle;\n",
              "    }\n",
              "\n",
              "    .dataframe tbody tr th {\n",
              "        vertical-align: top;\n",
              "    }\n",
              "\n",
              "    .dataframe thead th {\n",
              "        text-align: right;\n",
              "    }\n",
              "</style>\n",
              "<table border=\"1\" class=\"dataframe\">\n",
              "  <thead>\n",
              "    <tr style=\"text-align: right;\">\n",
              "      <th></th>\n",
              "      <th>Price</th>\n",
              "      <th>block_reward</th>\n",
              "    </tr>\n",
              "    <tr>\n",
              "      <th>Date</th>\n",
              "      <th></th>\n",
              "      <th></th>\n",
              "    </tr>\n",
              "  </thead>\n",
              "  <tbody>\n",
              "    <tr>\n",
              "      <th>2023-05-31</th>\n",
              "      <td>27219.658608</td>\n",
              "      <td>6.25</td>\n",
              "    </tr>\n",
              "    <tr>\n",
              "      <th>2023-06-01</th>\n",
              "      <td>26819.973220</td>\n",
              "      <td>6.25</td>\n",
              "    </tr>\n",
              "    <tr>\n",
              "      <th>2023-06-02</th>\n",
              "      <td>27249.588949</td>\n",
              "      <td>6.25</td>\n",
              "    </tr>\n",
              "    <tr>\n",
              "      <th>2023-06-03</th>\n",
              "      <td>27075.129398</td>\n",
              "      <td>6.25</td>\n",
              "    </tr>\n",
              "    <tr>\n",
              "      <th>2023-06-04</th>\n",
              "      <td>27119.067193</td>\n",
              "      <td>6.25</td>\n",
              "    </tr>\n",
              "  </tbody>\n",
              "</table>\n",
              "</div>\n",
              "      <button class=\"colab-df-convert\" onclick=\"convertToInteractive('df-729eb45f-67e9-41ad-b80a-661bb1968696')\"\n",
              "              title=\"Convert this dataframe to an interactive table.\"\n",
              "              style=\"display:none;\">\n",
              "        \n",
              "  <svg xmlns=\"http://www.w3.org/2000/svg\" height=\"24px\"viewBox=\"0 0 24 24\"\n",
              "       width=\"24px\">\n",
              "    <path d=\"M0 0h24v24H0V0z\" fill=\"none\"/>\n",
              "    <path d=\"M18.56 5.44l.94 2.06.94-2.06 2.06-.94-2.06-.94-.94-2.06-.94 2.06-2.06.94zm-11 1L8.5 8.5l.94-2.06 2.06-.94-2.06-.94L8.5 2.5l-.94 2.06-2.06.94zm10 10l.94 2.06.94-2.06 2.06-.94-2.06-.94-.94-2.06-.94 2.06-2.06.94z\"/><path d=\"M17.41 7.96l-1.37-1.37c-.4-.4-.92-.59-1.43-.59-.52 0-1.04.2-1.43.59L10.3 9.45l-7.72 7.72c-.78.78-.78 2.05 0 2.83L4 21.41c.39.39.9.59 1.41.59.51 0 1.02-.2 1.41-.59l7.78-7.78 2.81-2.81c.8-.78.8-2.07 0-2.86zM5.41 20L4 18.59l7.72-7.72 1.47 1.35L5.41 20z\"/>\n",
              "  </svg>\n",
              "      </button>\n",
              "      \n",
              "  <style>\n",
              "    .colab-df-container {\n",
              "      display:flex;\n",
              "      flex-wrap:wrap;\n",
              "      gap: 12px;\n",
              "    }\n",
              "\n",
              "    .colab-df-convert {\n",
              "      background-color: #E8F0FE;\n",
              "      border: none;\n",
              "      border-radius: 50%;\n",
              "      cursor: pointer;\n",
              "      display: none;\n",
              "      fill: #1967D2;\n",
              "      height: 32px;\n",
              "      padding: 0 0 0 0;\n",
              "      width: 32px;\n",
              "    }\n",
              "\n",
              "    .colab-df-convert:hover {\n",
              "      background-color: #E2EBFA;\n",
              "      box-shadow: 0px 1px 2px rgba(60, 64, 67, 0.3), 0px 1px 3px 1px rgba(60, 64, 67, 0.15);\n",
              "      fill: #174EA6;\n",
              "    }\n",
              "\n",
              "    [theme=dark] .colab-df-convert {\n",
              "      background-color: #3B4455;\n",
              "      fill: #D2E3FC;\n",
              "    }\n",
              "\n",
              "    [theme=dark] .colab-df-convert:hover {\n",
              "      background-color: #434B5C;\n",
              "      box-shadow: 0px 1px 3px 1px rgba(0, 0, 0, 0.15);\n",
              "      filter: drop-shadow(0px 1px 2px rgba(0, 0, 0, 0.3));\n",
              "      fill: #FFFFFF;\n",
              "    }\n",
              "  </style>\n",
              "\n",
              "      <script>\n",
              "        const buttonEl =\n",
              "          document.querySelector('#df-729eb45f-67e9-41ad-b80a-661bb1968696 button.colab-df-convert');\n",
              "        buttonEl.style.display =\n",
              "          google.colab.kernel.accessAllowed ? 'block' : 'none';\n",
              "\n",
              "        async function convertToInteractive(key) {\n",
              "          const element = document.querySelector('#df-729eb45f-67e9-41ad-b80a-661bb1968696');\n",
              "          const dataTable =\n",
              "            await google.colab.kernel.invokeFunction('convertToInteractive',\n",
              "                                                     [key], {});\n",
              "          if (!dataTable) return;\n",
              "\n",
              "          const docLinkHtml = 'Like what you see? Visit the ' +\n",
              "            '<a target=\"_blank\" href=https://colab.research.google.com/notebooks/data_table.ipynb>data table notebook</a>'\n",
              "            + ' to learn more about interactive tables.';\n",
              "          element.innerHTML = '';\n",
              "          dataTable['output_type'] = 'display_data';\n",
              "          await google.colab.output.renderOutput(dataTable, element);\n",
              "          const docLink = document.createElement('div');\n",
              "          docLink.innerHTML = docLinkHtml;\n",
              "          element.appendChild(docLink);\n",
              "        }\n",
              "      </script>\n",
              "    </div>\n",
              "  </div>\n",
              "  "
            ]
          },
          "metadata": {},
          "execution_count": 78
        }
      ]
    },
    {
      "cell_type": "code",
      "source": [
        "from sklearn.preprocessing import minmax_scale\n",
        "scaled_price_block = pd.DataFrame(minmax_scale(btc_price_block[[\"Price\", \"block_reward\"]]),\n",
        "                                  columns = btc_price_block.columns,\n",
        "                                  index = btc_price_block.index)\n",
        "scaled_price_block.plot(figsize=(10,7));"
      ],
      "metadata": {
        "colab": {
          "base_uri": "https://localhost:8080/",
          "height": 619
        },
        "id": "CYV2sOkRxecu",
        "outputId": "bf31322d-c2cf-4338-d5c4-8e9af1c70145"
      },
      "execution_count": null,
      "outputs": [
        {
          "output_type": "display_data",
          "data": {
            "text/plain": [
              "<Figure size 1000x700 with 1 Axes>"
            ],
            "image/png": "[encoded data removed]"
          },
          "metadata": {}
        }
      ]
    },
    {
      "cell_type": "markdown",
      "source": [
        "## Preparing our Multivariate Data"
      ],
      "metadata": {
        "id": "5QKuawJQzMHX"
      }
    },
    {
      "cell_type": "code",
      "source": [
        "btc_price_windowed = btc_price_block.copy()\n",
        "\n",
        "for i in range(WINDOW_SIZE):\n",
        "  btc_price_windowed[f\"Price+{i+1}\"] = btc_price_windowed[\"Price\"].shift(periods=i+1)\n",
        "\n",
        "btc_price_windowed.head(10)"
      ],
      "metadata": {
        "colab": {
          "base_uri": "https://localhost:8080/",
          "height": 390
        },
        "id": "08R315ubyPvv",
        "outputId": "e7667fe2-8005-4526-f322-88cdce3d8c8c"
      },
      "execution_count": null,
      "outputs": [
        {
          "output_type": "execute_result",
          "data": {
            "text/plain": [
              "                 Price block_reward     Price+1     Price+2     Price+3  \\\n",
              "Date                                                                      \n",
              "2013-04-28  134.210007           25         NaN         NaN         NaN   \n",
              "2013-04-29  144.539993           25  134.210007         NaN         NaN   \n",
              "2013-04-30  139.000000           25  144.539993  134.210007         NaN   \n",
              "2013-05-01  116.989998           25  139.000000  144.539993  134.210007   \n",
              "2013-05-02  105.209999           25  116.989998  139.000000  144.539993   \n",
              "2013-05-03   97.750000           25  105.209999  116.989998  139.000000   \n",
              "2013-05-04  112.500000           25   97.750000  105.209999  116.989998   \n",
              "2013-05-05  115.910004           25  112.500000   97.750000  105.209999   \n",
              "2013-05-06  112.300003           25  115.910004  112.500000   97.750000   \n",
              "2013-05-07  111.500000           25  112.300003  115.910004  112.500000   \n",
              "\n",
              "               Price+4     Price+5     Price+6     Price+7  \n",
              "Date                                                        \n",
              "2013-04-28         NaN         NaN         NaN         NaN  \n",
              "2013-04-29         NaN         NaN         NaN         NaN  \n",
              "2013-04-30         NaN         NaN         NaN         NaN  \n",
              "2013-05-01         NaN         NaN         NaN         NaN  \n",
              "2013-05-02  134.210007         NaN         NaN         NaN  \n",
              "2013-05-03  144.539993  134.210007         NaN         NaN  \n",
              "2013-05-04  139.000000  144.539993  134.210007         NaN  \n",
              "2013-05-05  116.989998  139.000000  144.539993  134.210007  \n",
              "2013-05-06  105.209999  116.989998  139.000000  144.539993  \n",
              "2013-05-07   97.750000  105.209999  116.989998  139.000000  "
            ],
            "text/html": [
              "\n",
              "  <div id=\"df-cf507a85-4225-4eb5-b27b-87bff6ce51da\">\n",
              "    <div class=\"colab-df-container\">\n",
              "      <div>\n",
              "<style scoped>\n",
              "    .dataframe tbody tr th:only-of-type {\n",
              "        vertical-align: middle;\n",
              "    }\n",
              "\n",
              "    .dataframe tbody tr th {\n",
              "        vertical-align: top;\n",
              "    }\n",
              "\n",
              "    .dataframe thead th {\n",
              "        text-align: right;\n",
              "    }\n",
              "</style>\n",
              "<table border=\"1\" class=\"dataframe\">\n",
              "  <thead>\n",
              "    <tr style=\"text-align: right;\">\n",
              "      <th></th>\n",
              "      <th>Price</th>\n",
              "      <th>block_reward</th>\n",
              "      <th>Price+1</th>\n",
              "      <th>Price+2</th>\n",
              "      <th>Price+3</th>\n",
              "      <th>Price+4</th>\n",
              "      <th>Price+5</th>\n",
              "      <th>Price+6</th>\n",
              "      <th>Price+7</th>\n",
              "    </tr>\n",
              "    <tr>\n",
              "      <th>Date</th>\n",
              "      <th></th>\n",
              "      <th></th>\n",
              "      <th></th>\n",
              "      <th></th>\n",
              "      <th></th>\n",
              "      <th></th>\n",
              "      <th></th>\n",
              "      <th></th>\n",
              "      <th></th>\n",
              "    </tr>\n",
              "  </thead>\n",
              "  <tbody>\n",
              "    <tr>\n",
              "      <th>2013-04-28</th>\n",
              "      <td>134.210007</td>\n",
              "      <td>25</td>\n",
              "      <td>NaN</td>\n",
              "      <td>NaN</td>\n",
              "      <td>NaN</td>\n",
              "      <td>NaN</td>\n",
              "      <td>NaN</td>\n",
              "      <td>NaN</td>\n",
              "      <td>NaN</td>\n",
              "    </tr>\n",
              "    <tr>\n",
              "      <th>2013-04-29</th>\n",
              "      <td>144.539993</td>\n",
              "      <td>25</td>\n",
              "      <td>134.210007</td>\n",
              "      <td>NaN</td>\n",
              "      <td>NaN</td>\n",
              "      <td>NaN</td>\n",
              "      <td>NaN</td>\n",
              "      <td>NaN</td>\n",
              "      <td>NaN</td>\n",
              "    </tr>\n",
              "    <tr>\n",
              "      <th>2013-04-30</th>\n",
              "      <td>139.000000</td>\n",
              "      <td>25</td>\n",
              "      <td>144.539993</td>\n",
              "      <td>134.210007</td>\n",
              "      <td>NaN</td>\n",
              "      <td>NaN</td>\n",
              "      <td>NaN</td>\n",
              "      <td>NaN</td>\n",
              "      <td>NaN</td>\n",
              "    </tr>\n",
              "    <tr>\n",
              "      <th>2013-05-01</th>\n",
              "      <td>116.989998</td>\n",
              "      <td>25</td>\n",
              "      <td>139.000000</td>\n",
              "      <td>144.539993</td>\n",
              "      <td>134.210007</td>\n",
              "      <td>NaN</td>\n",
              "      <td>NaN</td>\n",
              "      <td>NaN</td>\n",
              "      <td>NaN</td>\n",
              "    </tr>\n",
              "    <tr>\n",
              "      <th>2013-05-02</th>\n",
              "      <td>105.209999</td>\n",
              "      <td>25</td>\n",
              "      <td>116.989998</td>\n",
              "      <td>139.000000</td>\n",
              "      <td>144.539993</td>\n",
              "      <td>134.210007</td>\n",
              "      <td>NaN</td>\n",
              "      <td>NaN</td>\n",
              "      <td>NaN</td>\n",
              "    </tr>\n",
              "    <tr>\n",
              "      <th>2013-05-03</th>\n",
              "      <td>97.750000</td>\n",
              "      <td>25</td>\n",
              "      <td>105.209999</td>\n",
              "      <td>116.989998</td>\n",
              "      <td>139.000000</td>\n",
              "      <td>144.539993</td>\n",
              "      <td>134.210007</td>\n",
              "      <td>NaN</td>\n",
              "      <td>NaN</td>\n",
              "    </tr>\n",
              "    <tr>\n",
              "      <th>2013-05-04</th>\n",
              "      <td>112.500000</td>\n",
              "      <td>25</td>\n",
              "      <td>97.750000</td>\n",
              "      <td>105.209999</td>\n",
              "      <td>116.989998</td>\n",
              "      <td>139.000000</td>\n",
              "      <td>144.539993</td>\n",
              "      <td>134.210007</td>\n",
              "      <td>NaN</td>\n",
              "    </tr>\n",
              "    <tr>\n",
              "      <th>2013-05-05</th>\n",
              "      <td>115.910004</td>\n",
              "      <td>25</td>\n",
              "      <td>112.500000</td>\n",
              "      <td>97.750000</td>\n",
              "      <td>105.209999</td>\n",
              "      <td>116.989998</td>\n",
              "      <td>139.000000</td>\n",
              "      <td>144.539993</td>\n",
              "      <td>134.210007</td>\n",
              "    </tr>\n",
              "    <tr>\n",
              "      <th>2013-05-06</th>\n",
              "      <td>112.300003</td>\n",
              "      <td>25</td>\n",
              "      <td>115.910004</td>\n",
              "      <td>112.500000</td>\n",
              "      <td>97.750000</td>\n",
              "      <td>105.209999</td>\n",
              "      <td>116.989998</td>\n",
              "      <td>139.000000</td>\n",
              "      <td>144.539993</td>\n",
              "    </tr>\n",
              "    <tr>\n",
              "      <th>2013-05-07</th>\n",
              "      <td>111.500000</td>\n",
              "      <td>25</td>\n",
              "      <td>112.300003</td>\n",
              "      <td>115.910004</td>\n",
              "      <td>112.500000</td>\n",
              "      <td>97.750000</td>\n",
              "      <td>105.209999</td>\n",
              "      <td>116.989998</td>\n",
              "      <td>139.000000</td>\n",
              "    </tr>\n",
              "  </tbody>\n",
              "</table>\n",
              "</div>\n",
              "      <button class=\"colab-df-convert\" onclick=\"convertToInteractive('df-cf507a85-4225-4eb5-b27b-87bff6ce51da')\"\n",
              "              title=\"Convert this dataframe to an interactive table.\"\n",
              "              style=\"display:none;\">\n",
              "        \n",
              "  <svg xmlns=\"http://www.w3.org/2000/svg\" height=\"24px\"viewBox=\"0 0 24 24\"\n",
              "       width=\"24px\">\n",
              "    <path d=\"M0 0h24v24H0V0z\" fill=\"none\"/>\n",
              "    <path d=\"M18.56 5.44l.94 2.06.94-2.06 2.06-.94-2.06-.94-.94-2.06-.94 2.06-2.06.94zm-11 1L8.5 8.5l.94-2.06 2.06-.94-2.06-.94L8.5 2.5l-.94 2.06-2.06.94zm10 10l.94 2.06.94-2.06 2.06-.94-2.06-.94-.94-2.06-.94 2.06-2.06.94z\"/><path d=\"M17.41 7.96l-1.37-1.37c-.4-.4-.92-.59-1.43-.59-.52 0-1.04.2-1.43.59L10.3 9.45l-7.72 7.72c-.78.78-.78 2.05 0 2.83L4 21.41c.39.39.9.59 1.41.59.51 0 1.02-.2 1.41-.59l7.78-7.78 2.81-2.81c.8-.78.8-2.07 0-2.86zM5.41 20L4 18.59l7.72-7.72 1.47 1.35L5.41 20z\"/>\n",
              "  </svg>\n",
              "      </button>\n",
              "      \n",
              "  <style>\n",
              "    .colab-df-container {\n",
              "      display:flex;\n",
              "      flex-wrap:wrap;\n",
              "      gap: 12px;\n",
              "    }\n",
              "\n",
              "    .colab-df-convert {\n",
              "      background-color: #E8F0FE;\n",
              "      border: none;\n",
              "      border-radius: 50%;\n",
              "      cursor: pointer;\n",
              "      display: none;\n",
              "      fill: #1967D2;\n",
              "      height: 32px;\n",
              "      padding: 0 0 0 0;\n",
              "      width: 32px;\n",
              "    }\n",
              "\n",
              "    .colab-df-convert:hover {\n",
              "      background-color: #E2EBFA;\n",
              "      box-shadow: 0px 1px 2px rgba(60, 64, 67, 0.3), 0px 1px 3px 1px rgba(60, 64, 67, 0.15);\n",
              "      fill: #174EA6;\n",
              "    }\n",
              "\n",
              "    [theme=dark] .colab-df-convert {\n",
              "      background-color: #3B4455;\n",
              "      fill: #D2E3FC;\n",
              "    }\n",
              "\n",
              "    [theme=dark] .colab-df-convert:hover {\n",
              "      background-color: #434B5C;\n",
              "      box-shadow: 0px 1px 3px 1px rgba(0, 0, 0, 0.15);\n",
              "      filter: drop-shadow(0px 1px 2px rgba(0, 0, 0, 0.3));\n",
              "      fill: #FFFFFF;\n",
              "    }\n",
              "  </style>\n",
              "\n",
              "      <script>\n",
              "        const buttonEl =\n",
              "          document.querySelector('#df-cf507a85-4225-4eb5-b27b-87bff6ce51da button.colab-df-convert');\n",
              "        buttonEl.style.display =\n",
              "          google.colab.kernel.accessAllowed ? 'block' : 'none';\n",
              "\n",
              "        async function convertToInteractive(key) {\n",
              "          const element = document.querySelector('#df-cf507a85-4225-4eb5-b27b-87bff6ce51da');\n",
              "          const dataTable =\n",
              "            await google.colab.kernel.invokeFunction('convertToInteractive',\n",
              "                                                     [key], {});\n",
              "          if (!dataTable) return;\n",
              "\n",
              "          const docLinkHtml = 'Like what you see? Visit the ' +\n",
              "            '<a target=\"_blank\" href=https://colab.research.google.com/notebooks/data_table.ipynb>data table notebook</a>'\n",
              "            + ' to learn more about interactive tables.';\n",
              "          element.innerHTML = '';\n",
              "          dataTable['output_type'] = 'display_data';\n",
              "          await google.colab.output.renderOutput(dataTable, element);\n",
              "          const docLink = document.createElement('div');\n",
              "          docLink.innerHTML = docLinkHtml;\n",
              "          element.appendChild(docLink);\n",
              "        }\n",
              "      </script>\n",
              "    </div>\n",
              "  </div>\n",
              "  "
            ]
          },
          "metadata": {},
          "execution_count": 80
        }
      ]
    },
    {
      "cell_type": "code",
      "source": [
        "btc_price_windowed.head()"
      ],
      "metadata": {
        "colab": {
          "base_uri": "https://localhost:8080/",
          "height": 235
        },
        "id": "e5nEJ-aRz012",
        "outputId": "3c8e8f53-a05e-4ec5-c4fe-a8f9a19c05dc"
      },
      "execution_count": null,
      "outputs": [
        {
          "output_type": "execute_result",
          "data": {
            "text/plain": [
              "                 Price block_reward     Price+1     Price+2     Price+3  \\\n",
              "Date                                                                      \n",
              "2013-04-28  134.210007           25         NaN         NaN         NaN   \n",
              "2013-04-29  144.539993           25  134.210007         NaN         NaN   \n",
              "2013-04-30  139.000000           25  144.539993  134.210007         NaN   \n",
              "2013-05-01  116.989998           25  139.000000  144.539993  134.210007   \n",
              "2013-05-02  105.209999           25  116.989998  139.000000  144.539993   \n",
              "\n",
              "               Price+4  Price+5  Price+6  Price+7  \n",
              "Date                                               \n",
              "2013-04-28         NaN      NaN      NaN      NaN  \n",
              "2013-04-29         NaN      NaN      NaN      NaN  \n",
              "2013-04-30         NaN      NaN      NaN      NaN  \n",
              "2013-05-01         NaN      NaN      NaN      NaN  \n",
              "2013-05-02  134.210007      NaN      NaN      NaN  "
            ],
            "text/html": [
              "\n",
              "  <div id=\"df-1e431a07-15a9-4ffa-abb9-181965085ad8\">\n",
              "    <div class=\"colab-df-container\">\n",
              "      <div>\n",
              "<style scoped>\n",
              "    .dataframe tbody tr th:only-of-type {\n",
              "        vertical-align: middle;\n",
              "    }\n",
              "\n",
              "    .dataframe tbody tr th {\n",
              "        vertical-align: top;\n",
              "    }\n",
              "\n",
              "    .dataframe thead th {\n",
              "        text-align: right;\n",
              "    }\n",
              "</style>\n",
              "<table border=\"1\" class=\"dataframe\">\n",
              "  <thead>\n",
              "    <tr style=\"text-align: right;\">\n",
              "      <th></th>\n",
              "      <th>Price</th>\n",
              "      <th>block_reward</th>\n",
              "      <th>Price+1</th>\n",
              "      <th>Price+2</th>\n",
              "      <th>Price+3</th>\n",
              "      <th>Price+4</th>\n",
              "      <th>Price+5</th>\n",
              "      <th>Price+6</th>\n",
              "      <th>Price+7</th>\n",
              "    </tr>\n",
              "    <tr>\n",
              "      <th>Date</th>\n",
              "      <th></th>\n",
              "      <th></th>\n",
              "      <th></th>\n",
              "      <th></th>\n",
              "      <th></th>\n",
              "      <th></th>\n",
              "      <th></th>\n",
              "      <th></th>\n",
              "      <th></th>\n",
              "    </tr>\n",
              "  </thead>\n",
              "  <tbody>\n",
              "    <tr>\n",
              "      <th>2013-04-28</th>\n",
              "      <td>134.210007</td>\n",
              "      <td>25</td>\n",
              "      <td>NaN</td>\n",
              "      <td>NaN</td>\n",
              "      <td>NaN</td>\n",
              "      <td>NaN</td>\n",
              "      <td>NaN</td>\n",
              "      <td>NaN</td>\n",
              "      <td>NaN</td>\n",
              "    </tr>\n",
              "    <tr>\n",
              "      <th>2013-04-29</th>\n",
              "      <td>144.539993</td>\n",
              "      <td>25</td>\n",
              "      <td>134.210007</td>\n",
              "      <td>NaN</td>\n",
              "      <td>NaN</td>\n",
              "      <td>NaN</td>\n",
              "      <td>NaN</td>\n",
              "      <td>NaN</td>\n",
              "      <td>NaN</td>\n",
              "    </tr>\n",
              "    <tr>\n",
              "      <th>2013-04-30</th>\n",
              "      <td>139.000000</td>\n",
              "      <td>25</td>\n",
              "      <td>144.539993</td>\n",
              "      <td>134.210007</td>\n",
              "      <td>NaN</td>\n",
              "      <td>NaN</td>\n",
              "      <td>NaN</td>\n",
              "      <td>NaN</td>\n",
              "      <td>NaN</td>\n",
              "    </tr>\n",
              "    <tr>\n",
              "      <th>2013-05-01</th>\n",
              "      <td>116.989998</td>\n",
              "      <td>25</td>\n",
              "      <td>139.000000</td>\n",
              "      <td>144.539993</td>\n",
              "      <td>134.210007</td>\n",
              "      <td>NaN</td>\n",
              "      <td>NaN</td>\n",
              "      <td>NaN</td>\n",
              "      <td>NaN</td>\n",
              "    </tr>\n",
              "    <tr>\n",
              "      <th>2013-05-02</th>\n",
              "      <td>105.209999</td>\n",
              "      <td>25</td>\n",
              "      <td>116.989998</td>\n",
              "      <td>139.000000</td>\n",
              "      <td>144.539993</td>\n",
              "      <td>134.210007</td>\n",
              "      <td>NaN</td>\n",
              "      <td>NaN</td>\n",
              "      <td>NaN</td>\n",
              "    </tr>\n",
              "  </tbody>\n",
              "</table>\n",
              "</div>\n",
              "      <button class=\"colab-df-convert\" onclick=\"convertToInteractive('df-1e431a07-15a9-4ffa-abb9-181965085ad8')\"\n",
              "              title=\"Convert this dataframe to an interactive table.\"\n",
              "              style=\"display:none;\">\n",
              "        \n",
              "  <svg xmlns=\"http://www.w3.org/2000/svg\" height=\"24px\"viewBox=\"0 0 24 24\"\n",
              "       width=\"24px\">\n",
              "    <path d=\"M0 0h24v24H0V0z\" fill=\"none\"/>\n",
              "    <path d=\"M18.56 5.44l.94 2.06.94-2.06 2.06-.94-2.06-.94-.94-2.06-.94 2.06-2.06.94zm-11 1L8.5 8.5l.94-2.06 2.06-.94-2.06-.94L8.5 2.5l-.94 2.06-2.06.94zm10 10l.94 2.06.94-2.06 2.06-.94-2.06-.94-.94-2.06-.94 2.06-2.06.94z\"/><path d=\"M17.41 7.96l-1.37-1.37c-.4-.4-.92-.59-1.43-.59-.52 0-1.04.2-1.43.59L10.3 9.45l-7.72 7.72c-.78.78-.78 2.05 0 2.83L4 21.41c.39.39.9.59 1.41.59.51 0 1.02-.2 1.41-.59l7.78-7.78 2.81-2.81c.8-.78.8-2.07 0-2.86zM5.41 20L4 18.59l7.72-7.72 1.47 1.35L5.41 20z\"/>\n",
              "  </svg>\n",
              "      </button>\n",
              "      \n",
              "  <style>\n",
              "    .colab-df-container {\n",
              "      display:flex;\n",
              "      flex-wrap:wrap;\n",
              "      gap: 12px;\n",
              "    }\n",
              "\n",
              "    .colab-df-convert {\n",
              "      background-color: #E8F0FE;\n",
              "      border: none;\n",
              "      border-radius: 50%;\n",
              "      cursor: pointer;\n",
              "      display: none;\n",
              "      fill: #1967D2;\n",
              "      height: 32px;\n",
              "      padding: 0 0 0 0;\n",
              "      width: 32px;\n",
              "    }\n",
              "\n",
              "    .colab-df-convert:hover {\n",
              "      background-color: #E2EBFA;\n",
              "      box-shadow: 0px 1px 2px rgba(60, 64, 67, 0.3), 0px 1px 3px 1px rgba(60, 64, 67, 0.15);\n",
              "      fill: #174EA6;\n",
              "    }\n",
              "\n",
              "    [theme=dark] .colab-df-convert {\n",
              "      background-color: #3B4455;\n",
              "      fill: #D2E3FC;\n",
              "    }\n",
              "\n",
              "    [theme=dark] .colab-df-convert:hover {\n",
              "      background-color: #434B5C;\n",
              "      box-shadow: 0px 1px 3px 1px rgba(0, 0, 0, 0.15);\n",
              "      filter: drop-shadow(0px 1px 2px rgba(0, 0, 0, 0.3));\n",
              "      fill: #FFFFFF;\n",
              "    }\n",
              "  </style>\n",
              "\n",
              "      <script>\n",
              "        const buttonEl =\n",
              "          document.querySelector('#df-1e431a07-15a9-4ffa-abb9-181965085ad8 button.colab-df-convert');\n",
              "        buttonEl.style.display =\n",
              "          google.colab.kernel.accessAllowed ? 'block' : 'none';\n",
              "\n",
              "        async function convertToInteractive(key) {\n",
              "          const element = document.querySelector('#df-1e431a07-15a9-4ffa-abb9-181965085ad8');\n",
              "          const dataTable =\n",
              "            await google.colab.kernel.invokeFunction('convertToInteractive',\n",
              "                                                     [key], {});\n",
              "          if (!dataTable) return;\n",
              "\n",
              "          const docLinkHtml = 'Like what you see? Visit the ' +\n",
              "            '<a target=\"_blank\" href=https://colab.research.google.com/notebooks/data_table.ipynb>data table notebook</a>'\n",
              "            + ' to learn more about interactive tables.';\n",
              "          element.innerHTML = '';\n",
              "          dataTable['output_type'] = 'display_data';\n",
              "          await google.colab.output.renderOutput(dataTable, element);\n",
              "          const docLink = document.createElement('div');\n",
              "          docLink.innerHTML = docLinkHtml;\n",
              "          element.appendChild(docLink);\n",
              "        }\n",
              "      </script>\n",
              "    </div>\n",
              "  </div>\n",
              "  "
            ]
          },
          "metadata": {},
          "execution_count": 81
        }
      ]
    },
    {
      "cell_type": "code",
      "source": [
        "X = btc_price_windowed.dropna().drop(\"Price\", axis=1).astype(np.float32)\n",
        "y = btc_price_windowed.dropna()[\"Price\"].astype(np.float32)\n",
        "X.head()"
      ],
      "metadata": {
        "colab": {
          "base_uri": "https://localhost:8080/",
          "height": 235
        },
        "id": "tyoPmz_iz20b",
        "outputId": "76e05250-9ea6-4a1c-e6a4-5741135eb4fe"
      },
      "execution_count": null,
      "outputs": [
        {
          "output_type": "execute_result",
          "data": {
            "text/plain": [
              "            block_reward     Price+1     Price+2     Price+3     Price+4  \\\n",
              "Date                                                                       \n",
              "2013-05-05          25.0  112.500000   97.750000  105.209999  116.989998   \n",
              "2013-05-06          25.0  115.910004  112.500000   97.750000  105.209999   \n",
              "2013-05-07          25.0  112.300003  115.910004  112.500000   97.750000   \n",
              "2013-05-08          25.0  111.500000  112.300003  115.910004  112.500000   \n",
              "2013-05-09          25.0  113.566002  111.500000  112.300003  115.910004   \n",
              "\n",
              "               Price+5     Price+6     Price+7  \n",
              "Date                                            \n",
              "2013-05-05  139.000000  144.539993  134.210007  \n",
              "2013-05-06  116.989998  139.000000  144.539993  \n",
              "2013-05-07  105.209999  116.989998  139.000000  \n",
              "2013-05-08   97.750000  105.209999  116.989998  \n",
              "2013-05-09  112.500000   97.750000  105.209999  "
            ],
            "text/html": [
              "\n",
              "  <div id=\"df-83b84c9c-3392-4530-8056-103490b12853\">\n",
              "    <div class=\"colab-df-container\">\n",
              "      <div>\n",
              "<style scoped>\n",
              "    .dataframe tbody tr th:only-of-type {\n",
              "        vertical-align: middle;\n",
              "    }\n",
              "\n",
              "    .dataframe tbody tr th {\n",
              "        vertical-align: top;\n",
              "    }\n",
              "\n",
              "    .dataframe thead th {\n",
              "        text-align: right;\n",
              "    }\n",
              "</style>\n",
              "<table border=\"1\" class=\"dataframe\">\n",
              "  <thead>\n",
              "    <tr style=\"text-align: right;\">\n",
              "      <th></th>\n",
              "      <th>block_reward</th>\n",
              "      <th>Price+1</th>\n",
              "      <th>Price+2</th>\n",
              "      <th>Price+3</th>\n",
              "      <th>Price+4</th>\n",
              "      <th>Price+5</th>\n",
              "      <th>Price+6</th>\n",
              "      <th>Price+7</th>\n",
              "    </tr>\n",
              "    <tr>\n",
              "      <th>Date</th>\n",
              "      <th></th>\n",
              "      <th></th>\n",
              "      <th></th>\n",
              "      <th></th>\n",
              "      <th></th>\n",
              "      <th></th>\n",
              "      <th></th>\n",
              "      <th></th>\n",
              "    </tr>\n",
              "  </thead>\n",
              "  <tbody>\n",
              "    <tr>\n",
              "      <th>2013-05-05</th>\n",
              "      <td>25.0</td>\n",
              "      <td>112.500000</td>\n",
              "      <td>97.750000</td>\n",
              "      <td>105.209999</td>\n",
              "      <td>116.989998</td>\n",
              "      <td>139.000000</td>\n",
              "      <td>144.539993</td>\n",
              "      <td>134.210007</td>\n",
              "    </tr>\n",
              "    <tr>\n",
              "      <th>2013-05-06</th>\n",
              "      <td>25.0</td>\n",
              "      <td>115.910004</td>\n",
              "      <td>112.500000</td>\n",
              "      <td>97.750000</td>\n",
              "      <td>105.209999</td>\n",
              "      <td>116.989998</td>\n",
              "      <td>139.000000</td>\n",
              "      <td>144.539993</td>\n",
              "    </tr>\n",
              "    <tr>\n",
              "      <th>2013-05-07</th>\n",
              "      <td>25.0</td>\n",
              "      <td>112.300003</td>\n",
              "      <td>115.910004</td>\n",
              "      <td>112.500000</td>\n",
              "      <td>97.750000</td>\n",
              "      <td>105.209999</td>\n",
              "      <td>116.989998</td>\n",
              "      <td>139.000000</td>\n",
              "    </tr>\n",
              "    <tr>\n",
              "      <th>2013-05-08</th>\n",
              "      <td>25.0</td>\n",
              "      <td>111.500000</td>\n",
              "      <td>112.300003</td>\n",
              "      <td>115.910004</td>\n",
              "      <td>112.500000</td>\n",
              "      <td>97.750000</td>\n",
              "      <td>105.209999</td>\n",
              "      <td>116.989998</td>\n",
              "    </tr>\n",
              "    <tr>\n",
              "      <th>2013-05-09</th>\n",
              "      <td>25.0</td>\n",
              "      <td>113.566002</td>\n",
              "      <td>111.500000</td>\n",
              "      <td>112.300003</td>\n",
              "      <td>115.910004</td>\n",
              "      <td>112.500000</td>\n",
              "      <td>97.750000</td>\n",
              "      <td>105.209999</td>\n",
              "    </tr>\n",
              "  </tbody>\n",
              "</table>\n",
              "</div>\n",
              "      <button class=\"colab-df-convert\" onclick=\"convertToInteractive('df-83b84c9c-3392-4530-8056-103490b12853')\"\n",
              "              title=\"Convert this dataframe to an interactive table.\"\n",
              "              style=\"display:none;\">\n",
              "        \n",
              "  <svg xmlns=\"http://www.w3.org/2000/svg\" height=\"24px\"viewBox=\"0 0 24 24\"\n",
              "       width=\"24px\">\n",
              "    <path d=\"M0 0h24v24H0V0z\" fill=\"none\"/>\n",
              "    <path d=\"M18.56 5.44l.94 2.06.94-2.06 2.06-.94-2.06-.94-.94-2.06-.94 2.06-2.06.94zm-11 1L8.5 8.5l.94-2.06 2.06-.94-2.06-.94L8.5 2.5l-.94 2.06-2.06.94zm10 10l.94 2.06.94-2.06 2.06-.94-2.06-.94-.94-2.06-.94 2.06-2.06.94z\"/><path d=\"M17.41 7.96l-1.37-1.37c-.4-.4-.92-.59-1.43-.59-.52 0-1.04.2-1.43.59L10.3 9.45l-7.72 7.72c-.78.78-.78 2.05 0 2.83L4 21.41c.39.39.9.59 1.41.59.51 0 1.02-.2 1.41-.59l7.78-7.78 2.81-2.81c.8-.78.8-2.07 0-2.86zM5.41 20L4 18.59l7.72-7.72 1.47 1.35L5.41 20z\"/>\n",
              "  </svg>\n",
              "      </button>\n",
              "      \n",
              "  <style>\n",
              "    .colab-df-container {\n",
              "      display:flex;\n",
              "      flex-wrap:wrap;\n",
              "      gap: 12px;\n",
              "    }\n",
              "\n",
              "    .colab-df-convert {\n",
              "      background-color: #E8F0FE;\n",
              "      border: none;\n",
              "      border-radius: 50%;\n",
              "      cursor: pointer;\n",
              "      display: none;\n",
              "      fill: #1967D2;\n",
              "      height: 32px;\n",
              "      padding: 0 0 0 0;\n",
              "      width: 32px;\n",
              "    }\n",
              "\n",
              "    .colab-df-convert:hover {\n",
              "      background-color: #E2EBFA;\n",
              "      box-shadow: 0px 1px 2px rgba(60, 64, 67, 0.3), 0px 1px 3px 1px rgba(60, 64, 67, 0.15);\n",
              "      fill: #174EA6;\n",
              "    }\n",
              "\n",
              "    [theme=dark] .colab-df-convert {\n",
              "      background-color: #3B4455;\n",
              "      fill: #D2E3FC;\n",
              "    }\n",
              "\n",
              "    [theme=dark] .colab-df-convert:hover {\n",
              "      background-color: #434B5C;\n",
              "      box-shadow: 0px 1px 3px 1px rgba(0, 0, 0, 0.15);\n",
              "      filter: drop-shadow(0px 1px 2px rgba(0, 0, 0, 0.3));\n",
              "      fill: #FFFFFF;\n",
              "    }\n",
              "  </style>\n",
              "\n",
              "      <script>\n",
              "        const buttonEl =\n",
              "          document.querySelector('#df-83b84c9c-3392-4530-8056-103490b12853 button.colab-df-convert');\n",
              "        buttonEl.style.display =\n",
              "          google.colab.kernel.accessAllowed ? 'block' : 'none';\n",
              "\n",
              "        async function convertToInteractive(key) {\n",
              "          const element = document.querySelector('#df-83b84c9c-3392-4530-8056-103490b12853');\n",
              "          const dataTable =\n",
              "            await google.colab.kernel.invokeFunction('convertToInteractive',\n",
              "                                                     [key], {});\n",
              "          if (!dataTable) return;\n",
              "\n",
              "          const docLinkHtml = 'Like what you see? Visit the ' +\n",
              "            '<a target=\"_blank\" href=https://colab.research.google.com/notebooks/data_table.ipynb>data table notebook</a>'\n",
              "            + ' to learn more about interactive tables.';\n",
              "          element.innerHTML = '';\n",
              "          dataTable['output_type'] = 'display_data';\n",
              "          await google.colab.output.renderOutput(dataTable, element);\n",
              "          const docLink = document.createElement('div');\n",
              "          docLink.innerHTML = docLinkHtml;\n",
              "          element.appendChild(docLink);\n",
              "        }\n",
              "      </script>\n",
              "    </div>\n",
              "  </div>\n",
              "  "
            ]
          },
          "metadata": {},
          "execution_count": 82
        }
      ]
    },
    {
      "cell_type": "code",
      "source": [
        "split_size = int(len(X)*0.8)\n",
        "X_train, y_train = X[:split_size], y[:split_size]\n",
        "X_test, y_test = X[split_size:], y[split_size:]\n",
        "len(X_train), len(y_train), len(X_test), len(y_test)"
      ],
      "metadata": {
        "colab": {
          "base_uri": "https://localhost:8080/"
        },
        "id": "zw59nhea074N",
        "outputId": "327ef688-62a2-4236-a1c7-f161f030cb96"
      },
      "execution_count": null,
      "outputs": [
        {
          "output_type": "execute_result",
          "data": {
            "text/plain": [
              "(2946, 2946, 737, 737)"
            ]
          },
          "metadata": {},
          "execution_count": 83
        }
      ]
    },
    {
      "cell_type": "markdown",
      "source": [
        "## Model 5: Multivariate Model 1"
      ],
      "metadata": {
        "id": "zXsi29-F1mHG"
      }
    },
    {
      "cell_type": "code",
      "source": [
        "model_6 = tf.keras.Sequential([\n",
        "    layers.Dense(128, activation=\"relu\"),\n",
        "    layers.Dense(HORIZON)\n",
        "], name=\"model_6_Dense_multivariate\")\n",
        "\n",
        "model_6.compile(loss=\"mae\",\n",
        "                optimizer = tf.keras.optimizers.Adam())\n",
        "\n",
        "model_6.fit(X_train, y_train,\n",
        "            epochs=100,\n",
        "            batch_size=128,\n",
        "            validation_data=(X_test,y_test))"
      ],
      "metadata": {
        "colab": {
          "base_uri": "https://localhost:8080/"
        },
        "id": "fekCSnAt1bNB",
        "outputId": "5a404e6b-8cd6-43d6-f987-e230a4114f0f"
      },
      "execution_count": null,
      "outputs": [
        {
          "output_type": "stream",
          "name": "stdout",
          "text": [
            "Epoch 1/100\n",
            "24/24 [==============================] - 1s 12ms/step - loss: 2456.1833 - val_loss: 5512.2573\n",
            "Epoch 2/100\n",
            "24/24 [==============================] - 0s 6ms/step - loss: 514.6182 - val_loss: 1824.2448\n",
            "Epoch 3/100\n",
            "24/24 [==============================] - 0s 6ms/step - loss: 349.5893 - val_loss: 1338.5513\n",
            "Epoch 4/100\n",
            "24/24 [==============================] - 0s 6ms/step - loss: 335.4925 - val_loss: 1304.6769\n",
            "Epoch 5/100\n",
            "24/24 [==============================] - 0s 6ms/step - loss: 379.3008 - val_loss: 1311.2128\n",
            "Epoch 6/100\n",
            "24/24 [==============================] - 0s 6ms/step - loss: 315.8313 - val_loss: 1220.1967\n",
            "Epoch 7/100\n",
            "24/24 [==============================] - 0s 6ms/step - loss: 309.6674 - val_loss: 1218.9108\n",
            "Epoch 8/100\n",
            "24/24 [==============================] - 0s 6ms/step - loss: 293.3700 - val_loss: 1155.7793\n",
            "Epoch 9/100\n",
            "24/24 [==============================] - 0s 6ms/step - loss: 284.7255 - val_loss: 1396.5968\n",
            "Epoch 10/100\n",
            "24/24 [==============================] - 0s 6ms/step - loss: 277.3076 - val_loss: 1232.0887\n",
            "Epoch 11/100\n",
            "24/24 [==============================] - 0s 6ms/step - loss: 291.4524 - val_loss: 1088.9784\n",
            "Epoch 12/100\n",
            "24/24 [==============================] - 0s 6ms/step - loss: 264.0501 - val_loss: 2432.0200\n",
            "Epoch 13/100\n",
            "24/24 [==============================] - 0s 4ms/step - loss: 470.7365 - val_loss: 1512.6371\n",
            "Epoch 14/100\n",
            "24/24 [==============================] - 0s 4ms/step - loss: 298.3429 - val_loss: 1306.3306\n",
            "Epoch 15/100\n",
            "24/24 [==============================] - 0s 4ms/step - loss: 276.5169 - val_loss: 1076.8041\n",
            "Epoch 16/100\n",
            "24/24 [==============================] - 0s 4ms/step - loss: 250.6867 - val_loss: 1152.3229\n",
            "Epoch 17/100\n",
            "24/24 [==============================] - 0s 5ms/step - loss: 301.1619 - val_loss: 2697.7878\n",
            "Epoch 18/100\n",
            "24/24 [==============================] - 0s 4ms/step - loss: 514.3719 - val_loss: 1347.0834\n",
            "Epoch 19/100\n",
            "24/24 [==============================] - 0s 4ms/step - loss: 264.2798 - val_loss: 1119.8479\n",
            "Epoch 20/100\n",
            "24/24 [==============================] - 0s 4ms/step - loss: 246.0089 - val_loss: 1079.7085\n",
            "Epoch 21/100\n",
            "24/24 [==============================] - 0s 4ms/step - loss: 262.8899 - val_loss: 1618.4354\n",
            "Epoch 22/100\n",
            "24/24 [==============================] - 0s 5ms/step - loss: 380.0938 - val_loss: 1014.3934\n",
            "Epoch 23/100\n",
            "24/24 [==============================] - 0s 5ms/step - loss: 252.3111 - val_loss: 1441.1654\n",
            "Epoch 24/100\n",
            "24/24 [==============================] - 0s 4ms/step - loss: 436.3991 - val_loss: 1591.8745\n",
            "Epoch 25/100\n",
            "24/24 [==============================] - 0s 4ms/step - loss: 265.9888 - val_loss: 998.8995\n",
            "Epoch 26/100\n",
            "24/24 [==============================] - 0s 4ms/step - loss: 236.8312 - val_loss: 984.3108\n",
            "Epoch 27/100\n",
            "24/24 [==============================] - 0s 4ms/step - loss: 242.0315 - val_loss: 1058.3623\n",
            "Epoch 28/100\n",
            "24/24 [==============================] - 0s 4ms/step - loss: 236.4254 - val_loss: 973.3356\n",
            "Epoch 29/100\n",
            "24/24 [==============================] - 0s 4ms/step - loss: 240.7916 - val_loss: 985.3374\n",
            "Epoch 30/100\n",
            "24/24 [==============================] - 0s 5ms/step - loss: 231.9955 - val_loss: 1067.4933\n",
            "Epoch 31/100\n",
            "24/24 [==============================] - 0s 4ms/step - loss: 234.4870 - val_loss: 984.6755\n",
            "Epoch 32/100\n",
            "24/24 [==============================] - 0s 4ms/step - loss: 231.0366 - val_loss: 1009.7665\n",
            "Epoch 33/100\n",
            "24/24 [==============================] - 0s 5ms/step - loss: 230.9291 - val_loss: 975.0394\n",
            "Epoch 34/100\n",
            "24/24 [==============================] - 0s 4ms/step - loss: 228.5812 - val_loss: 988.1660\n",
            "Epoch 35/100\n",
            "24/24 [==============================] - 0s 5ms/step - loss: 230.1996 - val_loss: 1120.5356\n",
            "Epoch 36/100\n",
            "24/24 [==============================] - 0s 4ms/step - loss: 244.6177 - val_loss: 953.8926\n",
            "Epoch 37/100\n",
            "24/24 [==============================] - 0s 4ms/step - loss: 228.7063 - val_loss: 1023.3793\n",
            "Epoch 38/100\n",
            "24/24 [==============================] - 0s 4ms/step - loss: 235.7204 - val_loss: 1047.4851\n",
            "Epoch 39/100\n",
            "24/24 [==============================] - 0s 4ms/step - loss: 242.4340 - val_loss: 968.8387\n",
            "Epoch 40/100\n",
            "24/24 [==============================] - 0s 4ms/step - loss: 226.8914 - val_loss: 965.4421\n",
            "Epoch 41/100\n",
            "24/24 [==============================] - 0s 5ms/step - loss: 224.8828 - val_loss: 1149.8624\n",
            "Epoch 42/100\n",
            "24/24 [==============================] - 0s 4ms/step - loss: 240.2717 - val_loss: 1018.2149\n",
            "Epoch 43/100\n",
            "24/24 [==============================] - 0s 4ms/step - loss: 223.2711 - val_loss: 942.6761\n",
            "Epoch 44/100\n",
            "24/24 [==============================] - 0s 4ms/step - loss: 222.3696 - val_loss: 945.6737\n",
            "Epoch 45/100\n",
            "24/24 [==============================] - 0s 5ms/step - loss: 220.8831 - val_loss: 932.5525\n",
            "Epoch 46/100\n",
            "24/24 [==============================] - 0s 5ms/step - loss: 222.1846 - val_loss: 944.2251\n",
            "Epoch 47/100\n",
            "24/24 [==============================] - 0s 4ms/step - loss: 231.2892 - val_loss: 997.4410\n",
            "Epoch 48/100\n",
            "24/24 [==============================] - 0s 4ms/step - loss: 244.9706 - val_loss: 926.9835\n",
            "Epoch 49/100\n",
            "24/24 [==============================] - 0s 4ms/step - loss: 222.3248 - val_loss: 949.6282\n",
            "Epoch 50/100\n",
            "24/24 [==============================] - 0s 5ms/step - loss: 222.1685 - val_loss: 950.9286\n",
            "Epoch 51/100\n",
            "24/24 [==============================] - 0s 4ms/step - loss: 221.2292 - val_loss: 958.9651\n",
            "Epoch 52/100\n",
            "24/24 [==============================] - 0s 4ms/step - loss: 220.8660 - val_loss: 929.5270\n",
            "Epoch 53/100\n",
            "24/24 [==============================] - 0s 4ms/step - loss: 218.5668 - val_loss: 916.4673\n",
            "Epoch 54/100\n",
            "24/24 [==============================] - 0s 4ms/step - loss: 221.2021 - val_loss: 925.3502\n",
            "Epoch 55/100\n",
            "24/24 [==============================] - 0s 4ms/step - loss: 220.8569 - val_loss: 911.2124\n",
            "Epoch 56/100\n",
            "24/24 [==============================] - 0s 4ms/step - loss: 216.0349 - val_loss: 1136.5071\n",
            "Epoch 57/100\n",
            "24/24 [==============================] - 0s 4ms/step - loss: 237.9503 - val_loss: 1622.6533\n",
            "Epoch 58/100\n",
            "24/24 [==============================] - 0s 4ms/step - loss: 280.1425 - val_loss: 1003.3158\n",
            "Epoch 59/100\n",
            "24/24 [==============================] - 0s 4ms/step - loss: 214.8270 - val_loss: 980.5024\n",
            "Epoch 60/100\n",
            "24/24 [==============================] - 0s 4ms/step - loss: 225.7105 - val_loss: 963.6541\n",
            "Epoch 61/100\n",
            "24/24 [==============================] - 0s 5ms/step - loss: 216.4757 - val_loss: 988.6376\n",
            "Epoch 62/100\n",
            "24/24 [==============================] - 0s 4ms/step - loss: 218.2683 - val_loss: 897.1684\n",
            "Epoch 63/100\n",
            "24/24 [==============================] - 0s 4ms/step - loss: 218.8747 - val_loss: 1185.0571\n",
            "Epoch 64/100\n",
            "24/24 [==============================] - 0s 4ms/step - loss: 229.9927 - val_loss: 981.8012\n",
            "Epoch 65/100\n",
            "24/24 [==============================] - 0s 4ms/step - loss: 232.1256 - val_loss: 894.8029\n",
            "Epoch 66/100\n",
            "24/24 [==============================] - 0s 4ms/step - loss: 209.2701 - val_loss: 958.0417\n",
            "Epoch 67/100\n",
            "24/24 [==============================] - 0s 4ms/step - loss: 215.7587 - val_loss: 947.3574\n",
            "Epoch 68/100\n",
            "24/24 [==============================] - 0s 4ms/step - loss: 217.8527 - val_loss: 1100.1902\n",
            "Epoch 69/100\n",
            "24/24 [==============================] - 0s 4ms/step - loss: 213.8651 - val_loss: 895.2999\n",
            "Epoch 70/100\n",
            "24/24 [==============================] - 0s 4ms/step - loss: 209.9016 - val_loss: 1028.2899\n",
            "Epoch 71/100\n",
            "24/24 [==============================] - 0s 4ms/step - loss: 214.0086 - val_loss: 1126.7802\n",
            "Epoch 72/100\n",
            "24/24 [==============================] - 0s 4ms/step - loss: 248.3893 - val_loss: 933.5359\n",
            "Epoch 73/100\n",
            "24/24 [==============================] - 0s 5ms/step - loss: 210.0835 - val_loss: 970.2330\n",
            "Epoch 74/100\n",
            "24/24 [==============================] - 0s 4ms/step - loss: 214.9870 - val_loss: 876.7376\n",
            "Epoch 75/100\n",
            "24/24 [==============================] - 0s 5ms/step - loss: 211.8558 - val_loss: 1241.1696\n",
            "Epoch 76/100\n",
            "24/24 [==============================] - 0s 4ms/step - loss: 218.8962 - val_loss: 1004.0908\n",
            "Epoch 77/100\n",
            "24/24 [==============================] - 0s 4ms/step - loss: 209.7207 - val_loss: 1860.4500\n",
            "Epoch 78/100\n",
            "24/24 [==============================] - 0s 4ms/step - loss: 402.0343 - val_loss: 1312.2532\n",
            "Epoch 79/100\n",
            "24/24 [==============================] - 0s 5ms/step - loss: 251.9555 - val_loss: 1258.4500\n",
            "Epoch 80/100\n",
            "24/24 [==============================] - 0s 4ms/step - loss: 258.0969 - val_loss: 1123.8549\n",
            "Epoch 81/100\n",
            "24/24 [==============================] - 0s 4ms/step - loss: 218.1948 - val_loss: 885.6097\n",
            "Epoch 82/100\n",
            "24/24 [==============================] - 0s 4ms/step - loss: 208.7788 - val_loss: 867.5874\n",
            "Epoch 83/100\n",
            "24/24 [==============================] - 0s 5ms/step - loss: 211.2443 - val_loss: 2285.2585\n",
            "Epoch 84/100\n",
            "24/24 [==============================] - 0s 5ms/step - loss: 460.7449 - val_loss: 1054.2120\n",
            "Epoch 85/100\n",
            "24/24 [==============================] - 0s 5ms/step - loss: 233.1402 - val_loss: 1035.6552\n",
            "Epoch 86/100\n",
            "24/24 [==============================] - 0s 4ms/step - loss: 215.5093 - val_loss: 885.4014\n",
            "Epoch 87/100\n",
            "24/24 [==============================] - 0s 4ms/step - loss: 204.0548 - val_loss: 895.2122\n",
            "Epoch 88/100\n",
            "24/24 [==============================] - 0s 5ms/step - loss: 209.5090 - val_loss: 1063.5989\n",
            "Epoch 89/100\n",
            "24/24 [==============================] - 0s 5ms/step - loss: 300.5071 - val_loss: 859.5453\n",
            "Epoch 90/100\n",
            "24/24 [==============================] - 0s 4ms/step - loss: 215.4326 - val_loss: 1012.2083\n",
            "Epoch 91/100\n",
            "24/24 [==============================] - 0s 4ms/step - loss: 219.2402 - val_loss: 1184.3181\n",
            "Epoch 92/100\n",
            "24/24 [==============================] - 0s 5ms/step - loss: 302.5915 - val_loss: 992.0323\n",
            "Epoch 93/100\n",
            "24/24 [==============================] - 0s 5ms/step - loss: 210.7171 - val_loss: 856.0479\n",
            "Epoch 94/100\n",
            "24/24 [==============================] - 0s 4ms/step - loss: 208.5279 - val_loss: 859.4747\n",
            "Epoch 95/100\n",
            "24/24 [==============================] - 0s 4ms/step - loss: 203.3531 - val_loss: 890.2029\n",
            "Epoch 96/100\n",
            "24/24 [==============================] - 0s 5ms/step - loss: 211.1280 - val_loss: 1228.6041\n",
            "Epoch 97/100\n",
            "24/24 [==============================] - 0s 5ms/step - loss: 219.9267 - val_loss: 852.4018\n",
            "Epoch 98/100\n",
            "24/24 [==============================] - 0s 4ms/step - loss: 205.6880 - val_loss: 923.4475\n",
            "Epoch 99/100\n",
            "24/24 [==============================] - 0s 5ms/step - loss: 204.7738 - val_loss: 849.8425\n",
            "Epoch 100/100\n",
            "24/24 [==============================] - 0s 4ms/step - loss: 206.9707 - val_loss: 1030.7434\n"
          ]
        },
        {
          "output_type": "execute_result",
          "data": {
            "text/plain": [
              "<keras.callbacks.History at 0x7fecb01b3a30>"
            ]
          },
          "metadata": {},
          "execution_count": 84
        }
      ]
    },
    {
      "cell_type": "code",
      "source": [
        "model_6_preds = tf.squeeze(model_6.predict(X_test))"
      ],
      "metadata": {
        "colab": {
          "base_uri": "https://localhost:8080/"
        },
        "id": "cvYcy_LU2RIv",
        "outputId": "4b93a578-239f-48a8-b2d7-9b134e103cbd"
      },
      "execution_count": null,
      "outputs": [
        {
          "output_type": "stream",
          "name": "stdout",
          "text": [
            "24/24 [==============================] - 0s 1ms/step\n"
          ]
        }
      ]
    },
    {
      "cell_type": "code",
      "source": [
        "model_6_results = evaluate_preds(y_test,model_6_preds)\n",
        "model_6_results"
      ],
      "metadata": {
        "colab": {
          "base_uri": "https://localhost:8080/"
        },
        "id": "JyYZp8cr2sPO",
        "outputId": "6b70f42c-d9ba-40de-c60c-a6fdd7ad6df3"
      },
      "execution_count": null,
      "outputs": [
        {
          "output_type": "execute_result",
          "data": {
            "text/plain": [
              "{'mae': 1030.7432,\n",
              " 'mse': 2044609.1,\n",
              " 'rmse': 1429.8983,\n",
              " 'mape': 3.0398233,\n",
              " 'mase': 1.2986338}"
            ]
          },
          "metadata": {},
          "execution_count": 86
        }
      ]
    },
    {
      "cell_type": "markdown",
      "source": [
        "## Model 6: N-Beats Algorithm"
      ],
      "metadata": {
        "id": "S3QC6ZaW4NrS"
      }
    },
    {
      "cell_type": "code",
      "source": [
        "class NBeatsBlock(tf.keras.layers.Layer):\n",
        "  def __init__(self,\n",
        "               input_size: int,\n",
        "               theta_size: int,\n",
        "               horizon: int,\n",
        "               n_neurons: int,\n",
        "               n_layers: int,\n",
        "               **kwargs):\n",
        "    super().__init__(**kwargs)\n",
        "    self.input_size = input_size\n",
        "    self.theta_size = theta_size\n",
        "    self.horizon = horizon\n",
        "    self.n_neurons = n_neurons\n",
        "    self.n_layers = n_layers\n",
        "\n",
        "    self.hidden = [tf.keras.layers.Dense(n_neurons, activation=\"relu\") for _ in range(n_layers)]\n",
        "    self.theta_layer = tf.keras.layers.Dense(theta_size, activation =\"linear\", name=\"theta\")\n",
        "\n",
        "  def call(self, inputs):\n",
        "    x = inputs\n",
        "    for layer in self.hidden:\n",
        "      x = layer(x)\n",
        "    theta = self.theta_layer(x)\n",
        "    backcast, forecast = theta[:, :self.input_size], theta[:,-self.horizon:]\n",
        "    return backcast, forecast"
      ],
      "metadata": {
        "id": "IPd0aMdw20UE"
      },
      "execution_count": null,
      "outputs": []
    },
    {
      "cell_type": "code",
      "source": [
        "dummy_nbeats = NBeatsBlock(input_size = WINDOW_SIZE,\n",
        "                           theta_size = WINDOW_SIZE + HORIZON,\n",
        "                           horizon=HORIZON,\n",
        "                           n_neurons=128,\n",
        "                           n_layers=4)"
      ],
      "metadata": {
        "id": "dO5rOkt_8XH9"
      },
      "execution_count": null,
      "outputs": []
    },
    {
      "cell_type": "code",
      "source": [
        "dummy_inputs = tf.expand_dims(tf.range(WINDOW_SIZE)+1, axis =0)\n",
        "dummy_inputs"
      ],
      "metadata": {
        "colab": {
          "base_uri": "https://localhost:8080/"
        },
        "id": "pC9i8MAq9_8l",
        "outputId": "63ebd232-ee5c-4865-d50e-4f6b6bdf4bdb"
      },
      "execution_count": null,
      "outputs": [
        {
          "output_type": "execute_result",
          "data": {
            "text/plain": [
              "<tf.Tensor: shape=(1, 7), dtype=int32, numpy=array([[1, 2, 3, 4, 5, 6, 7]], dtype=int32)>"
            ]
          },
          "metadata": {},
          "execution_count": 89
        }
      ]
    },
    {
      "cell_type": "code",
      "source": [
        "backcast, forecast = dummy_nbeats(dummy_inputs)\n",
        "print(f\"Backcast: {tf.squeeze(backcast.numpy())}\")\n",
        "print(f\"Forecast: {tf.squeeze(forecast.numpy())}\")"
      ],
      "metadata": {
        "colab": {
          "base_uri": "https://localhost:8080/"
        },
        "id": "XCWtTwUi-WR-",
        "outputId": "e8a04f8d-d58b-46ad-d7a3-24ac83ffe4a5"
      },
      "execution_count": null,
      "outputs": [
        {
          "output_type": "stream",
          "name": "stdout",
          "text": [
            "Backcast: [-0.11195578  0.7005705  -0.5974757   0.7920905   0.37729874 -0.71670747\n",
            " -0.18821804]\n",
            "Forecast: 0.8319001197814941\n"
          ]
        }
      ]
    },
    {
      "cell_type": "code",
      "source": [
        "HORIZON = 1\n",
        "WINDOW_SIZE = 7"
      ],
      "metadata": {
        "id": "OGALOhRl-tU1"
      },
      "execution_count": null,
      "outputs": []
    },
    {
      "cell_type": "code",
      "source": [
        "btc_price_nbeats = btc_price.copy()\n",
        "for i in range(WINDOW_SIZE):\n",
        "  btc_price_nbeats[f\"Price+{i+1}\"] = btc_price[\"Price\"].shift(periods = i+1)\n",
        "btc_price_nbeats.head()"
      ],
      "metadata": {
        "colab": {
          "base_uri": "https://localhost:8080/",
          "height": 235
        },
        "id": "8OVwMA15kLzF",
        "outputId": "9c1d497f-03ba-410b-daad-c1512ee65d34"
      },
      "execution_count": null,
      "outputs": [
        {
          "output_type": "execute_result",
          "data": {
            "text/plain": [
              "                 Price     Price+1     Price+2     Price+3     Price+4  \\\n",
              "Date                                                                     \n",
              "2013-04-28  134.210007         NaN         NaN         NaN         NaN   \n",
              "2013-04-29  144.539993  134.210007         NaN         NaN         NaN   \n",
              "2013-04-30  139.000000  144.539993  134.210007         NaN         NaN   \n",
              "2013-05-01  116.989998  139.000000  144.539993  134.210007         NaN   \n",
              "2013-05-02  105.209999  116.989998  139.000000  144.539993  134.210007   \n",
              "\n",
              "            Price+5  Price+6  Price+7  \n",
              "Date                                   \n",
              "2013-04-28      NaN      NaN      NaN  \n",
              "2013-04-29      NaN      NaN      NaN  \n",
              "2013-04-30      NaN      NaN      NaN  \n",
              "2013-05-01      NaN      NaN      NaN  \n",
              "2013-05-02      NaN      NaN      NaN  "
            ],
            "text/html": [
              "\n",
              "  <div id=\"df-fb38693a-f72d-406e-95f5-61d5e42e8965\">\n",
              "    <div class=\"colab-df-container\">\n",
              "      <div>\n",
              "<style scoped>\n",
              "    .dataframe tbody tr th:only-of-type {\n",
              "        vertical-align: middle;\n",
              "    }\n",
              "\n",
              "    .dataframe tbody tr th {\n",
              "        vertical-align: top;\n",
              "    }\n",
              "\n",
              "    .dataframe thead th {\n",
              "        text-align: right;\n",
              "    }\n",
              "</style>\n",
              "<table border=\"1\" class=\"dataframe\">\n",
              "  <thead>\n",
              "    <tr style=\"text-align: right;\">\n",
              "      <th></th>\n",
              "      <th>Price</th>\n",
              "      <th>Price+1</th>\n",
              "      <th>Price+2</th>\n",
              "      <th>Price+3</th>\n",
              "      <th>Price+4</th>\n",
              "      <th>Price+5</th>\n",
              "      <th>Price+6</th>\n",
              "      <th>Price+7</th>\n",
              "    </tr>\n",
              "    <tr>\n",
              "      <th>Date</th>\n",
              "      <th></th>\n",
              "      <th></th>\n",
              "      <th></th>\n",
              "      <th></th>\n",
              "      <th></th>\n",
              "      <th></th>\n",
              "      <th></th>\n",
              "      <th></th>\n",
              "    </tr>\n",
              "  </thead>\n",
              "  <tbody>\n",
              "    <tr>\n",
              "      <th>2013-04-28</th>\n",
              "      <td>134.210007</td>\n",
              "      <td>NaN</td>\n",
              "      <td>NaN</td>\n",
              "      <td>NaN</td>\n",
              "      <td>NaN</td>\n",
              "      <td>NaN</td>\n",
              "      <td>NaN</td>\n",
              "      <td>NaN</td>\n",
              "    </tr>\n",
              "    <tr>\n",
              "      <th>2013-04-29</th>\n",
              "      <td>144.539993</td>\n",
              "      <td>134.210007</td>\n",
              "      <td>NaN</td>\n",
              "      <td>NaN</td>\n",
              "      <td>NaN</td>\n",
              "      <td>NaN</td>\n",
              "      <td>NaN</td>\n",
              "      <td>NaN</td>\n",
              "    </tr>\n",
              "    <tr>\n",
              "      <th>2013-04-30</th>\n",
              "      <td>139.000000</td>\n",
              "      <td>144.539993</td>\n",
              "      <td>134.210007</td>\n",
              "      <td>NaN</td>\n",
              "      <td>NaN</td>\n",
              "      <td>NaN</td>\n",
              "      <td>NaN</td>\n",
              "      <td>NaN</td>\n",
              "    </tr>\n",
              "    <tr>\n",
              "      <th>2013-05-01</th>\n",
              "      <td>116.989998</td>\n",
              "      <td>139.000000</td>\n",
              "      <td>144.539993</td>\n",
              "      <td>134.210007</td>\n",
              "      <td>NaN</td>\n",
              "      <td>NaN</td>\n",
              "      <td>NaN</td>\n",
              "      <td>NaN</td>\n",
              "    </tr>\n",
              "    <tr>\n",
              "      <th>2013-05-02</th>\n",
              "      <td>105.209999</td>\n",
              "      <td>116.989998</td>\n",
              "      <td>139.000000</td>\n",
              "      <td>144.539993</td>\n",
              "      <td>134.210007</td>\n",
              "      <td>NaN</td>\n",
              "      <td>NaN</td>\n",
              "      <td>NaN</td>\n",
              "    </tr>\n",
              "  </tbody>\n",
              "</table>\n",
              "</div>\n",
              "      <button class=\"colab-df-convert\" onclick=\"convertToInteractive('df-fb38693a-f72d-406e-95f5-61d5e42e8965')\"\n",
              "              title=\"Convert this dataframe to an interactive table.\"\n",
              "              style=\"display:none;\">\n",
              "        \n",
              "  <svg xmlns=\"http://www.w3.org/2000/svg\" height=\"24px\"viewBox=\"0 0 24 24\"\n",
              "       width=\"24px\">\n",
              "    <path d=\"M0 0h24v24H0V0z\" fill=\"none\"/>\n",
              "    <path d=\"M18.56 5.44l.94 2.06.94-2.06 2.06-.94-2.06-.94-.94-2.06-.94 2.06-2.06.94zm-11 1L8.5 8.5l.94-2.06 2.06-.94-2.06-.94L8.5 2.5l-.94 2.06-2.06.94zm10 10l.94 2.06.94-2.06 2.06-.94-2.06-.94-.94-2.06-.94 2.06-2.06.94z\"/><path d=\"M17.41 7.96l-1.37-1.37c-.4-.4-.92-.59-1.43-.59-.52 0-1.04.2-1.43.59L10.3 9.45l-7.72 7.72c-.78.78-.78 2.05 0 2.83L4 21.41c.39.39.9.59 1.41.59.51 0 1.02-.2 1.41-.59l7.78-7.78 2.81-2.81c.8-.78.8-2.07 0-2.86zM5.41 20L4 18.59l7.72-7.72 1.47 1.35L5.41 20z\"/>\n",
              "  </svg>\n",
              "      </button>\n",
              "      \n",
              "  <style>\n",
              "    .colab-df-container {\n",
              "      display:flex;\n",
              "      flex-wrap:wrap;\n",
              "      gap: 12px;\n",
              "    }\n",
              "\n",
              "    .colab-df-convert {\n",
              "      background-color: #E8F0FE;\n",
              "      border: none;\n",
              "      border-radius: 50%;\n",
              "      cursor: pointer;\n",
              "      display: none;\n",
              "      fill: #1967D2;\n",
              "      height: 32px;\n",
              "      padding: 0 0 0 0;\n",
              "      width: 32px;\n",
              "    }\n",
              "\n",
              "    .colab-df-convert:hover {\n",
              "      background-color: #E2EBFA;\n",
              "      box-shadow: 0px 1px 2px rgba(60, 64, 67, 0.3), 0px 1px 3px 1px rgba(60, 64, 67, 0.15);\n",
              "      fill: #174EA6;\n",
              "    }\n",
              "\n",
              "    [theme=dark] .colab-df-convert {\n",
              "      background-color: #3B4455;\n",
              "      fill: #D2E3FC;\n",
              "    }\n",
              "\n",
              "    [theme=dark] .colab-df-convert:hover {\n",
              "      background-color: #434B5C;\n",
              "      box-shadow: 0px 1px 3px 1px rgba(0, 0, 0, 0.15);\n",
              "      filter: drop-shadow(0px 1px 2px rgba(0, 0, 0, 0.3));\n",
              "      fill: #FFFFFF;\n",
              "    }\n",
              "  </style>\n",
              "\n",
              "      <script>\n",
              "        const buttonEl =\n",
              "          document.querySelector('#df-fb38693a-f72d-406e-95f5-61d5e42e8965 button.colab-df-convert');\n",
              "        buttonEl.style.display =\n",
              "          google.colab.kernel.accessAllowed ? 'block' : 'none';\n",
              "\n",
              "        async function convertToInteractive(key) {\n",
              "          const element = document.querySelector('#df-fb38693a-f72d-406e-95f5-61d5e42e8965');\n",
              "          const dataTable =\n",
              "            await google.colab.kernel.invokeFunction('convertToInteractive',\n",
              "                                                     [key], {});\n",
              "          if (!dataTable) return;\n",
              "\n",
              "          const docLinkHtml = 'Like what you see? Visit the ' +\n",
              "            '<a target=\"_blank\" href=https://colab.research.google.com/notebooks/data_table.ipynb>data table notebook</a>'\n",
              "            + ' to learn more about interactive tables.';\n",
              "          element.innerHTML = '';\n",
              "          dataTable['output_type'] = 'display_data';\n",
              "          await google.colab.output.renderOutput(dataTable, element);\n",
              "          const docLink = document.createElement('div');\n",
              "          docLink.innerHTML = docLinkHtml;\n",
              "          element.appendChild(docLink);\n",
              "        }\n",
              "      </script>\n",
              "    </div>\n",
              "  </div>\n",
              "  "
            ]
          },
          "metadata": {},
          "execution_count": 92
        }
      ]
    },
    {
      "cell_type": "code",
      "source": [
        "X = btc_price_nbeats.dropna().drop(\"Price\", axis=1).astype(np.float32)\n",
        "y = btc_price_nbeats.dropna()[\"Price\"].astype(np.float32)\n",
        "X.head()"
      ],
      "metadata": {
        "colab": {
          "base_uri": "https://localhost:8080/",
          "height": 235
        },
        "id": "MiJXFmK9kui_",
        "outputId": "209fbac2-f777-4f6a-aa0c-2c1e475d2425"
      },
      "execution_count": null,
      "outputs": [
        {
          "output_type": "execute_result",
          "data": {
            "text/plain": [
              "               Price+1     Price+2     Price+3     Price+4     Price+5  \\\n",
              "Date                                                                     \n",
              "2013-05-05  112.500000   97.750000  105.209999  116.989998  139.000000   \n",
              "2013-05-06  115.910004  112.500000   97.750000  105.209999  116.989998   \n",
              "2013-05-07  112.300003  115.910004  112.500000   97.750000  105.209999   \n",
              "2013-05-08  111.500000  112.300003  115.910004  112.500000   97.750000   \n",
              "2013-05-09  113.566002  111.500000  112.300003  115.910004  112.500000   \n",
              "\n",
              "               Price+6     Price+7  \n",
              "Date                                \n",
              "2013-05-05  144.539993  134.210007  \n",
              "2013-05-06  139.000000  144.539993  \n",
              "2013-05-07  116.989998  139.000000  \n",
              "2013-05-08  105.209999  116.989998  \n",
              "2013-05-09   97.750000  105.209999  "
            ],
            "text/html": [
              "\n",
              "  <div id=\"df-8cc58111-8dc9-4927-aa5a-8348c532e547\">\n",
              "    <div class=\"colab-df-container\">\n",
              "      <div>\n",
              "<style scoped>\n",
              "    .dataframe tbody tr th:only-of-type {\n",
              "        vertical-align: middle;\n",
              "    }\n",
              "\n",
              "    .dataframe tbody tr th {\n",
              "        vertical-align: top;\n",
              "    }\n",
              "\n",
              "    .dataframe thead th {\n",
              "        text-align: right;\n",
              "    }\n",
              "</style>\n",
              "<table border=\"1\" class=\"dataframe\">\n",
              "  <thead>\n",
              "    <tr style=\"text-align: right;\">\n",
              "      <th></th>\n",
              "      <th>Price+1</th>\n",
              "      <th>Price+2</th>\n",
              "      <th>Price+3</th>\n",
              "      <th>Price+4</th>\n",
              "      <th>Price+5</th>\n",
              "      <th>Price+6</th>\n",
              "      <th>Price+7</th>\n",
              "    </tr>\n",
              "    <tr>\n",
              "      <th>Date</th>\n",
              "      <th></th>\n",
              "      <th></th>\n",
              "      <th></th>\n",
              "      <th></th>\n",
              "      <th></th>\n",
              "      <th></th>\n",
              "      <th></th>\n",
              "    </tr>\n",
              "  </thead>\n",
              "  <tbody>\n",
              "    <tr>\n",
              "      <th>2013-05-05</th>\n",
              "      <td>112.500000</td>\n",
              "      <td>97.750000</td>\n",
              "      <td>105.209999</td>\n",
              "      <td>116.989998</td>\n",
              "      <td>139.000000</td>\n",
              "      <td>144.539993</td>\n",
              "      <td>134.210007</td>\n",
              "    </tr>\n",
              "    <tr>\n",
              "      <th>2013-05-06</th>\n",
              "      <td>115.910004</td>\n",
              "      <td>112.500000</td>\n",
              "      <td>97.750000</td>\n",
              "      <td>105.209999</td>\n",
              "      <td>116.989998</td>\n",
              "      <td>139.000000</td>\n",
              "      <td>144.539993</td>\n",
              "    </tr>\n",
              "    <tr>\n",
              "      <th>2013-05-07</th>\n",
              "      <td>112.300003</td>\n",
              "      <td>115.910004</td>\n",
              "      <td>112.500000</td>\n",
              "      <td>97.750000</td>\n",
              "      <td>105.209999</td>\n",
              "      <td>116.989998</td>\n",
              "      <td>139.000000</td>\n",
              "    </tr>\n",
              "    <tr>\n",
              "      <th>2013-05-08</th>\n",
              "      <td>111.500000</td>\n",
              "      <td>112.300003</td>\n",
              "      <td>115.910004</td>\n",
              "      <td>112.500000</td>\n",
              "      <td>97.750000</td>\n",
              "      <td>105.209999</td>\n",
              "      <td>116.989998</td>\n",
              "    </tr>\n",
              "    <tr>\n",
              "      <th>2013-05-09</th>\n",
              "      <td>113.566002</td>\n",
              "      <td>111.500000</td>\n",
              "      <td>112.300003</td>\n",
              "      <td>115.910004</td>\n",
              "      <td>112.500000</td>\n",
              "      <td>97.750000</td>\n",
              "      <td>105.209999</td>\n",
              "    </tr>\n",
              "  </tbody>\n",
              "</table>\n",
              "</div>\n",
              "      <button class=\"colab-df-convert\" onclick=\"convertToInteractive('df-8cc58111-8dc9-4927-aa5a-8348c532e547')\"\n",
              "              title=\"Convert this dataframe to an interactive table.\"\n",
              "              style=\"display:none;\">\n",
              "        \n",
              "  <svg xmlns=\"http://www.w3.org/2000/svg\" height=\"24px\"viewBox=\"0 0 24 24\"\n",
              "       width=\"24px\">\n",
              "    <path d=\"M0 0h24v24H0V0z\" fill=\"none\"/>\n",
              "    <path d=\"M18.56 5.44l.94 2.06.94-2.06 2.06-.94-2.06-.94-.94-2.06-.94 2.06-2.06.94zm-11 1L8.5 8.5l.94-2.06 2.06-.94-2.06-.94L8.5 2.5l-.94 2.06-2.06.94zm10 10l.94 2.06.94-2.06 2.06-.94-2.06-.94-.94-2.06-.94 2.06-2.06.94z\"/><path d=\"M17.41 7.96l-1.37-1.37c-.4-.4-.92-.59-1.43-.59-.52 0-1.04.2-1.43.59L10.3 9.45l-7.72 7.72c-.78.78-.78 2.05 0 2.83L4 21.41c.39.39.9.59 1.41.59.51 0 1.02-.2 1.41-.59l7.78-7.78 2.81-2.81c.8-.78.8-2.07 0-2.86zM5.41 20L4 18.59l7.72-7.72 1.47 1.35L5.41 20z\"/>\n",
              "  </svg>\n",
              "      </button>\n",
              "      \n",
              "  <style>\n",
              "    .colab-df-container {\n",
              "      display:flex;\n",
              "      flex-wrap:wrap;\n",
              "      gap: 12px;\n",
              "    }\n",
              "\n",
              "    .colab-df-convert {\n",
              "      background-color: #E8F0FE;\n",
              "      border: none;\n",
              "      border-radius: 50%;\n",
              "      cursor: pointer;\n",
              "      display: none;\n",
              "      fill: #1967D2;\n",
              "      height: 32px;\n",
              "      padding: 0 0 0 0;\n",
              "      width: 32px;\n",
              "    }\n",
              "\n",
              "    .colab-df-convert:hover {\n",
              "      background-color: #E2EBFA;\n",
              "      box-shadow: 0px 1px 2px rgba(60, 64, 67, 0.3), 0px 1px 3px 1px rgba(60, 64, 67, 0.15);\n",
              "      fill: #174EA6;\n",
              "    }\n",
              "\n",
              "    [theme=dark] .colab-df-convert {\n",
              "      background-color: #3B4455;\n",
              "      fill: #D2E3FC;\n",
              "    }\n",
              "\n",
              "    [theme=dark] .colab-df-convert:hover {\n",
              "      background-color: #434B5C;\n",
              "      box-shadow: 0px 1px 3px 1px rgba(0, 0, 0, 0.15);\n",
              "      filter: drop-shadow(0px 1px 2px rgba(0, 0, 0, 0.3));\n",
              "      fill: #FFFFFF;\n",
              "    }\n",
              "  </style>\n",
              "\n",
              "      <script>\n",
              "        const buttonEl =\n",
              "          document.querySelector('#df-8cc58111-8dc9-4927-aa5a-8348c532e547 button.colab-df-convert');\n",
              "        buttonEl.style.display =\n",
              "          google.colab.kernel.accessAllowed ? 'block' : 'none';\n",
              "\n",
              "        async function convertToInteractive(key) {\n",
              "          const element = document.querySelector('#df-8cc58111-8dc9-4927-aa5a-8348c532e547');\n",
              "          const dataTable =\n",
              "            await google.colab.kernel.invokeFunction('convertToInteractive',\n",
              "                                                     [key], {});\n",
              "          if (!dataTable) return;\n",
              "\n",
              "          const docLinkHtml = 'Like what you see? Visit the ' +\n",
              "            '<a target=\"_blank\" href=https://colab.research.google.com/notebooks/data_table.ipynb>data table notebook</a>'\n",
              "            + ' to learn more about interactive tables.';\n",
              "          element.innerHTML = '';\n",
              "          dataTable['output_type'] = 'display_data';\n",
              "          await google.colab.output.renderOutput(dataTable, element);\n",
              "          const docLink = document.createElement('div');\n",
              "          docLink.innerHTML = docLinkHtml;\n",
              "          element.appendChild(docLink);\n",
              "        }\n",
              "      </script>\n",
              "    </div>\n",
              "  </div>\n",
              "  "
            ]
          },
          "metadata": {},
          "execution_count": 93
        }
      ]
    },
    {
      "cell_type": "code",
      "source": [
        "split_size = int(len(X)*0.8)\n",
        "X_train, y_train = X[:split_size], y[:split_size]\n",
        "X_test, y_test = X[split_size:], y[split_size:]"
      ],
      "metadata": {
        "id": "T5BLkEtfk4Pk"
      },
      "execution_count": null,
      "outputs": []
    },
    {
      "cell_type": "code",
      "source": [
        "train_features_dataset = tf.data.Dataset.from_tensor_slices(X_train)\n",
        "train_labels_dataset = tf.data.Dataset.from_tensor_slices(y_train)\n",
        "test_features_dataset = tf.data.Dataset.from_tensor_slices(X_test)\n",
        "test_labels_dataset = tf.data.Dataset.from_tensor_slices(y_test)\n",
        "\n",
        "train_dataset = tf.data.Dataset.zip((train_features_dataset, train_labels_dataset))\n",
        "test_dataset = tf.data.Dataset.zip((test_features_dataset, test_labels_dataset))\n",
        "\n",
        "BATCH_SIZE = 1024\n",
        "train_dataset = train_dataset.batch(BATCH_SIZE).prefetch(tf.data.AUTOTUNE)\n",
        "test_dataset = test_dataset.batch(BATCH_SIZE).prefetch(tf.data.AUTOTUNE)"
      ],
      "metadata": {
        "id": "El1-HBsilASM"
      },
      "execution_count": null,
      "outputs": []
    },
    {
      "cell_type": "code",
      "source": [
        "N_EPOCHS = 5000\n",
        "N_NEURONS = 512\n",
        "N_LAYERS = 4\n",
        "N_STACKS = 30\n",
        "\n",
        "INPUT_SIZE = 7\n",
        "THETA_SIZE = 8\n"
      ],
      "metadata": {
        "id": "mJ8biWbgr5pl"
      },
      "execution_count": null,
      "outputs": []
    },
    {
      "cell_type": "code",
      "source": [
        "tensor_1 = tf.range(10) + 10\n",
        "tensor_2 = tf.range(10)\n",
        "\n",
        "subtracted = layers.subtract([tensor_1, tensor_2])\n",
        "\n",
        "added = layers.add([tensor_1, tensor_2])\n",
        "\n",
        "print(f\"Input tensors: {tensor_1.numpy()} and {tensor_2.numpy()}\")\n",
        "print(f\"Subtracted: {subtracted.numpy()}\")\n",
        "print(f\"Added: {added.numpy()}\")"
      ],
      "metadata": {
        "colab": {
          "base_uri": "https://localhost:8080/"
        },
        "id": "wk2bjGLj3Y8Z",
        "outputId": "74a419a1-be65-48a7-8b17-d9451416f34f"
      },
      "execution_count": null,
      "outputs": [
        {
          "output_type": "stream",
          "name": "stdout",
          "text": [
            "Input tensors: [10 11 12 13 14 15 16 17 18 19] and [0 1 2 3 4 5 6 7 8 9]\n",
            "Subtracted: [10 10 10 10 10 10 10 10 10 10]\n",
            "Added: [10 12 14 16 18 20 22 24 26 28]\n"
          ]
        }
      ]
    },
    {
      "cell_type": "code",
      "source": [
        "%%time\n",
        "\n",
        "nbeats_block_layer = NBeatsBlock(input_size = INPUT_SIZE,\n",
        "                                 theta_size = THETA_SIZE,\n",
        "                                 horizon = HORIZON,\n",
        "                                 n_neurons = N_NEURONS,\n",
        "                                 n_layers = N_LAYERS,\n",
        "                                 name=\"InitialBlock\")\n",
        "\n",
        "stack_input = layers.Input(shape=(INPUT_SIZE), name= \"stack_input\")\n",
        "\n",
        "residuals, forecast = nbeats_block_layer(stack_input)\n",
        "\n",
        "for i, _ in enumerate(range(N_STACKS-1)):\n",
        "  backcast, block_forecast = NBeatsBlock(\n",
        "      input_size = INPUT_SIZE,\n",
        "      theta_size = THETA_SIZE,\n",
        "      horizon=HORIZON,\n",
        "      n_neurons = N_NEURONS,\n",
        "      n_layers= N_LAYERS,\n",
        "      name = f\"NBeatsBlock_{i}\"\n",
        "  )(residuals)\n",
        "\n",
        "  residuals = layers.subtract([residuals, backcast], name=f\"subtract_{i}\")\n",
        "  forecast = layers.add([forecast, block_forecast], name=f\"add_{i}\")\n",
        "\n",
        "model_7 = tf.keras.Model(inputs=stack_input, outputs=forecast, name=\"model_7_NBeats\")\n",
        "\n",
        "model_7.compile(loss=\"mae\",\n",
        "                optimizer=tf.keras.optimizers.Adam())\n",
        "\n",
        "model_7.fit(train_dataset,\n",
        "            epochs = N_EPOCHS,\n",
        "            validation_data=test_dataset,\n",
        "            verbose=0,\n",
        "            callbacks=[tf.keras.callbacks.EarlyStopping(monitor=\"val_loss\",\n",
        "                                                        patience=200,\n",
        "                                                        restore_best_weights=True),\n",
        "                       tf.keras.callbacks.ReduceLROnPlateau(monitor=\"val_loss\",\n",
        "                                                            patience=100,\n",
        "                                                            verbose=1)])"
      ],
      "metadata": {
        "colab": {
          "base_uri": "https://localhost:8080/"
        },
        "id": "8dTHfWOQ5MlN",
        "outputId": "4a96161b-5cdd-4410-8899-76af288127e4"
      },
      "execution_count": null,
      "outputs": [
        {
          "output_type": "stream",
          "name": "stdout",
          "text": [
            "\n",
            "Epoch 1171: ReduceLROnPlateau reducing learning rate to 0.00010000000474974513.\n",
            "\n",
            "Epoch 1378: ReduceLROnPlateau reducing learning rate to 1.0000000474974514e-05.\n",
            "\n",
            "Epoch 1478: ReduceLROnPlateau reducing learning rate to 1.0000000656873453e-06.\n",
            "CPU times: user 5min 40s, sys: 6.86 s, total: 5min 46s\n",
            "Wall time: 7min 2s\n"
          ]
        },
        {
          "output_type": "execute_result",
          "data": {
            "text/plain": [
              "<keras.callbacks.History at 0x7febf06613c0>"
            ]
          },
          "metadata": {},
          "execution_count": 104
        }
      ]
    },
    {
      "cell_type": "code",
      "source": [
        "model_7.evaluate(test_dataset)"
      ],
      "metadata": {
        "colab": {
          "base_uri": "https://localhost:8080/"
        },
        "id": "zi9SuDfc-Eqb",
        "outputId": "bcc26df6-83ec-4c41-c6e3-3d06cb7ec292"
      },
      "execution_count": null,
      "outputs": [
        {
          "output_type": "stream",
          "name": "stdout",
          "text": [
            "1/1 [==============================] - 0s 40ms/step - loss: 816.3823\n"
          ]
        },
        {
          "output_type": "execute_result",
          "data": {
            "text/plain": [
              "816.3822631835938"
            ]
          },
          "metadata": {},
          "execution_count": 105
        }
      ]
    },
    {
      "cell_type": "code",
      "source": [
        "model_7_preds = make_preds(model_7, test_dataset)"
      ],
      "metadata": {
        "colab": {
          "base_uri": "https://localhost:8080/"
        },
        "id": "dl5UySdZ_TmZ",
        "outputId": "7bf0dc15-a6be-4b28-e9b1-49ed4809221a"
      },
      "execution_count": null,
      "outputs": [
        {
          "output_type": "stream",
          "name": "stdout",
          "text": [
            "1/1 [==============================] - 1s 1s/step\n"
          ]
        }
      ]
    },
    {
      "cell_type": "code",
      "source": [
        "model_7_results = evaluate_preds(y_test,model_7_preds)\n",
        "model_7_results"
      ],
      "metadata": {
        "colab": {
          "base_uri": "https://localhost:8080/"
        },
        "id": "oNjq9aIs_Xh8",
        "outputId": "982f8dc7-9110-423e-950d-edcb087b9446"
      },
      "execution_count": null,
      "outputs": [
        {
          "output_type": "execute_result",
          "data": {
            "text/plain": [
              "{'mae': 816.38226,\n",
              " 'mse': 1492202.1,\n",
              " 'rmse': 1221.5573,\n",
              " 'mape': 2.3825462,\n",
              " 'mase': 1.0285604}"
            ]
          },
          "metadata": {},
          "execution_count": 107
        }
      ]
    },
    {
      "cell_type": "code",
      "source": [
        "model_1_results"
      ],
      "metadata": {
        "colab": {
          "base_uri": "https://localhost:8080/"
        },
        "id": "frE5ZbY_Aanx",
        "outputId": "838c5ad8-ba8c-4077-972e-422a53e81f09"
      },
      "execution_count": null,
      "outputs": [
        {
          "output_type": "execute_result",
          "data": {
            "text/plain": [
              "{'mae': 881.99164,\n",
              " 'mse': 1645608.8,\n",
              " 'rmse': 1282.8129,\n",
              " 'mape': 2.6195707,\n",
              " 'mase': 1.1178596}"
            ]
          },
          "metadata": {},
          "execution_count": 108
        }
      ]
    },
    {
      "cell_type": "markdown",
      "source": [
        "##Model 7: Ensembling"
      ],
      "metadata": {
        "id": "wjU5AMaZBgUd"
      }
    },
    {
      "cell_type": "code",
      "source": [
        "HORIZON, WINDOW_SIZE"
      ],
      "metadata": {
        "colab": {
          "base_uri": "https://localhost:8080/"
        },
        "id": "WIKsSyTAA7ve",
        "outputId": "8dae3656-e5d1-4492-8608-0d73bd3077f5"
      },
      "execution_count": null,
      "outputs": [
        {
          "output_type": "execute_result",
          "data": {
            "text/plain": [
              "(1, 7)"
            ]
          },
          "metadata": {},
          "execution_count": 110
        }
      ]
    },
    {
      "cell_type": "code",
      "source": [
        "def get_ensemble_model(horizon=HORIZON,\n",
        "                       train_data = train_dataset,\n",
        "                       test_data=test_dataset,\n",
        "                       num_iter=10,\n",
        "                       num_epochs=1000,\n",
        "                       loss_fn=[\"mae\",\"mse\",\"mape\"]):\n",
        "  \"\"\"\n",
        "  returns a list of num_iter models trained on each of the loss functions in loss_fn\n",
        "\n",
        "  For example, if num_iter=10, a list of 30 trained models will be returned:\n",
        "  10*len([\"mae\",\"mse\",\"mape\"])\n",
        "  \"\"\"\n",
        "  ensemble_models=[]\n",
        "\n",
        "  for i in range(num_iter):\n",
        "    for loss_function in loss_fn:\n",
        "      print(f\"Optimizing model by reducing: {loss_function} for {num_epochs} epochs, model number: {i}\")\n",
        "\n",
        "      model = tf.keras.Sequential([\n",
        "          layers.Dense(128, kernel_initializer=\"he_normal\", activation=\"relu\"),\n",
        "          layers.Dense(128, kernel_initializer=\"he_normal\", activation=\"relu\"),\n",
        "          layers.Dense(HORIZON)\n",
        "      ])\n",
        "\n",
        "      model.compile(loss=loss_function,\n",
        "                    optimizer = tf.keras.optimizers.Adam(),\n",
        "                    metrics=[\"mae\",\"mse\"])\n",
        "      model.fit(train_data,\n",
        "                epochs=num_epochs,\n",
        "                verbose=0,\n",
        "                validation_data=test_data,\n",
        "                callbacks=[tf.keras.callbacks.EarlyStopping(monitor=\"val_loss\",\n",
        "                                                        patience=200,\n",
        "                                                        restore_best_weights=True),\n",
        "                       tf.keras.callbacks.ReduceLROnPlateau(monitor=\"val_loss\",\n",
        "                                                            patience=100,\n",
        "                                                            verbose=1)])\n",
        "\n",
        "      ensemble_models.append(model)\n",
        "  return ensemble_models"
      ],
      "metadata": {
        "id": "S127vXs0Cd40"
      },
      "execution_count": null,
      "outputs": []
    },
    {
      "cell_type": "code",
      "source": [
        "%%time\n",
        "\n",
        "ensemble_models = get_ensemble_model(num_iter=5,\n",
        "                                      num_epochs=1000)"
      ],
      "metadata": {
        "colab": {
          "base_uri": "https://localhost:8080/"
        },
        "id": "QCtkns_AFdYq",
        "outputId": "752320e6-213c-4a2a-ea2d-01c4b9ebb5d6"
      },
      "execution_count": null,
      "outputs": [
        {
          "output_type": "stream",
          "name": "stdout",
          "text": [
            "Optimizing model by reducing: mae for 1000 epochs, model number: 0\n",
            "Optimizing model by reducing: mse for 1000 epochs, model number: 0\n",
            "\n",
            "Epoch 405: ReduceLROnPlateau reducing learning rate to 0.00010000000474974513.\n",
            "\n",
            "Epoch 577: ReduceLROnPlateau reducing learning rate to 1.0000000474974514e-05.\n",
            "\n",
            "Epoch 677: ReduceLROnPlateau reducing learning rate to 1.0000000656873453e-06.\n",
            "Optimizing model by reducing: mape for 1000 epochs, model number: 0\n",
            "\n",
            "Epoch 156: ReduceLROnPlateau reducing learning rate to 0.00010000000474974513.\n",
            "\n",
            "Epoch 267: ReduceLROnPlateau reducing learning rate to 1.0000000474974514e-05.\n",
            "\n",
            "Epoch 367: ReduceLROnPlateau reducing learning rate to 1.0000000656873453e-06.\n",
            "Optimizing model by reducing: mae for 1000 epochs, model number: 1\n",
            "\n",
            "Epoch 834: ReduceLROnPlateau reducing learning rate to 0.00010000000474974513.\n",
            "\n",
            "Epoch 934: ReduceLROnPlateau reducing learning rate to 1.0000000474974514e-05.\n",
            "Optimizing model by reducing: mse for 1000 epochs, model number: 1\n",
            "\n",
            "Epoch 330: ReduceLROnPlateau reducing learning rate to 0.00010000000474974513.\n",
            "\n",
            "Epoch 430: ReduceLROnPlateau reducing learning rate to 1.0000000474974514e-05.\n",
            "Optimizing model by reducing: mape for 1000 epochs, model number: 1\n",
            "\n",
            "Epoch 453: ReduceLROnPlateau reducing learning rate to 0.00010000000474974513.\n",
            "\n",
            "Epoch 568: ReduceLROnPlateau reducing learning rate to 1.0000000474974514e-05.\n",
            "\n",
            "Epoch 668: ReduceLROnPlateau reducing learning rate to 1.0000000656873453e-06.\n",
            "Optimizing model by reducing: mae for 1000 epochs, model number: 2\n",
            "\n",
            "Epoch 232: ReduceLROnPlateau reducing learning rate to 0.00010000000474974513.\n",
            "\n",
            "Epoch 525: ReduceLROnPlateau reducing learning rate to 1.0000000474974514e-05.\n",
            "\n",
            "Epoch 625: ReduceLROnPlateau reducing learning rate to 1.0000000656873453e-06.\n",
            "Optimizing model by reducing: mse for 1000 epochs, model number: 2\n",
            "\n",
            "Epoch 209: ReduceLROnPlateau reducing learning rate to 0.00010000000474974513.\n",
            "\n",
            "Epoch 309: ReduceLROnPlateau reducing learning rate to 1.0000000474974514e-05.\n",
            "Optimizing model by reducing: mape for 1000 epochs, model number: 2\n",
            "\n",
            "Epoch 196: ReduceLROnPlateau reducing learning rate to 0.00010000000474974513.\n",
            "\n",
            "Epoch 793: ReduceLROnPlateau reducing learning rate to 1.0000000474974514e-05.\n",
            "\n",
            "Epoch 895: ReduceLROnPlateau reducing learning rate to 1.0000000656873453e-06.\n",
            "\n",
            "Epoch 995: ReduceLROnPlateau reducing learning rate to 1.0000001111620805e-07.\n",
            "Optimizing model by reducing: mae for 1000 epochs, model number: 3\n",
            "Optimizing model by reducing: mse for 1000 epochs, model number: 3\n",
            "\n",
            "Epoch 534: ReduceLROnPlateau reducing learning rate to 0.00010000000474974513.\n",
            "\n",
            "Epoch 744: ReduceLROnPlateau reducing learning rate to 1.0000000474974514e-05.\n",
            "\n",
            "Epoch 844: ReduceLROnPlateau reducing learning rate to 1.0000000656873453e-06.\n",
            "Optimizing model by reducing: mape for 1000 epochs, model number: 3\n",
            "\n",
            "Epoch 144: ReduceLROnPlateau reducing learning rate to 0.00010000000474974513.\n",
            "\n",
            "Epoch 356: ReduceLROnPlateau reducing learning rate to 1.0000000474974514e-05.\n",
            "\n",
            "Epoch 456: ReduceLROnPlateau reducing learning rate to 1.0000000656873453e-06.\n",
            "Optimizing model by reducing: mae for 1000 epochs, model number: 4\n",
            "\n",
            "Epoch 694: ReduceLROnPlateau reducing learning rate to 0.00010000000474974513.\n",
            "Optimizing model by reducing: mse for 1000 epochs, model number: 4\n",
            "\n",
            "Epoch 763: ReduceLROnPlateau reducing learning rate to 0.00010000000474974513.\n",
            "\n",
            "Epoch 863: ReduceLROnPlateau reducing learning rate to 1.0000000474974514e-05.\n",
            "Optimizing model by reducing: mape for 1000 epochs, model number: 4\n",
            "\n",
            "Epoch 174: ReduceLROnPlateau reducing learning rate to 0.00010000000474974513.\n",
            "\n",
            "Epoch 624: ReduceLROnPlateau reducing learning rate to 1.0000000474974514e-05.\n",
            "\n",
            "Epoch 726: ReduceLROnPlateau reducing learning rate to 1.0000000656873453e-06.\n",
            "\n",
            "Epoch 826: ReduceLROnPlateau reducing learning rate to 1.0000001111620805e-07.\n",
            "CPU times: user 7min 45s, sys: 23.4 s, total: 8min 8s\n",
            "Wall time: 9min 43s\n"
          ]
        }
      ]
    },
    {
      "cell_type": "code",
      "source": [
        "def make_ensemble_preds(ensemble_models, data):\n",
        "  ensemble_preds=[]\n",
        "  for model in ensemble_models:\n",
        "    preds=model.predict(data)\n",
        "    ensemble_preds.append(preds)\n",
        "  return tf.constant(tf.squeeze(ensemble_preds))"
      ],
      "metadata": {
        "id": "uHKbInoqFrdL"
      },
      "execution_count": null,
      "outputs": []
    },
    {
      "cell_type": "code",
      "source": [
        "%%time\n",
        "ensemble_preds = make_ensemble_preds(ensemble_models=ensemble_models,\n",
        "                                     data=test_dataset)\n",
        "ensemble_preds"
      ],
      "metadata": {
        "colab": {
          "base_uri": "https://localhost:8080/"
        },
        "id": "4o4hQQQsG9ng",
        "outputId": "fc2d3336-4d13-43a6-c9d4-0112593b7e24"
      },
      "execution_count": null,
      "outputs": [
        {
          "output_type": "stream",
          "name": "stdout",
          "text": [
            "1/1 [==============================] - 0s 11ms/step\n",
            "1/1 [==============================] - 0s 42ms/step\n"
          ]
        },
        {
          "output_type": "stream",
          "name": "stderr",
          "text": [
            "WARNING:tensorflow:5 out of the last 29 calls to <function Model.make_predict_function.<locals>.predict_function at 0x7febc595bd00> triggered tf.function retracing. Tracing is expensive and the excessive number of tracings could be due to (1) creating @tf.function repeatedly in a loop, (2) passing tensors with different shapes, (3) passing Python objects instead of tensors. For (1), please define your @tf.function outside of the loop. For (2), @tf.function has reduce_retracing=True option that can avoid unnecessary retracing. For (3), please refer to https://www.tensorflow.org/guide/function#controlling_retracing and https://www.tensorflow.org/api_docs/python/tf/function for  more details.\n"
          ]
        },
        {
          "output_type": "stream",
          "name": "stdout",
          "text": [
            "1/1 [==============================] - 0s 44ms/step\n"
          ]
        },
        {
          "output_type": "stream",
          "name": "stderr",
          "text": [
            "WARNING:tensorflow:6 out of the last 30 calls to <function Model.make_predict_function.<locals>.predict_function at 0x7febc595bc70> triggered tf.function retracing. Tracing is expensive and the excessive number of tracings could be due to (1) creating @tf.function repeatedly in a loop, (2) passing tensors with different shapes, (3) passing Python objects instead of tensors. For (1), please define your @tf.function outside of the loop. For (2), @tf.function has reduce_retracing=True option that can avoid unnecessary retracing. For (3), please refer to https://www.tensorflow.org/guide/function#controlling_retracing and https://www.tensorflow.org/api_docs/python/tf/function for  more details.\n"
          ]
        },
        {
          "output_type": "stream",
          "name": "stdout",
          "text": [
            "1/1 [==============================] - 0s 50ms/step\n",
            "1/1 [==============================] - 0s 42ms/step\n",
            "1/1 [==============================] - 0s 42ms/step\n",
            "1/1 [==============================] - 0s 42ms/step\n",
            "1/1 [==============================] - 0s 48ms/step\n",
            "1/1 [==============================] - 0s 45ms/step\n",
            "1/1 [==============================] - 0s 41ms/step\n",
            "1/1 [==============================] - 0s 40ms/step\n",
            "1/1 [==============================] - 0s 48ms/step\n",
            "1/1 [==============================] - 0s 40ms/step\n",
            "1/1 [==============================] - 0s 41ms/step\n",
            "1/1 [==============================] - 0s 44ms/step\n",
            "CPU times: user 696 ms, sys: 34 ms, total: 730 ms\n",
            "Wall time: 800 ms\n"
          ]
        },
        {
          "output_type": "execute_result",
          "data": {
            "text/plain": [
              "<tf.Tensor: shape=(15, 737), dtype=float32, numpy=\n",
              "array([[33711.727, 31223.002, 32891.766, ..., 24966.195, 25062.139,\n",
              "        25222.645],\n",
              "       [35978.91 , 35038.297, 35239.03 , ..., 26899.314, 27295.795,\n",
              "        27060.79 ],\n",
              "       [35750.9  , 34601.977, 35664.023, ..., 26807.062, 27252.371,\n",
              "        27024.863],\n",
              "       ...,\n",
              "       [35981.277, 34235.81 , 35390.477, ..., 26717.908, 27088.893,\n",
              "        27148.549],\n",
              "       [36055.17 , 34086.27 , 35105.51 , ..., 26778.932, 27087.285,\n",
              "        27074.617],\n",
              "       [35478.15 , 35033.316, 35433.14 , ..., 26800.766, 27227.816,\n",
              "        27018.05 ]], dtype=float32)>"
            ]
          },
          "metadata": {},
          "execution_count": 126
        }
      ]
    },
    {
      "cell_type": "code",
      "source": [
        "ensemble_mean = tf.reduce_mean(ensemble_preds, axis=0)"
      ],
      "metadata": {
        "id": "KsPPmWOPIBY3"
      },
      "execution_count": null,
      "outputs": []
    },
    {
      "cell_type": "code",
      "source": [
        "ensemble_median = np.median(ensemble_preds, axis=0)"
      ],
      "metadata": {
        "id": "WDvvm0w4Igod"
      },
      "execution_count": null,
      "outputs": []
    },
    {
      "cell_type": "code",
      "source": [
        "ensemble_results_mean = evaluate_preds(y_test, ensemble_mean)\n",
        "ensemble_results_mean"
      ],
      "metadata": {
        "colab": {
          "base_uri": "https://localhost:8080/"
        },
        "id": "BEFDGoBCIpy2",
        "outputId": "5a8854a8-10c6-4f8a-af42-a34bf95450ba"
      },
      "execution_count": null,
      "outputs": [
        {
          "output_type": "execute_result",
          "data": {
            "text/plain": [
              "{'mae': 807.05176,\n",
              " 'mse': 1462846.1,\n",
              " 'rmse': 1209.4817,\n",
              " 'mape': 2.3578086,\n",
              " 'mase': 1.0168049}"
            ]
          },
          "metadata": {},
          "execution_count": 129
        }
      ]
    },
    {
      "cell_type": "code",
      "source": [
        "ensemble_results_median = evaluate_preds(y_test, ensemble_median)\n",
        "ensemble_results_median"
      ],
      "metadata": {
        "colab": {
          "base_uri": "https://localhost:8080/"
        },
        "id": "8GUjWRI8I2Er",
        "outputId": "4d22f7f1-3ab8-4d4d-8a9f-35e21bc1d4c4"
      },
      "execution_count": null,
      "outputs": [
        {
          "output_type": "execute_result",
          "data": {
            "text/plain": [
              "{'mae': 799.36865,\n",
              " 'mse': 1438969.4,\n",
              " 'rmse': 1199.5706,\n",
              " 'mape': 2.3328092,\n",
              " 'mase': 1.0071249}"
            ]
          },
          "metadata": {},
          "execution_count": 130
        }
      ]
    },
    {
      "cell_type": "markdown",
      "source": [
        "### Plotting the Prediction Intervals"
      ],
      "metadata": {
        "id": "mWOlXYeNJeL6"
      }
    },
    {
      "cell_type": "code",
      "source": [
        "def get_upper_lower(preds):\n",
        "  std = tf.math.reduce_std(preds,axis=0)\n",
        "  interval = 1.96 * std\n",
        "  preds_mean = tf.reduce_mean(preds, axis=0)\n",
        "  lower, upper = preds_mean-interval, preds_mean+interval\n",
        "  return lower, upper"
      ],
      "metadata": {
        "id": "o53lZGHyJi9L"
      },
      "execution_count": null,
      "outputs": []
    },
    {
      "cell_type": "code",
      "source": [
        "lower, upper = get_upper_lower(preds=ensemble_preds)\n"
      ],
      "metadata": {
        "id": "sIJujTAXNjfW"
      },
      "execution_count": null,
      "outputs": []
    },
    {
      "cell_type": "code",
      "source": [
        "offset = 500\n",
        "plt.figure(figsize=(10,7))\n",
        "plt.plot(X_test.index[offset:], y_test[offset:], \"-k\", label=\"Test Data\")\n",
        "plt.plot(X_test.index[offset:], ensemble_median[offset:], \"g\", label=\"Ensemble Median\")\n",
        "plt.xlabel(\"Data\")\n",
        "plt.ylabel(\"BTC Price\")\n",
        "plt.fill_between(X_test.index[offset:],\n",
        "                 (lower)[offset:],\n",
        "                 (upper)[offset:], label = \"Prediction Intervals\")\n",
        "plt.legend(loc=\"upper left\", fontsize=14)"
      ],
      "metadata": {
        "colab": {
          "base_uri": "https://localhost:8080/",
          "height": 636
        },
        "id": "Nhj_NGPhNsgR",
        "outputId": "71e60762-41af-4444-8753-aa06c7127465"
      },
      "execution_count": null,
      "outputs": [
        {
          "output_type": "execute_result",
          "data": {
            "text/plain": [
              "<matplotlib.legend.Legend at 0x7feb6c530a00>"
            ]
          },
          "metadata": {},
          "execution_count": 139
        },
        {
          "output_type": "display_data",
          "data": {
            "text/plain": [
              "<Figure size 1000x700 with 1 Axes>"
            ],
            "image/png": "[encoded data removed]"
          },
          "metadata": {}
        }
      ]
    },
    {
      "cell_type": "markdown",
      "source": [
        "## Model 8: Making Future Predictions"
      ],
      "metadata": {
        "id": "l4IfusU-Q9ay"
      }
    },
    {
      "cell_type": "code",
      "source": [
        "btc_price_windowed.head()"
      ],
      "metadata": {
        "colab": {
          "base_uri": "https://localhost:8080/",
          "height": 235
        },
        "id": "fdCSp_s6PLh8",
        "outputId": "a9aae124-f9c3-4f25-c53b-2f5b8ad3ba9c"
      },
      "execution_count": null,
      "outputs": [
        {
          "output_type": "execute_result",
          "data": {
            "text/plain": [
              "                 Price block_reward     Price+1     Price+2     Price+3  \\\n",
              "Date                                                                      \n",
              "2013-04-28  134.210007           25         NaN         NaN         NaN   \n",
              "2013-04-29  144.539993           25  134.210007         NaN         NaN   \n",
              "2013-04-30  139.000000           25  144.539993  134.210007         NaN   \n",
              "2013-05-01  116.989998           25  139.000000  144.539993  134.210007   \n",
              "2013-05-02  105.209999           25  116.989998  139.000000  144.539993   \n",
              "\n",
              "               Price+4  Price+5  Price+6  Price+7  \n",
              "Date                                               \n",
              "2013-04-28         NaN      NaN      NaN      NaN  \n",
              "2013-04-29         NaN      NaN      NaN      NaN  \n",
              "2013-04-30         NaN      NaN      NaN      NaN  \n",
              "2013-05-01         NaN      NaN      NaN      NaN  \n",
              "2013-05-02  134.210007      NaN      NaN      NaN  "
            ],
            "text/html": [
              "\n",
              "  <div id=\"df-48939dea-7b42-46c7-815d-9cb0a4e2c0ae\">\n",
              "    <div class=\"colab-df-container\">\n",
              "      <div>\n",
              "<style scoped>\n",
              "    .dataframe tbody tr th:only-of-type {\n",
              "        vertical-align: middle;\n",
              "    }\n",
              "\n",
              "    .dataframe tbody tr th {\n",
              "        vertical-align: top;\n",
              "    }\n",
              "\n",
              "    .dataframe thead th {\n",
              "        text-align: right;\n",
              "    }\n",
              "</style>\n",
              "<table border=\"1\" class=\"dataframe\">\n",
              "  <thead>\n",
              "    <tr style=\"text-align: right;\">\n",
              "      <th></th>\n",
              "      <th>Price</th>\n",
              "      <th>block_reward</th>\n",
              "      <th>Price+1</th>\n",
              "      <th>Price+2</th>\n",
              "      <th>Price+3</th>\n",
              "      <th>Price+4</th>\n",
              "      <th>Price+5</th>\n",
              "      <th>Price+6</th>\n",
              "      <th>Price+7</th>\n",
              "    </tr>\n",
              "    <tr>\n",
              "      <th>Date</th>\n",
              "      <th></th>\n",
              "      <th></th>\n",
              "      <th></th>\n",
              "      <th></th>\n",
              "      <th></th>\n",
              "      <th></th>\n",
              "      <th></th>\n",
              "      <th></th>\n",
              "      <th></th>\n",
              "    </tr>\n",
              "  </thead>\n",
              "  <tbody>\n",
              "    <tr>\n",
              "      <th>2013-04-28</th>\n",
              "      <td>134.210007</td>\n",
              "      <td>25</td>\n",
              "      <td>NaN</td>\n",
              "      <td>NaN</td>\n",
              "      <td>NaN</td>\n",
              "      <td>NaN</td>\n",
              "      <td>NaN</td>\n",
              "      <td>NaN</td>\n",
              "      <td>NaN</td>\n",
              "    </tr>\n",
              "    <tr>\n",
              "      <th>2013-04-29</th>\n",
              "      <td>144.539993</td>\n",
              "      <td>25</td>\n",
              "      <td>134.210007</td>\n",
              "      <td>NaN</td>\n",
              "      <td>NaN</td>\n",
              "      <td>NaN</td>\n",
              "      <td>NaN</td>\n",
              "      <td>NaN</td>\n",
              "      <td>NaN</td>\n",
              "    </tr>\n",
              "    <tr>\n",
              "      <th>2013-04-30</th>\n",
              "      <td>139.000000</td>\n",
              "      <td>25</td>\n",
              "      <td>144.539993</td>\n",
              "      <td>134.210007</td>\n",
              "      <td>NaN</td>\n",
              "      <td>NaN</td>\n",
              "      <td>NaN</td>\n",
              "      <td>NaN</td>\n",
              "      <td>NaN</td>\n",
              "    </tr>\n",
              "    <tr>\n",
              "      <th>2013-05-01</th>\n",
              "      <td>116.989998</td>\n",
              "      <td>25</td>\n",
              "      <td>139.000000</td>\n",
              "      <td>144.539993</td>\n",
              "      <td>134.210007</td>\n",
              "      <td>NaN</td>\n",
              "      <td>NaN</td>\n",
              "      <td>NaN</td>\n",
              "      <td>NaN</td>\n",
              "    </tr>\n",
              "    <tr>\n",
              "      <th>2013-05-02</th>\n",
              "      <td>105.209999</td>\n",
              "      <td>25</td>\n",
              "      <td>116.989998</td>\n",
              "      <td>139.000000</td>\n",
              "      <td>144.539993</td>\n",
              "      <td>134.210007</td>\n",
              "      <td>NaN</td>\n",
              "      <td>NaN</td>\n",
              "      <td>NaN</td>\n",
              "    </tr>\n",
              "  </tbody>\n",
              "</table>\n",
              "</div>\n",
              "      <button class=\"colab-df-convert\" onclick=\"convertToInteractive('df-48939dea-7b42-46c7-815d-9cb0a4e2c0ae')\"\n",
              "              title=\"Convert this dataframe to an interactive table.\"\n",
              "              style=\"display:none;\">\n",
              "        \n",
              "  <svg xmlns=\"http://www.w3.org/2000/svg\" height=\"24px\"viewBox=\"0 0 24 24\"\n",
              "       width=\"24px\">\n",
              "    <path d=\"M0 0h24v24H0V0z\" fill=\"none\"/>\n",
              "    <path d=\"M18.56 5.44l.94 2.06.94-2.06 2.06-.94-2.06-.94-.94-2.06-.94 2.06-2.06.94zm-11 1L8.5 8.5l.94-2.06 2.06-.94-2.06-.94L8.5 2.5l-.94 2.06-2.06.94zm10 10l.94 2.06.94-2.06 2.06-.94-2.06-.94-.94-2.06-.94 2.06-2.06.94z\"/><path d=\"M17.41 7.96l-1.37-1.37c-.4-.4-.92-.59-1.43-.59-.52 0-1.04.2-1.43.59L10.3 9.45l-7.72 7.72c-.78.78-.78 2.05 0 2.83L4 21.41c.39.39.9.59 1.41.59.51 0 1.02-.2 1.41-.59l7.78-7.78 2.81-2.81c.8-.78.8-2.07 0-2.86zM5.41 20L4 18.59l7.72-7.72 1.47 1.35L5.41 20z\"/>\n",
              "  </svg>\n",
              "      </button>\n",
              "      \n",
              "  <style>\n",
              "    .colab-df-container {\n",
              "      display:flex;\n",
              "      flex-wrap:wrap;\n",
              "      gap: 12px;\n",
              "    }\n",
              "\n",
              "    .colab-df-convert {\n",
              "      background-color: #E8F0FE;\n",
              "      border: none;\n",
              "      border-radius: 50%;\n",
              "      cursor: pointer;\n",
              "      display: none;\n",
              "      fill: #1967D2;\n",
              "      height: 32px;\n",
              "      padding: 0 0 0 0;\n",
              "      width: 32px;\n",
              "    }\n",
              "\n",
              "    .colab-df-convert:hover {\n",
              "      background-color: #E2EBFA;\n",
              "      box-shadow: 0px 1px 2px rgba(60, 64, 67, 0.3), 0px 1px 3px 1px rgba(60, 64, 67, 0.15);\n",
              "      fill: #174EA6;\n",
              "    }\n",
              "\n",
              "    [theme=dark] .colab-df-convert {\n",
              "      background-color: #3B4455;\n",
              "      fill: #D2E3FC;\n",
              "    }\n",
              "\n",
              "    [theme=dark] .colab-df-convert:hover {\n",
              "      background-color: #434B5C;\n",
              "      box-shadow: 0px 1px 3px 1px rgba(0, 0, 0, 0.15);\n",
              "      filter: drop-shadow(0px 1px 2px rgba(0, 0, 0, 0.3));\n",
              "      fill: #FFFFFF;\n",
              "    }\n",
              "  </style>\n",
              "\n",
              "      <script>\n",
              "        const buttonEl =\n",
              "          document.querySelector('#df-48939dea-7b42-46c7-815d-9cb0a4e2c0ae button.colab-df-convert');\n",
              "        buttonEl.style.display =\n",
              "          google.colab.kernel.accessAllowed ? 'block' : 'none';\n",
              "\n",
              "        async function convertToInteractive(key) {\n",
              "          const element = document.querySelector('#df-48939dea-7b42-46c7-815d-9cb0a4e2c0ae');\n",
              "          const dataTable =\n",
              "            await google.colab.kernel.invokeFunction('convertToInteractive',\n",
              "                                                     [key], {});\n",
              "          if (!dataTable) return;\n",
              "\n",
              "          const docLinkHtml = 'Like what you see? Visit the ' +\n",
              "            '<a target=\"_blank\" href=https://colab.research.google.com/notebooks/data_table.ipynb>data table notebook</a>'\n",
              "            + ' to learn more about interactive tables.';\n",
              "          element.innerHTML = '';\n",
              "          dataTable['output_type'] = 'display_data';\n",
              "          await google.colab.output.renderOutput(dataTable, element);\n",
              "          const docLink = document.createElement('div');\n",
              "          docLink.innerHTML = docLinkHtml;\n",
              "          element.appendChild(docLink);\n",
              "        }\n",
              "      </script>\n",
              "    </div>\n",
              "  </div>\n",
              "  "
            ]
          },
          "metadata": {},
          "execution_count": 140
        }
      ]
    },
    {
      "cell_type": "code",
      "source": [
        "X_all = btc_price_windowed.dropna().drop([\"Price\", \"block_reward\"], axis=1).to_numpy()\n",
        "y_all = btc_price_windowed.dropna()[\"Price\"].to_numpy()"
      ],
      "metadata": {
        "id": "ndHQUmG0RQV_"
      },
      "execution_count": null,
      "outputs": []
    },
    {
      "cell_type": "code",
      "source": [
        "features_dataset_all = tf.data.Dataset.from_tensor_slices(X_all)\n",
        "labels_dataset_all = tf.data.Dataset.from_tensor_slices(y_all)\n",
        "\n",
        "dataset_all = tf.data.Dataset.zip((features_dataset_all,labels_dataset_all))\n",
        "\n",
        "BATCH_SIZE=1024\n",
        "dataset_all = dataset_all.batch(BATCH_SIZE).prefetch(tf.data.AUTOTUNE)"
      ],
      "metadata": {
        "id": "hFNIh4ZTR5Pe"
      },
      "execution_count": null,
      "outputs": []
    },
    {
      "cell_type": "code",
      "source": [
        "model_9 = tf.keras.Sequential([\n",
        "    layers.Dense(128, activation=\"relu\"),\n",
        "    layers.Dense(128, activation=\"relu\"),\n",
        "    layers.Dense(HORIZON)\n",
        "])\n",
        "\n",
        "model_9.compile(loss=\"mae\",\n",
        "                optimizer = tf.keras.optimizers.Adam())\n",
        "\n",
        "model_9.fit(dataset_all,\n",
        "            epochs=100,\n",
        "            verbose=0)"
      ],
      "metadata": {
        "colab": {
          "base_uri": "https://localhost:8080/"
        },
        "id": "KituUJO1SSXm",
        "outputId": "f4f2022c-3b0d-4c79-90a4-aed682246775"
      },
      "execution_count": null,
      "outputs": [
        {
          "output_type": "execute_result",
          "data": {
            "text/plain": [
              "<keras.callbacks.History at 0x7feb75b57160>"
            ]
          },
          "metadata": {},
          "execution_count": 144
        }
      ]
    },
    {
      "cell_type": "code",
      "source": [
        "INTO_FUTURE =14"
      ],
      "metadata": {
        "id": "X5gojYTbS86_"
      },
      "execution_count": null,
      "outputs": []
    },
    {
      "cell_type": "code",
      "source": [
        "def make_future_forecasts(values, model, into_future =INTO_FUTURE, window_size=WINDOW_SIZE):\n",
        "  \"\"\"\n",
        "  Make future forecasts into_future steps after values ends.\n",
        "\n",
        "  Returns future forecasts as a list of floats\n",
        "  \"\"\"\n",
        "  future_forecast =[]\n",
        "  last_window = values[-window_size:]\n",
        "  for _ in range(into_future):\n",
        "    future_pred = model.predict(tf.expand_dims(last_window,axis=0))\n",
        "    print(f\"Predicting on: \\n {last_window} -> Prediction {tf.squeeze(future_pred).numpy()}\")\n",
        "\n",
        "    future_forecast.append(tf.squeeze(future_pred).numpy())\n",
        "    last_window = np.append(last_window, future_pred)[-window_size:]\n",
        "  return future_forecast"
      ],
      "metadata": {
        "id": "xu906b--UWvG"
      },
      "execution_count": null,
      "outputs": []
    },
    {
      "cell_type": "code",
      "source": [
        "future_forc = make_future_forecasts(y_all, model_9)"
      ],
      "metadata": {
        "colab": {
          "base_uri": "https://localhost:8080/"
        },
        "id": "1esl-v7TUfrB",
        "outputId": "b0bc292d-d317-41aa-d86a-9f9c4a9eab15"
      },
      "execution_count": null,
      "outputs": [
        {
          "output_type": "stream",
          "name": "stdout",
          "text": [
            "1/1 [==============================] - 0s 28ms/step\n",
            "Predicting on: \n",
            " [27745.88444355 27702.34877478 27219.65860811 26819.97321971\n",
            " 27249.58894909 27075.12939844 27119.06719313] -> Prediction 27876.0\n",
            "1/1 [==============================] - 0s 32ms/step\n",
            "Predicting on: \n",
            " [27702.34877478 27219.65860811 26819.97321971 27249.58894909\n",
            " 27075.12939844 27119.06719313 27876.        ] -> Prediction 27750.77734375\n",
            "1/1 [==============================] - 0s 27ms/step\n",
            "Predicting on: \n",
            " [27219.65860811 26819.97321971 27249.58894909 27075.12939844\n",
            " 27119.06719313 27876.         27750.77734375] -> Prediction 27286.244140625\n",
            "1/1 [==============================] - 0s 27ms/step\n",
            "Predicting on: \n",
            " [26819.97321971 27249.58894909 27075.12939844 27119.06719313\n",
            " 27876.         27750.77734375 27286.24414062] -> Prediction 27093.7265625\n",
            "1/1 [==============================] - 0s 29ms/step\n",
            "Predicting on: \n",
            " [27249.58894909 27075.12939844 27119.06719313 27876.\n",
            " 27750.77734375 27286.24414062 27093.7265625 ] -> Prediction 27419.392578125\n",
            "1/1 [==============================] - 0s 25ms/step\n",
            "Predicting on: \n",
            " [27075.12939844 27119.06719313 27876.         27750.77734375\n",
            " 27286.24414062 27093.7265625  27419.39257812] -> Prediction 27458.95703125\n",
            "1/1 [==============================] - 0s 26ms/step\n",
            "Predicting on: \n",
            " [27119.06719313 27876.         27750.77734375 27286.24414062\n",
            " 27093.7265625  27419.39257812 27458.95703125] -> Prediction 27657.56640625\n",
            "1/1 [==============================] - 0s 27ms/step\n",
            "Predicting on: \n",
            " [27876.         27750.77734375 27286.24414062 27093.7265625\n",
            " 27419.39257812 27458.95703125 27657.56640625] -> Prediction 27986.359375\n",
            "1/1 [==============================] - 0s 26ms/step\n",
            "Predicting on: \n",
            " [27750.77734375 27286.24414062 27093.7265625  27419.39257812\n",
            " 27458.95703125 27657.56640625 27986.359375  ] -> Prediction 27775.91796875\n",
            "1/1 [==============================] - 0s 26ms/step\n",
            "Predicting on: \n",
            " [27286.24414062 27093.7265625  27419.39257812 27458.95703125\n",
            " 27657.56640625 27986.359375   27775.91796875] -> Prediction 27417.89453125\n",
            "1/1 [==============================] - 0s 25ms/step\n",
            "Predicting on: \n",
            " [27093.7265625  27419.39257812 27458.95703125 27657.56640625\n",
            " 27986.359375   27775.91796875 27417.89453125] -> Prediction 27402.44921875\n",
            "1/1 [==============================] - 0s 31ms/step\n",
            "Predicting on: \n",
            " [27419.39257812 27458.95703125 27657.56640625 27986.359375\n",
            " 27775.91796875 27417.89453125 27402.44921875] -> Prediction 27710.640625\n",
            "1/1 [==============================] - 0s 27ms/step\n",
            "Predicting on: \n",
            " [27458.95703125 27657.56640625 27986.359375   27775.91796875\n",
            " 27417.89453125 27402.44921875 27710.640625  ] -> Prediction 27853.94140625\n",
            "1/1 [==============================] - 0s 27ms/step\n",
            "Predicting on: \n",
            " [27657.56640625 27986.359375   27775.91796875 27417.89453125\n",
            " 27402.44921875 27710.640625   27853.94140625] -> Prediction 28002.984375\n"
          ]
        }
      ]
    },
    {
      "cell_type": "code",
      "source": [
        "def get_future_dates(start_date, into_future=INTO_FUTURE, offset = 1):\n",
        "  \"\"\"\n",
        "  Returns array of datetime values ranging from start_date to start_date+into_future\n",
        "  \"\"\"\n",
        "  start_date = start_date + np.timedelta64(offset, \"D\")\n",
        "  end_date = start_date + np.timedelta64(into_future, \"D\")\n",
        "  return np.arange(start_date, end_date, dtype=\"datetime64[D]\")"
      ],
      "metadata": {
        "id": "Q02rar_rWCUP"
      },
      "execution_count": null,
      "outputs": []
    },
    {
      "cell_type": "code",
      "source": [
        "last_timestep = btc_price.index[-1]"
      ],
      "metadata": {
        "id": "AXbMj3qJXFCG"
      },
      "execution_count": null,
      "outputs": []
    },
    {
      "cell_type": "code",
      "source": [
        "next_time_steps = get_future_dates(start_date= last_timestep)\n",
        "next_time_steps"
      ],
      "metadata": {
        "colab": {
          "base_uri": "https://localhost:8080/"
        },
        "id": "ImgMt8TsXLgQ",
        "outputId": "8b86e84d-abb2-468e-f785-290aa5d56d3c"
      },
      "execution_count": null,
      "outputs": [
        {
          "output_type": "execute_result",
          "data": {
            "text/plain": [
              "array(['2023-06-05', '2023-06-06', '2023-06-07', '2023-06-08',\n",
              "       '2023-06-09', '2023-06-10', '2023-06-11', '2023-06-12',\n",
              "       '2023-06-13', '2023-06-14', '2023-06-15', '2023-06-16',\n",
              "       '2023-06-17', '2023-06-18'], dtype='datetime64[D]')"
            ]
          },
          "metadata": {},
          "execution_count": 166
        }
      ]
    },
    {
      "cell_type": "code",
      "source": [
        "plt.figure(figsize=(10,7))\n",
        "plot_ts_data(btc_price.index, btc_price, start=2500, format=\"-\", label=\"Actual BTC Price\")\n",
        "plot_ts_data(next_time_steps, future_forc, format=\"-\", label=\"Predicted BTC Price\")"
      ],
      "metadata": {
        "colab": {
          "base_uri": "https://localhost:8080/",
          "height": 619
        },
        "id": "d38XyFmvXaP5",
        "outputId": "ed230200-578a-40ed-dbb3-949cd33b14b5"
      },
      "execution_count": null,
      "outputs": [
        {
          "output_type": "display_data",
          "data": {
            "text/plain": [
              "<Figure size 1000x700 with 1 Axes>"
            ],
            "image/png": "[encoded data removed]"
          },
          "metadata": {}
        }
      ]
    },
    {
      "cell_type": "code",
      "source": [],
      "metadata": {
        "id": "Uk0geRLqX_mE"
      },
      "execution_count": null,
      "outputs": []
    }
  ],
  "metadata": {
    "accelerator": "GPU",
    "colab": {
      "toc_visible": true,
      "provenance": [],
      "gpuType": "T4"
    },
    "kernelspec": {
      "display_name": "Python 3",
      "name": "python3"
    },
    "language_info": {
      "name": "python"
    }
  },
  "nbformat": 4,
  "nbformat_minor": 0
}
